{
 "cells": [
  {
   "cell_type": "markdown",
   "metadata": {},
   "source": [
    "IA & Data science (LU3IN0226) -- 2022-2023\n",
    "--------\n",
    "*&copy; Equipe pédagogique: Christophe Marsala, Olivier Schwander, Jean-Noël Vittaut.*"
   ]
  },
  {
   "cell_type": "markdown",
   "metadata": {},
   "source": [
    "<font size=\"+1\" color=\"RED\"><b>[Q]</b></font> <font size=\"+1\"><b>Indiquer dans la boîte ci-dessous vos noms et prénoms :</b></font>"
   ]
  },
  {
   "cell_type": "markdown",
   "metadata": {},
   "source": [
    "Baris Kaftancioglu\n",
    "Chadi Tawbi\n"
   ]
  },
  {
   "cell_type": "markdown",
   "metadata": {},
   "source": [
    "Ce projet peut être fait en binôme (et c'est fortement conseillé) ou tout seul.\n",
    "\n",
    "Le nom de chaque membre du binôme doit être indiqué, et un seul rendu sur un des deux comptes Moodle doit être fait.\n",
    "\n",
    "Les groupes de plus de 2 personnes ne sont pas autorisés."
   ]
  },
  {
   "cell_type": "markdown",
   "metadata": {},
   "source": [
    "<font color=\"RED\" size=\"+1\"><b>[Q]</b></font> **Renommer ce fichier ipython**\n",
    "\n",
    "Tout en haut de cette page, cliquer sur <tt>projet-2</tt> et rajouter à la suite de <tt>projet-2</tt> les noms des membres du binômes séparés par un tiret.\n",
    "\n",
    "<font color=\"RED\" size=\"+1\">IMPORTANT: soumission de votre fichier final</font>\n",
    "\n",
    "**Nom à donner au notebook** : *projet-2-Nom1_Nom2.ipynb* \n",
    "- *Nom1* et *Nom2* : noms des membres du binôme\n",
    "\n",
    "**Le compte-rendu doit être rendu sur la page Moodle.**"
   ]
  },
  {
   "cell_type": "markdown",
   "metadata": {},
   "source": [
    "# Projet 2 - avril-mai 2023\n",
    "\n",
    "\n",
    "<font size=\"+1\" color=\"RED\"><b>Date de rendu : lundi 22 mai 2023, avant 18h</b></font>\n",
    "    \n",
    "<b>Attention! le site Moodle ferme à 18h pile !</b> prévoyez de vous y connecter au moins 15mn avant la fermeture...\n",
    "\n",
    "Vous devez compléter ce notebook en rajoutant vos expérimentations avec vos algorithmes d'apprentissage sur les données fournies dans le répertoire `data`.\n",
    "\n",
    "## Travail à faire\n",
    "\n",
    "Appliquer les algorithmes d'apprentissage vus tout au long du semestre sur les données afin de mettre en évidence des résultats intéressants.\n",
    "Deux problèmes, au moins, doivent être traités:\n",
    "- un problème d'apprentissage supervisé\n",
    "- un problème d'apprentissage non supervisé\n",
    "\n",
    "\n",
    "## Travail à rendre\n",
    "Ce qui doit être remis avant la date limite : un fichier archive (`.tar`, `.tgz`, ou `.zip` uniquement) contenant:\n",
    "- ce notebook complété. Il doit pouvoir être exécuté sans autre apport (pensez à vous en assurer avant de le rendre). \n",
    "- votre librairie iads sous la forme d'une archive avec votre répertoire `iads/` contenant tous les fichiers nécessaires \n",
    "- un fichier PDF dont le nom est de la forme: *projet-1-Nom1_Nom2.pdf* qui correspond à un poster décrivant l'ensemble des expérimentations menées et les résultats obtenus.\n",
    "\n",
    "\n",
    "<b>IMPORTANT</b>: \n",
    "- Les fichiers de données ne doivent pas être inclus dans votre archive ! \n",
    "- Pensez à vérifier que votre archive contient bien tous les fichiers demandés et QUE les fichiers demandés.\n",
    "\n",
    "## Soutenance des projets\n",
    "La soutenance aura lieu le <font size=\"+1\" color=\"RED\">**mercredi 24 mai 2023**</font>, à partir de 14h. Un ordre de passage ainsi que la salle de TME où aura lieu les soutenances seront affichées sur le Moodle la veille.\n",
    "\n",
    "La <b>soutenance est obligatoire</b> : tout projet pour lequel une soutenance n'a pas eu lieu sera noté $0$.\n",
    "\n",
    "Modalités de la soutenance:\n",
    "- durée de la soutenance : 10 mn pour un binôme, 7 mn pour un monôme ;\n",
    "- elle a lieu devant un ordinateur avec le notebook et le poster comme support ;\n",
    "    - elle commence par une rapide présentation des expérimentations réalisées et résultats obtenus (max. 4 à 5mns)\n",
    "    - puis elle se poursuit par des questions posées individuellement aux membres du binômes sur les expériences ou le code python réalisé.\n",
    "- la note de soutenance est individuelle pour chaque membre d'un binôme.\n",
    "\n",
    "\n"
   ]
  },
  {
   "cell_type": "markdown",
   "metadata": {},
   "source": [
    "**Très important** : les fichiers de données doivent être placés de façon à respecter la structure de fichiers suivante :\n",
    "\n",
    "          --iads/\n",
    "              -- Classifiers.py\n",
    "              -- etc.\n",
    "          -- projet/\n",
    "              -- ce_notebook.ipynb\n",
    "              -- data/\n",
    "                  -- AGRIBALYSE3-ingredients.csv\n",
    "                  -- AGRIBALYSE3-etapes.csv\n",
    "                  -- AGRIBALYSE3-synthese.csv\n",
    "\n",
    "\n",
    "Dans le notebook que vous rendrez, le chargement des fichiers de données considèrera donc cette arborescence.\n"
   ]
  },
  {
   "cell_type": "markdown",
   "metadata": {},
   "source": [
    "# Les données Agribalyse (version 3.1)\n",
    "\n",
    "Les données sont issues des données publiques du site de l'ADEME: https://agribalyse.ademe.fr/\n",
    "Il est conseillé de parcourir la documentation de ces données sur le site ci-dessus pour se familiariser avec les différentes informations qu'elles fournissent.\n",
    "\n",
    "Pour ce projet, vous travaillerez sur les données sur les produits alimentaires dont la version originale est visible ici : https://doc.agribalyse.fr/documentation/acces-donnees\n",
    "\n",
    "Si vous n'arrivez pas à télécharger ou à ouvrir ce fichier, des versions de ce fichier au format libreoffice et au format Excel 97 sont fournies dans l'archive `data_tableur`. Il est conseillé de regarder un de ces fichiers car vous y trouverez des informations complémentaires sur les noms des colonnes des 3 fichiers CSV de `data` décrits ci-dessous.\n",
    "\n",
    "Pour vous aider à manipuler les données nous vous fournissons dans l'archive `data` : les 3 tables du fichiers sont fournies sous la forme de 3 fichiers CSV directement lisibles par la commande `read_csv` de Pandas (le séparateur de colonnes est le `';'`). Ce sont ces 3 fichiers à utiliser dans votre notebook. Un exemple de chargement est donné plus loin dans ce notebook. Les fichiers sont:\n",
    "- AGRIBALYSE3-ingredients.csv\n",
    "- AGRIBALYSE3-etapes.csv\n",
    "- AGRIBALYSE3-synthese.csv\n",
    "\n",
    "**Remarque**: les données Agribalyse de 2021 ont fait l'objet du projet de l'an dernier, cette année c'est une nouvelle version étendue de ces données qui sont utilisées pour ce projet, nous attendons donc des analyses qui tirent partie des nouveautés de cette nouvelle version."
   ]
  },
  {
   "cell_type": "markdown",
   "metadata": {},
   "source": [
    "## Exemples"
   ]
  },
  {
   "cell_type": "code",
   "execution_count": 1,
   "metadata": {},
   "outputs": [
    {
     "name": "stderr",
     "output_type": "stream",
     "text": [
      "C:\\Users\\chadi\\anaconda3\\lib\\site-packages\\scipy\\__init__.py:138: UserWarning: A NumPy version >=1.16.5 and <1.23.0 is required for this version of SciPy (detected version 1.24.3)\n",
      "  warnings.warn(f\"A NumPy version >={np_minversion} and <{np_maxversion} is required for this version of \"\n"
     ]
    }
   ],
   "source": [
    "# Importation des librairies standards:\n",
    "import numpy as np\n",
    "import pandas as pd\n",
    "import matplotlib.pyplot as plt\n",
    "import copy\n",
    "%matplotlib inline  \n",
    "\n",
    "# Importation de votre librairie iads:\n",
    "# La ligne suivante permet de préciser le chemin d'accès à la librairie iads\n",
    "import sys\n",
    "sys.path.append('../')   # iads doit être dans le répertoire frère du répertoire courant !\n",
    "\n",
    "# Importation de la librairie iads\n",
    "import iads as iads\n",
    "\n",
    "# importation de Classifiers\n",
    "from iads import Classifiers as cl\n",
    "\n",
    "# importation de utils\n",
    "from iads import utils as ut\n",
    "\n",
    "# importation de evaluation\n",
    "from iads import evaluation as ev\n",
    "\n",
    "# importation de Clustering\n",
    "from iads import Clustering as clust\n",
    "\n",
    "import warnings\n",
    "# Filter specific warning messages\n",
    "warnings.filterwarnings(\"ignore\", category=DeprecationWarning)\n",
    "\n",
    "# commande TRES utile pour recharger automatiquement le code que vous modifiez dans les modules\n",
    "%load_ext autoreload\n",
    "%autoreload 2"
   ]
  },
  {
   "cell_type": "code",
   "execution_count": 2,
   "metadata": {},
   "outputs": [
    {
     "name": "stdout",
     "output_type": "stream",
     "text": [
      "Nombre de lignes:  2517\n",
      "Nombre de colonnes:  29\n"
     ]
    }
   ],
   "source": [
    "data_synthese = pd.read_csv(\"data/AGRIBALYSE3-synthese.csv\", sep=';') \n",
    "data_synthese.columns\n",
    "print(\"Nombre de lignes: \",len(data_synthese))\n",
    "print(\"Nombre de colonnes: \",len(data_synthese.columns))"
   ]
  },
  {
   "cell_type": "code",
   "execution_count": 3,
   "metadata": {},
   "outputs": [
    {
     "name": "stdout",
     "output_type": "stream",
     "text": [
      "col  0 :  Code AGB\n",
      "col  1 :  Code CIQUAL\n",
      "col  2 :  Groupe d'aliment\n",
      "col  3 :  Sous-groupe d'aliment\n",
      "col  4 :  Nom du Produit en Français\n",
      "col  5 :  LCI Name\n",
      "col  6 :  code saison\n",
      "col  7 :  code avion\n",
      "col  8 :  Livraison\n",
      "col  9 :  Matériau d'emballage\n",
      "col  10 :  Préparation\n",
      "col  11 :  DQR \tmoyenne =  2.7681644815256257\n",
      "col  12 :  Score unique EF 3.1 \tmoyenne =  0.6889596344854987\n",
      "col  13 :  Changement climatique \tmoyenne =  5.420519666269368\n",
      "col  14 :  Appauvrissement de la couche d'ozone \tmoyenne =  5.383361620977354e-07\n",
      "col  15 :  Rayonnements ionisants \tmoyenne =  1.016821692491061\n",
      "col  16 :  Formation photochimique d'ozone \tmoyenne =  0.021625918156535556\n",
      "col  17 :  Particules fines \tmoyenne =  5.735583075089393e-07\n",
      "col  18 :  Effets toxicologiques sur la santé humaine : substances non-cancérogènes \tmoyenne =  1.0743762415574097e-07\n",
      "col  19 :  Effets toxicologiques sur la santé humaine : substances cancérogènes \tmoyenne =  3.8854543504171635e-09\n",
      "col  20 :  Acidification terrestre et eaux douces \tmoyenne =  0.07895298053237983\n",
      "col  21 :  Eutrophisation eaux douces \tmoyenne =  0.0008419094557012317\n",
      "col  22 :  Eutrophisation marine \tmoyenne =  0.028193528009535167\n",
      "col  23 :  Eutrophisation terrestre \tmoyenne =  0.31052913388955106\n",
      "col  24 :  Écotoxicité pour écosystèmes aquatiques d'eau douce \tmoyenne =  54.213323798172425\n",
      "col  25 :  Utilisation du sol \tmoyenne =  328.598126340882\n",
      "col  26 :  Épuisement des ressources eau \tmoyenne =  5.726230393325387\n",
      "col  27 :  Épuisement des ressources énergétiques \tmoyenne =  49.79915772745332\n",
      "col  28 :  Épuisement des ressources minéraux \tmoyenne =  2.2019833929280892e-05\n"
     ]
    }
   ],
   "source": [
    "for i in range(0,len(data_synthese.columns)):\n",
    "    if i>10:\n",
    "        print(\"col \",i,\": \",data_synthese.columns[i], \"\\tmoyenne = \",data_synthese[data_synthese.columns[i]].mean())\n",
    "    else:\n",
    "        print(\"col \",i,\": \",data_synthese.columns[i])"
   ]
  },
  {
   "cell_type": "code",
   "execution_count": 4,
   "metadata": {},
   "outputs": [
    {
     "name": "stdout",
     "output_type": "stream",
     "text": [
      "Nombre de lignes:  2517\n",
      "Nombre de colonnes:  132\n"
     ]
    }
   ],
   "source": [
    "data_etapes = pd.read_csv(\"data/AGRIBALYSE3-etapes.csv\", sep=';') \n",
    "data_etapes.columns\n",
    "print(\"Nombre de lignes: \",len(data_etapes))\n",
    "print(\"Nombre de colonnes: \",len(data_etapes.columns))"
   ]
  },
  {
   "cell_type": "code",
   "execution_count": 5,
   "metadata": {
    "scrolled": false
   },
   "outputs": [
    {
     "name": "stdout",
     "output_type": "stream",
     "text": [
      "col  0 :  Code AGB\n",
      "col  1 :  Code CIQUAL\n",
      "col  2 :  Groupe d aliment\n",
      "col  3 :  Sous-groupe d aliment\n",
      "col  4 :  Nom du Produit en Français\n",
      "col  5 :  LCI Name\n",
      "col  6 :  DQR\n",
      "col  7 :  Nom et code\n",
      "col  8 :  Agriculture\n",
      "col  9 :  Transformation\n",
      "col  10 :  Emballage\n",
      "col  11 :  Transport\n",
      "col  12 :  Supermarché et distribution\n",
      "col  13 :  Consommation\n",
      "col  14 :  Total\n",
      "col  15 :  Agriculture.1\n",
      "col  16 :  Transformation.1\n",
      "col  17 :  Emballage.1\n",
      "col  18 :  Transport.1\n",
      "col  19 :  Supermarché et distribution.1\n",
      "col  20 :  Consommation.1\n",
      "col  21 :  Total.1\n",
      "col  22 :  Agriculture.2\n",
      "col  23 :  Transformation.2\n",
      "col  24 :  Emballage.2\n",
      "col  25 :  Transport.2\n",
      "col  26 :  Supermarché et distribution.2\n",
      "col  27 :  Consommation.2\n",
      "col  28 :  Total.2\n",
      "col  29 :  Agriculture.3\n",
      "col  30 :  Transformation.3\n",
      "col  31 :  Emballage.3\n",
      "col  32 :  Transport.3\n",
      "col  33 :  Supermarché et distribution.3\n",
      "col  34 :  Consommation.3\n",
      "col  35 :  Total.3\n",
      "col  36 :  Agriculture.4\n",
      "col  37 :  Transformation.4\n",
      "col  38 :  Emballage.4\n",
      "col  39 :  Transport.4\n",
      "col  40 :  Supermarché et distribution.4\n",
      "col  41 :  Consommation.4\n",
      "col  42 :  Total.4\n",
      "col  43 :  Agriculture.5\n",
      "col  44 :  Transformation.5\n",
      "col  45 :  Emballage.5\n",
      "col  46 :  Transport.5\n",
      "col  47 :  Supermarché et distribution.5\n",
      "col  48 :  Consommation.5\n",
      "col  49 :  Total.5\n",
      "col  50 :  Agriculture.6\n",
      "col  51 :  Transformation.6\n",
      "col  52 :  Emballage.6\n",
      "col  53 :  Transport.6\n",
      "col  54 :  Supermarché et distribution.6\n",
      "col  55 :  Consommation.6\n",
      "col  56 :  Total.6\n",
      "col  57 :  Agriculture.7\n",
      "col  58 :  Transformation.7\n",
      "col  59 :  Emballage.7\n",
      "col  60 :  Transport.7\n",
      "col  61 :  Supermarché et distribution.7\n",
      "col  62 :  Consommation.7\n",
      "col  63 :  Total.7\n",
      "col  64 :  Agriculture.8\n",
      "col  65 :  Transformation.8\n",
      "col  66 :  Emballage.8\n",
      "col  67 :  Transport.8\n",
      "col  68 :  Supermarché et distribution.8\n",
      "col  69 :  Consommation.8\n",
      "col  70 :  Total.8\n",
      "col  71 :  Agriculture.9\n",
      "col  72 :  Transformation.9\n",
      "col  73 :  Emballage.9\n",
      "col  74 :  Transport.9\n",
      "col  75 :  Supermarché et distribution.9\n",
      "col  76 :  Consommation.9\n",
      "col  77 :  Total.9\n",
      "col  78 :  Agriculture.10\n",
      "col  79 :  Transformation.10\n",
      "col  80 :  Emballage.10\n",
      "col  81 :  Transport.10\n",
      "col  82 :  Supermarché et distribution.10\n",
      "col  83 :  Consommation.10\n",
      "col  84 :  Total.10\n",
      "col  85 :  Agriculture.11\n",
      "col  86 :  Transformation.11\n",
      "col  87 :  Emballage.11\n",
      "col  88 :  Transport.11\n",
      "col  89 :  Supermarché et distribution.11\n",
      "col  90 :  Consommation.11\n",
      "col  91 :  Total.11\n",
      "col  92 :  Agriculture.12\n",
      "col  93 :  Transformation.12\n",
      "col  94 :  Emballage.12\n",
      "col  95 :  Transport.12\n",
      "col  96 :  Supermarché et distribution.12\n",
      "col  97 :  Consommation.12\n",
      "col  98 :  Total.12\n",
      "col  99 :  Agriculture.13\n",
      "col  100 :  Transformation.13\n",
      "col  101 :  Emballage.13\n",
      "col  102 :  Transport.13\n",
      "col  103 :  Supermarché et distribution.13\n",
      "col  104 :  Consommation.13\n",
      "col  105 :  Total.13\n",
      "col  106 :  Agriculture.14\n",
      "col  107 :  Transformation.14\n",
      "col  108 :  Emballage.14\n",
      "col  109 :  Transport.14\n",
      "col  110 :  Supermarché et distribution.14\n",
      "col  111 :  Consommation.14\n",
      "col  112 :  Total.14\n",
      "col  113 :  Agriculture.15\n",
      "col  114 :  Transformation.15\n",
      "col  115 :  Emballage.15\n",
      "col  116 :  Transport.15\n",
      "col  117 :  Supermarché et distribution.15\n",
      "col  118 :  Consommation.15\n",
      "col  119 :  Total.15\n",
      "col  120 :  Agriculture.16\n",
      "col  121 :  Transformation.16\n",
      "col  122 :  Emballage.16\n",
      "col  123 :  Transport.16\n",
      "col  124 :  Supermarché et distribution.16\n",
      "col  125 :  Consommation.16\n",
      "col  126 :  Total.16\n",
      "col  127 :  DQR Overall\n",
      "col  128 :  P\n",
      "col  129 :  TiR\n",
      "col  130 :  GR\n",
      "col  131 :  TeR\n"
     ]
    }
   ],
   "source": [
    "for i in range(0,len(data_etapes.columns)):\n",
    "    print(\"col \",i,\": \",data_etapes.columns[i])"
   ]
  },
  {
   "cell_type": "code",
   "execution_count": 6,
   "metadata": {
    "scrolled": false
   },
   "outputs": [
    {
     "name": "stdout",
     "output_type": "stream",
     "text": [
      "Quelques infos :\n",
      "----\n",
      "Agriculture \tmoyenne =  0.5684966870458402\n",
      "Transformation \tmoyenne =  0.056136918226633296\n",
      "Emballage \tmoyenne =  0.02242675546471593\n",
      "Transport \tmoyenne =  0.026165883152808902\n",
      "Supermarché et distribution \tmoyenne =  0.007877125406877234\n",
      "Consommation \tmoyenne =  0.007633790367775129\n",
      "Total \tmoyenne =  0.6887371596646508\n",
      "----\n",
      "Agriculture.1 \tmoyenne =  4.2834051017208985\n",
      "Transformation.1 \tmoyenne =  0.49566790046860953\n",
      "Emballage.1 \tmoyenne =  0.2551146021668653\n",
      "Transport.1 \tmoyenne =  0.31395988182510925\n",
      "Supermarché et distribution.1 \tmoyenne =  0.03147132845606277\n",
      "Consommation.1 \tmoyenne =  0.042848097985971396\n",
      "Total.1 \tmoyenne =  5.422466912623516\n",
      "----\n",
      "Agriculture.2 \tmoyenne =  3.3849700977868895e-07\n",
      "Transformation.2 \tmoyenne =  3.346837165345689e-08\n",
      "Emballage.2 \tmoyenne =  8.733627654263806e-08\n",
      "Transport.2 \tmoyenne =  7.395954808027414e-08\n",
      "Supermarché et distribution.2 \tmoyenne =  2.4693114096368693e-09\n",
      "Consommation.2 \tmoyenne =  2.6369538328196267e-09\n",
      "Total.2 \tmoyenne =  5.38367471297594e-07\n",
      "----\n",
      "Agriculture.3 \tmoyenne =  0.22347594415358202\n",
      "Transformation.3 \tmoyenne =  0.5096895828840635\n",
      "Emballage.3 \tmoyenne =  0.026443116230250297\n",
      "Transport.3 \tmoyenne =  0.020708397043810094\n",
      "Supermarché et distribution.3 \tmoyenne =  0.12428980926908742\n",
      "Consommation.3 \tmoyenne =  0.11212322565223579\n",
      "Total.3 \tmoyenne =  1.016730075233029\n",
      "----\n",
      "Agriculture.4 \tmoyenne =  0.018124962240729993\n",
      "Transformation.4 \tmoyenne =  0.0011453623181971711\n",
      "Emballage.4 \tmoyenne =  0.0007314176762902265\n",
      "Transport.4 \tmoyenne =  0.0014836005704080254\n",
      "Supermarché et distribution.4 \tmoyenne =  6.676431156404052e-05\n",
      "Consommation.4 \tmoyenne =  7.666149406531981e-05\n",
      "Total.4 \tmoyenne =  0.02162876861125478\n",
      "----\n",
      "Agriculture.5 \tmoyenne =  0.000521405112709536\n",
      "Transformation.5 \tmoyenne =  1.912008494381248e-05\n",
      "Emballage.5 \tmoyenne =  1.1335613299139849e-05\n",
      "Transport.5 \tmoyenne =  1.9328471702804928e-05\n",
      "Supermarché et distribution.5 \tmoyenne =  1.3286906450673422e-06\n",
      "Consommation.5 \tmoyenne =  1.2579847468561782e-06\n",
      "Total.5 \tmoyenne =  0.0005737759580472168\n",
      "----\n",
      "Agriculture.6 \tmoyenne =  9.718748033812476e-05\n",
      "Transformation.6 \tmoyenne =  4.748341800434684e-06\n",
      "Emballage.6 \tmoyenne =  1.5496776170369488e-06\n",
      "Transport.6 \tmoyenne =  2.6674671603893524e-06\n",
      "Supermarché et distribution.6 \tmoyenne =  6.102224520907033e-07\n",
      "Consommation.6 \tmoyenne =  6.866494222022248e-07\n",
      "Total.6 \tmoyenne =  0.00010744983879027864\n",
      "----\n",
      "Agriculture.7 \tmoyenne =  0.0003271399459962495\n",
      "Transformation.7 \tmoyenne =  2.7288002301783866e-05\n",
      "Emballage.7 \tmoyenne =  1.6013641315341676e-05\n",
      "Transport.7 \tmoyenne =  1.2757204312951928e-05\n",
      "Supermarché et distribution.7 \tmoyenne =  2.612588474352404e-06\n",
      "Consommation.7 \tmoyenne =  2.654884403709575e-06\n",
      "Total.7 \tmoyenne =  0.00038846626680438893\n",
      "----\n",
      "Agriculture.8 \tmoyenne =  0.07411992747055454\n",
      "Transformation.8 \tmoyenne =  0.001929420653405244\n",
      "Emballage.8 \tmoyenne =  0.0009938508669833136\n",
      "Transport.8 \tmoyenne =  0.0016654054182892331\n",
      "Supermarché et distribution.8 \tmoyenne =  0.0001337620897774732\n",
      "Consommation.8 \tmoyenne =  0.00012646567892165276\n",
      "Total.8 \tmoyenne =  0.07896883217793148\n",
      "----\n",
      "Agriculture.9 \tmoyenne =  0.0006482900240314145\n",
      "Transformation.9 \tmoyenne =  9.650625283613507e-05\n",
      "Emballage.9 \tmoyenne =  4.770915136690505e-05\n",
      "Transport.9 \tmoyenne =  2.1808963516626936e-05\n",
      "Supermarché et distribution.9 \tmoyenne =  7.89633153203377e-06\n",
      "Consommation.9 \tmoyenne =  9.623633183190307e-06\n",
      "Total.9 \tmoyenne =  0.0008318343564663055\n",
      "----\n",
      "Agriculture.10 \tmoyenne =  0.02606458948192888\n",
      "Transformation.10 \tmoyenne =  0.0013067283733852206\n",
      "Emballage.10 \tmoyenne =  0.00021445496123043305\n",
      "Transport.10 \tmoyenne =  0.0004683217044035757\n",
      "Supermarché et distribution.10 \tmoyenne =  2.9835140009026618e-05\n",
      "Consommation.10 \tmoyenne =  4.7425795057620184e-05\n",
      "Total.10 \tmoyenne =  0.028131355456014757\n",
      "----\n",
      "Agriculture.11 \tmoyenne =  0.29734929464111165\n",
      "Transformation.11 \tmoyenne =  0.005652233602072864\n",
      "Emballage.11 \tmoyenne =  0.0019908671240210568\n",
      "Transport.11 \tmoyenne =  0.005119353187081843\n",
      "Supermarché et distribution.11 \tmoyenne =  0.0002525249092678188\n",
      "Consommation.11 \tmoyenne =  0.00024866463985077474\n",
      "Total.11 \tmoyenne =  0.310612938103406\n",
      "----\n",
      "Agriculture.12 \tmoyenne =  48.988839142870084\n",
      "Transformation.12 \tmoyenne =  2.5497224944965\n",
      "Emballage.12 \tmoyenne =  0.7692215217318236\n",
      "Transport.12 \tmoyenne =  1.5533179060325786\n",
      "Supermarché et distribution.12 \tmoyenne =  0.13806092456130314\n",
      "Consommation.12 \tmoyenne =  0.18844663102526818\n",
      "Total.12 \tmoyenne =  54.187608620717555\n",
      "----\n",
      "Agriculture.13 \tmoyenne =  310.9915033641982\n",
      "Transformation.13 \tmoyenne =  13.675075234293013\n",
      "Emballage.13 \tmoyenne =  1.3458717057608263\n",
      "Transport.13 \tmoyenne =  2.2850328640659514\n",
      "Supermarché et distribution.13 \tmoyenne =  0.1424060331910608\n",
      "Consommation.13 \tmoyenne =  0.13453906984119982\n",
      "Total.13 \tmoyenne =  328.57442827135026\n",
      "----\n",
      "Agriculture.14 \tmoyenne =  5.38537441847862\n",
      "Transformation.14 \tmoyenne =  0.14930567352159593\n",
      "Emballage.14 \tmoyenne =  0.1369397340264998\n",
      "Transport.14 \tmoyenne =  0.013780953101468018\n",
      "Supermarché et distribution.14 \tmoyenne =  0.027973004035097334\n",
      "Consommation.14 \tmoyenne =  0.01083712614700143\n",
      "Total.14 \tmoyenne =  5.7242109093102815\n",
      "----\n",
      "Agriculture.15 \tmoyenne =  21.537600423417558\n",
      "Transformation.15 \tmoyenne =  14.029094337067582\n",
      "Emballage.15 \tmoyenne =  4.567783046302344\n",
      "Transport.15 \tmoyenne =  4.288577241244735\n",
      "Supermarché et distribution.15 \tmoyenne =  2.7700836827310287\n",
      "Consommation.15 \tmoyenne =  2.5497975612275727\n",
      "Total.15 \tmoyenne =  49.74293629199082\n",
      "----\n",
      "Agriculture.16 \tmoyenne =  0.015244014435140167\n",
      "Transformation.16 \tmoyenne =  0.002301493984470651\n",
      "Emballage.16 \tmoyenne =  0.0016628438444557013\n",
      "Transport.16 \tmoyenne =  0.0012823188364461662\n",
      "Supermarché et distribution.16 \tmoyenne =  0.0007804375020440605\n",
      "Consommation.16 \tmoyenne =  0.0007088726532150302\n",
      "Total.16 \tmoyenne =  0.021979981255771774\n"
     ]
    }
   ],
   "source": [
    "print(\"Quelques infos :\")\n",
    "for i in range(0,17):\n",
    "    print(\"----\")\n",
    "    for col in ['Agriculture', 'Transformation', 'Emballage', 'Transport', 'Supermarché et distribution', \\\n",
    "                'Consommation', 'Total']:\n",
    "        if i>0:\n",
    "            nom_col = col + \".\" +str(i)\n",
    "        else:\n",
    "            nom_col = col\n",
    "        print(nom_col,\"\\tmoyenne = \",data_etapes[nom_col].mean())"
   ]
  },
  {
   "cell_type": "code",
   "execution_count": 7,
   "metadata": {},
   "outputs": [
    {
     "name": "stdout",
     "output_type": "stream",
     "text": [
      "Nombre de lignes:  6856\n",
      "Nombre de colonnes:  27\n"
     ]
    }
   ],
   "source": [
    "data_ingredients = pd.read_csv(\"data/AGRIBALYSE3-ingredients.csv\",sep=\";\")\n",
    "data_ingredients.columns\n",
    "print(\"Nombre de lignes: \",len(data_ingredients))\n",
    "print(\"Nombre de colonnes: \",len(data_ingredients.columns))"
   ]
  },
  {
   "cell_type": "code",
   "execution_count": 8,
   "metadata": {},
   "outputs": [
    {
     "name": "stdout",
     "output_type": "stream",
     "text": [
      "0 :  Ciqual AGB\n",
      "1 :  Ciqual code\n",
      "2 :  Groupe d'aliment\n",
      "3 :  Sous-groupe d'aliment\n",
      "4 :  Nom Français\n",
      "5 :  LCI Name\n",
      "6 :  Ingredients\n",
      "7 :  Code et Nom\n",
      "8 :  Groupe\n",
      "9 :  Sous-groupe\n",
      "10 :  Formation photochimique d'ozone \tmoyennne =  0.14901077587806652\n",
      "11 :  Particules fines \tmoyennne =  1.1694919040652128\n",
      "12 :  Effets toxicologiques sur la santé humaine : substances non-cancérogènes \tmoyennne =  9.663670448533454e-08\n",
      "13 :  Effets toxicologiques sur la santé humaine : substances cancérogènes \tmoyennne =  0.32177220746506685\n",
      "14 :  Acidification terrestre et eaux douces \tmoyennne =  0.0038680513541169783\n",
      "15 :  Eutrophisation eaux douces \tmoyennne =  1.1525166083035649e-07\n",
      "16 :  Eutrophisation marine \tmoyennne =  2.5530761424091264e-08\n",
      "17 :  Eutrophisation terrestre \tmoyennne =  9.025745752722688e-10\n",
      "18 :  Écotoxicité pour écosystèmes aquatiques d'eau douce \tmoyennne =  0.01583401820414365\n",
      "19 :  Utilisation du sol \tmoyennne =  0.00017051056352429376\n",
      "20 :  Épuisement des ressources eau \tmoyennne =  0.005420029504769152\n",
      "21 :  Épuisement des ressources énergétiques \tmoyennne =  0.06377478486649878\n",
      "22 :  Épuisement des ressources minéraux \tmoyennne =  13.456044581692224\n",
      "23 :  Pt/kg de produit \tmoyennne =  70.52662867740445\n",
      "24 :  m3 depriv./kg de produit \tmoyennne =  1.3622131901908805\n",
      "25 :  MJ/kg de produit \tmoyennne =  12.915748203498433\n",
      "26 :  kg Sb eq/kg de produit \tmoyennne =  4.652159787008745e-06\n"
     ]
    }
   ],
   "source": [
    "for i in range(0,len(data_ingredients.columns)):\n",
    "    if i<10:\n",
    "        print(i,\": \", data_ingredients.columns[i])\n",
    "    else:\n",
    "        print(i,\": \", data_ingredients.columns[i], \\\n",
    "              \"\\tmoyennne = \", data_ingredients[data_ingredients.columns[i]].mean())"
   ]
  },
  {
   "cell_type": "markdown",
   "metadata": {},
   "source": [
    "# Introduction"
   ]
  },
  {
   "cell_type": "markdown",
   "metadata": {},
   "source": [
    "Problématique: Est-il possible de prédire la catégorisation des ingrédients en se basant sur leurs indicateurs d'impact environnemental?\n",
    "\n",
    "On implementera 2 algorithmes supervisé et 1 algorithme non supervisé.On va comparer les résultats."
   ]
  },
  {
   "cell_type": "markdown",
   "metadata": {},
   "source": [
    "# Apprentissage Supervisé"
   ]
  },
  {
   "cell_type": "markdown",
   "metadata": {},
   "source": [
    "## Prédire le Groupe d'Aliments des Ingredients"
   ]
  },
  {
   "cell_type": "markdown",
   "metadata": {},
   "source": [
    "Nous allons d'abord utiliser l'algorithme d'apprentissage **KNN** afin de prédire pour chaque ingrédient du jeu de données **data_ingredients** le target **groupe d'aliment**."
   ]
  },
  {
   "cell_type": "code",
   "execution_count": 9,
   "metadata": {},
   "outputs": [
    {
     "data": {
      "text/html": [
       "<div>\n",
       "<style scoped>\n",
       "    .dataframe tbody tr th:only-of-type {\n",
       "        vertical-align: middle;\n",
       "    }\n",
       "\n",
       "    .dataframe tbody tr th {\n",
       "        vertical-align: top;\n",
       "    }\n",
       "\n",
       "    .dataframe thead th {\n",
       "        text-align: right;\n",
       "    }\n",
       "</style>\n",
       "<table border=\"1\" class=\"dataframe\">\n",
       "  <thead>\n",
       "    <tr style=\"text-align: right;\">\n",
       "      <th></th>\n",
       "      <th>Ciqual AGB</th>\n",
       "      <th>Ciqual code</th>\n",
       "      <th>Groupe d'aliment</th>\n",
       "      <th>Sous-groupe d'aliment</th>\n",
       "      <th>Nom Français</th>\n",
       "      <th>LCI Name</th>\n",
       "      <th>Ingredients</th>\n",
       "      <th>Code et Nom</th>\n",
       "      <th>Groupe</th>\n",
       "      <th>Sous-groupe</th>\n",
       "      <th>...</th>\n",
       "      <th>Eutrophisation terrestre</th>\n",
       "      <th>Écotoxicité pour écosystèmes aquatiques d'eau douce</th>\n",
       "      <th>Utilisation du sol</th>\n",
       "      <th>Épuisement des ressources eau</th>\n",
       "      <th>Épuisement des ressources énergétiques</th>\n",
       "      <th>Épuisement des ressources minéraux</th>\n",
       "      <th>Pt/kg de produit</th>\n",
       "      <th>m3 depriv./kg de produit</th>\n",
       "      <th>MJ/kg de produit</th>\n",
       "      <th>kg Sb eq/kg de produit</th>\n",
       "    </tr>\n",
       "  </thead>\n",
       "  <tbody>\n",
       "    <tr>\n",
       "      <th>0</th>\n",
       "      <td>37000</td>\n",
       "      <td>37000</td>\n",
       "      <td>aides culinaires et ingrédients divers</td>\n",
       "      <td>ingrédients divers</td>\n",
       "      <td>Base de pizza à la crème</td>\n",
       "      <td>cream sauce for pizza base</td>\n",
       "      <td>Fromage frais crémeux</td>\n",
       "      <td>Base de pizza à la crème (37000)</td>\n",
       "      <td>aides culinaires et ingrédients divers</td>\n",
       "      <td>ingrédients divers</td>\n",
       "      <td>...</td>\n",
       "      <td>1.240000e-09</td>\n",
       "      <td>0.017200</td>\n",
       "      <td>0.000222</td>\n",
       "      <td>0.005420</td>\n",
       "      <td>0.072300</td>\n",
       "      <td>17.500</td>\n",
       "      <td>90.100</td>\n",
       "      <td>0.310</td>\n",
       "      <td>8.090</td>\n",
       "      <td>1.480000e-05</td>\n",
       "    </tr>\n",
       "    <tr>\n",
       "      <th>1</th>\n",
       "      <td>37000</td>\n",
       "      <td>37000</td>\n",
       "      <td>aides culinaires et ingrédients divers</td>\n",
       "      <td>ingrédients divers</td>\n",
       "      <td>Base de pizza à la crème</td>\n",
       "      <td>cream sauce for pizza base</td>\n",
       "      <td>Autres étapes</td>\n",
       "      <td>Base de pizza à la crème (37000)</td>\n",
       "      <td>aides culinaires et ingrédients divers</td>\n",
       "      <td>ingrédients divers</td>\n",
       "      <td>...</td>\n",
       "      <td>2.340000e-10</td>\n",
       "      <td>0.002160</td>\n",
       "      <td>0.000090</td>\n",
       "      <td>0.001300</td>\n",
       "      <td>0.006980</td>\n",
       "      <td>2.310</td>\n",
       "      <td>9.060</td>\n",
       "      <td>0.144</td>\n",
       "      <td>15.300</td>\n",
       "      <td>2.320000e-06</td>\n",
       "    </tr>\n",
       "    <tr>\n",
       "      <th>2</th>\n",
       "      <td>37000</td>\n",
       "      <td>37000</td>\n",
       "      <td>aides culinaires et ingrédients divers</td>\n",
       "      <td>ingrédients divers</td>\n",
       "      <td>Base de pizza à la crème</td>\n",
       "      <td>cream sauce for pizza base</td>\n",
       "      <td>Total</td>\n",
       "      <td>Base de pizza à la crème (37000)</td>\n",
       "      <td>aides culinaires et ingrédients divers</td>\n",
       "      <td>ingrédients divers</td>\n",
       "      <td>...</td>\n",
       "      <td>1.470000e-09</td>\n",
       "      <td>0.019300</td>\n",
       "      <td>0.000312</td>\n",
       "      <td>0.006730</td>\n",
       "      <td>0.079300</td>\n",
       "      <td>19.900</td>\n",
       "      <td>99.200</td>\n",
       "      <td>0.455</td>\n",
       "      <td>23.400</td>\n",
       "      <td>1.710000e-05</td>\n",
       "    </tr>\n",
       "    <tr>\n",
       "      <th>3</th>\n",
       "      <td>37002</td>\n",
       "      <td>37002</td>\n",
       "      <td>aides culinaires et ingrédients divers</td>\n",
       "      <td>ingrédients divers</td>\n",
       "      <td>Base de pizza tomatée</td>\n",
       "      <td>Tomato sauce for pizza base</td>\n",
       "      <td>Huile d'olive</td>\n",
       "      <td>Base de pizza tomatée (37002)</td>\n",
       "      <td>aides culinaires et ingrédients divers</td>\n",
       "      <td>ingrédients divers</td>\n",
       "      <td>...</td>\n",
       "      <td>4.180000e-10</td>\n",
       "      <td>0.003770</td>\n",
       "      <td>0.000052</td>\n",
       "      <td>0.001740</td>\n",
       "      <td>0.015800</td>\n",
       "      <td>5.580</td>\n",
       "      <td>54.300</td>\n",
       "      <td>1.950</td>\n",
       "      <td>1.720</td>\n",
       "      <td>1.890000e-06</td>\n",
       "    </tr>\n",
       "    <tr>\n",
       "      <th>4</th>\n",
       "      <td>37002</td>\n",
       "      <td>37002</td>\n",
       "      <td>aides culinaires et ingrédients divers</td>\n",
       "      <td>ingrédients divers</td>\n",
       "      <td>Base de pizza tomatée</td>\n",
       "      <td>Tomato sauce for pizza base</td>\n",
       "      <td>Oignons</td>\n",
       "      <td>Base de pizza tomatée (37002)</td>\n",
       "      <td>aides culinaires et ingrédients divers</td>\n",
       "      <td>ingrédients divers</td>\n",
       "      <td>...</td>\n",
       "      <td>1.370000e-11</td>\n",
       "      <td>0.000111</td>\n",
       "      <td>0.000003</td>\n",
       "      <td>0.000125</td>\n",
       "      <td>0.000408</td>\n",
       "      <td>0.231</td>\n",
       "      <td>0.998</td>\n",
       "      <td>0.165</td>\n",
       "      <td>0.138</td>\n",
       "      <td>1.520000e-07</td>\n",
       "    </tr>\n",
       "  </tbody>\n",
       "</table>\n",
       "<p>5 rows × 27 columns</p>\n",
       "</div>"
      ],
      "text/plain": [
       "  Ciqual AGB Ciqual code                        Groupe d'aliment   \n",
       "0      37000       37000  aides culinaires et ingrédients divers  \\\n",
       "1      37000       37000  aides culinaires et ingrédients divers   \n",
       "2      37000       37000  aides culinaires et ingrédients divers   \n",
       "3      37002       37002  aides culinaires et ingrédients divers   \n",
       "4      37002       37002  aides culinaires et ingrédients divers   \n",
       "\n",
       "  Sous-groupe d'aliment              Nom Français   \n",
       "0    ingrédients divers  Base de pizza à la crème  \\\n",
       "1    ingrédients divers  Base de pizza à la crème   \n",
       "2    ingrédients divers  Base de pizza à la crème   \n",
       "3    ingrédients divers     Base de pizza tomatée   \n",
       "4    ingrédients divers     Base de pizza tomatée   \n",
       "\n",
       "                      LCI Name            Ingredients   \n",
       "0   cream sauce for pizza base  Fromage frais crémeux  \\\n",
       "1   cream sauce for pizza base          Autres étapes   \n",
       "2   cream sauce for pizza base                  Total   \n",
       "3  Tomato sauce for pizza base          Huile d'olive   \n",
       "4  Tomato sauce for pizza base                Oignons   \n",
       "\n",
       "                        Code et Nom                                  Groupe   \n",
       "0  Base de pizza à la crème (37000)  aides culinaires et ingrédients divers  \\\n",
       "1  Base de pizza à la crème (37000)  aides culinaires et ingrédients divers   \n",
       "2  Base de pizza à la crème (37000)  aides culinaires et ingrédients divers   \n",
       "3     Base de pizza tomatée (37002)  aides culinaires et ingrédients divers   \n",
       "4     Base de pizza tomatée (37002)  aides culinaires et ingrédients divers   \n",
       "\n",
       "          Sous-groupe  ...  Eutrophisation terrestre   \n",
       "0  ingrédients divers  ...              1.240000e-09  \\\n",
       "1  ingrédients divers  ...              2.340000e-10   \n",
       "2  ingrédients divers  ...              1.470000e-09   \n",
       "3  ingrédients divers  ...              4.180000e-10   \n",
       "4  ingrédients divers  ...              1.370000e-11   \n",
       "\n",
       "   Écotoxicité pour écosystèmes aquatiques d'eau douce  Utilisation du sol   \n",
       "0                                           0.017200              0.000222  \\\n",
       "1                                           0.002160              0.000090   \n",
       "2                                           0.019300              0.000312   \n",
       "3                                           0.003770              0.000052   \n",
       "4                                           0.000111              0.000003   \n",
       "\n",
       "   Épuisement des ressources eau  Épuisement des ressources énergétiques   \n",
       "0                       0.005420                                0.072300  \\\n",
       "1                       0.001300                                0.006980   \n",
       "2                       0.006730                                0.079300   \n",
       "3                       0.001740                                0.015800   \n",
       "4                       0.000125                                0.000408   \n",
       "\n",
       "   Épuisement des ressources minéraux  Pt/kg de produit   \n",
       "0                              17.500            90.100  \\\n",
       "1                               2.310             9.060   \n",
       "2                              19.900            99.200   \n",
       "3                               5.580            54.300   \n",
       "4                               0.231             0.998   \n",
       "\n",
       "   m3 depriv./kg de produit  MJ/kg de produit  kg Sb eq/kg de produit  \n",
       "0                     0.310             8.090            1.480000e-05  \n",
       "1                     0.144            15.300            2.320000e-06  \n",
       "2                     0.455            23.400            1.710000e-05  \n",
       "3                     1.950             1.720            1.890000e-06  \n",
       "4                     0.165             0.138            1.520000e-07  \n",
       "\n",
       "[5 rows x 27 columns]"
      ]
     },
     "execution_count": 9,
     "metadata": {},
     "output_type": "execute_result"
    }
   ],
   "source": [
    "data_ingredients.head()"
   ]
  },
  {
   "cell_type": "markdown",
   "metadata": {},
   "source": [
    "#### Target:"
   ]
  },
  {
   "cell_type": "code",
   "execution_count": 10,
   "metadata": {},
   "outputs": [
    {
     "name": "stdout",
     "output_type": "stream",
     "text": [
      "['aides culinaires et ingrédients divers' 'aliments infantiles' 'boissons'\n",
      " 'entrées et plats composés' 'fruits, légumes, légumineuses et oléagineux'\n",
      " 'glaces et sorbets' 'lait et produits laitiers' 'matières grasses'\n",
      " 'produits céréaliers' 'produits sucrés' 'viandes, œufs, poissons']\n",
      "Nombre de classes : 11\n"
     ]
    }
   ],
   "source": [
    "target = data_ingredients['Groupe d\\'aliment'].unique()\n",
    "print(target)\n",
    "print('Nombre de classes :', target.size)"
   ]
  },
  {
   "cell_type": "markdown",
   "metadata": {},
   "source": [
    "#### Interressons nous que aux attributs numeriques de notre jeu de données."
   ]
  },
  {
   "cell_type": "code",
   "execution_count": 11,
   "metadata": {},
   "outputs": [
    {
     "data": {
      "text/html": [
       "<div>\n",
       "<style scoped>\n",
       "    .dataframe tbody tr th:only-of-type {\n",
       "        vertical-align: middle;\n",
       "    }\n",
       "\n",
       "    .dataframe tbody tr th {\n",
       "        vertical-align: top;\n",
       "    }\n",
       "\n",
       "    .dataframe thead th {\n",
       "        text-align: right;\n",
       "    }\n",
       "</style>\n",
       "<table border=\"1\" class=\"dataframe\">\n",
       "  <thead>\n",
       "    <tr style=\"text-align: right;\">\n",
       "      <th></th>\n",
       "      <th>Formation photochimique d'ozone</th>\n",
       "      <th>Particules fines</th>\n",
       "      <th>Effets toxicologiques sur la santé humaine : substances non-cancérogènes</th>\n",
       "      <th>Effets toxicologiques sur la santé humaine : substances cancérogènes</th>\n",
       "      <th>Acidification terrestre et eaux douces</th>\n",
       "      <th>Eutrophisation eaux douces</th>\n",
       "      <th>Eutrophisation marine</th>\n",
       "      <th>Eutrophisation terrestre</th>\n",
       "      <th>Écotoxicité pour écosystèmes aquatiques d'eau douce</th>\n",
       "      <th>Utilisation du sol</th>\n",
       "      <th>Épuisement des ressources eau</th>\n",
       "      <th>Épuisement des ressources énergétiques</th>\n",
       "      <th>Épuisement des ressources minéraux</th>\n",
       "      <th>Pt/kg de produit</th>\n",
       "      <th>m3 depriv./kg de produit</th>\n",
       "      <th>MJ/kg de produit</th>\n",
       "      <th>kg Sb eq/kg de produit</th>\n",
       "    </tr>\n",
       "  </thead>\n",
       "  <tbody>\n",
       "    <tr>\n",
       "      <th>0</th>\n",
       "      <td>0.17</td>\n",
       "      <td>1.58000</td>\n",
       "      <td>4.580000e-08</td>\n",
       "      <td>0.21400</td>\n",
       "      <td>0.002670</td>\n",
       "      <td>1.160000e-07</td>\n",
       "      <td>4.070000e-08</td>\n",
       "      <td>1.240000e-09</td>\n",
       "      <td>0.017200</td>\n",
       "      <td>0.000222</td>\n",
       "      <td>0.005420</td>\n",
       "      <td>0.072300</td>\n",
       "      <td>17.500</td>\n",
       "      <td>90.100</td>\n",
       "      <td>0.310</td>\n",
       "      <td>8.090</td>\n",
       "      <td>1.480000e-05</td>\n",
       "    </tr>\n",
       "    <tr>\n",
       "      <th>1</th>\n",
       "      <td>0.06</td>\n",
       "      <td>0.39900</td>\n",
       "      <td>5.950000e-08</td>\n",
       "      <td>0.51600</td>\n",
       "      <td>0.001090</td>\n",
       "      <td>2.810000e-08</td>\n",
       "      <td>7.160000e-09</td>\n",
       "      <td>2.340000e-10</td>\n",
       "      <td>0.002160</td>\n",
       "      <td>0.000090</td>\n",
       "      <td>0.001300</td>\n",
       "      <td>0.006980</td>\n",
       "      <td>2.310</td>\n",
       "      <td>9.060</td>\n",
       "      <td>0.144</td>\n",
       "      <td>15.300</td>\n",
       "      <td>2.320000e-06</td>\n",
       "    </tr>\n",
       "    <tr>\n",
       "      <th>2</th>\n",
       "      <td>0.22</td>\n",
       "      <td>1.98000</td>\n",
       "      <td>1.050000e-07</td>\n",
       "      <td>0.73000</td>\n",
       "      <td>0.003770</td>\n",
       "      <td>1.440000e-07</td>\n",
       "      <td>4.780000e-08</td>\n",
       "      <td>1.470000e-09</td>\n",
       "      <td>0.019300</td>\n",
       "      <td>0.000312</td>\n",
       "      <td>0.006730</td>\n",
       "      <td>0.079300</td>\n",
       "      <td>19.900</td>\n",
       "      <td>99.200</td>\n",
       "      <td>0.455</td>\n",
       "      <td>23.400</td>\n",
       "      <td>1.710000e-05</td>\n",
       "    </tr>\n",
       "    <tr>\n",
       "      <th>3</th>\n",
       "      <td>0.05</td>\n",
       "      <td>0.06210</td>\n",
       "      <td>1.760000e-08</td>\n",
       "      <td>0.01140</td>\n",
       "      <td>0.000890</td>\n",
       "      <td>2.640000e-08</td>\n",
       "      <td>2.050000e-08</td>\n",
       "      <td>4.180000e-10</td>\n",
       "      <td>0.003770</td>\n",
       "      <td>0.000052</td>\n",
       "      <td>0.001740</td>\n",
       "      <td>0.015800</td>\n",
       "      <td>5.580</td>\n",
       "      <td>54.300</td>\n",
       "      <td>1.950</td>\n",
       "      <td>1.720</td>\n",
       "      <td>1.890000e-06</td>\n",
       "    </tr>\n",
       "    <tr>\n",
       "      <th>4</th>\n",
       "      <td>0.00</td>\n",
       "      <td>0.00985</td>\n",
       "      <td>1.410000e-09</td>\n",
       "      <td>0.00239</td>\n",
       "      <td>0.000045</td>\n",
       "      <td>8.710000e-10</td>\n",
       "      <td>3.390000e-10</td>\n",
       "      <td>1.370000e-11</td>\n",
       "      <td>0.000111</td>\n",
       "      <td>0.000003</td>\n",
       "      <td>0.000125</td>\n",
       "      <td>0.000408</td>\n",
       "      <td>0.231</td>\n",
       "      <td>0.998</td>\n",
       "      <td>0.165</td>\n",
       "      <td>0.138</td>\n",
       "      <td>1.520000e-07</td>\n",
       "    </tr>\n",
       "  </tbody>\n",
       "</table>\n",
       "</div>"
      ],
      "text/plain": [
       "   Formation photochimique d'ozone  Particules fines   \n",
       "0                             0.17           1.58000  \\\n",
       "1                             0.06           0.39900   \n",
       "2                             0.22           1.98000   \n",
       "3                             0.05           0.06210   \n",
       "4                             0.00           0.00985   \n",
       "\n",
       "   Effets toxicologiques sur la santé humaine : substances non-cancérogènes   \n",
       "0                                       4.580000e-08                         \\\n",
       "1                                       5.950000e-08                          \n",
       "2                                       1.050000e-07                          \n",
       "3                                       1.760000e-08                          \n",
       "4                                       1.410000e-09                          \n",
       "\n",
       "   Effets toxicologiques sur la santé humaine : substances cancérogènes   \n",
       "0                                            0.21400                     \\\n",
       "1                                            0.51600                      \n",
       "2                                            0.73000                      \n",
       "3                                            0.01140                      \n",
       "4                                            0.00239                      \n",
       "\n",
       "   Acidification terrestre et eaux douces  Eutrophisation eaux douces   \n",
       "0                                0.002670                1.160000e-07  \\\n",
       "1                                0.001090                2.810000e-08   \n",
       "2                                0.003770                1.440000e-07   \n",
       "3                                0.000890                2.640000e-08   \n",
       "4                                0.000045                8.710000e-10   \n",
       "\n",
       "   Eutrophisation marine  Eutrophisation terrestre   \n",
       "0           4.070000e-08              1.240000e-09  \\\n",
       "1           7.160000e-09              2.340000e-10   \n",
       "2           4.780000e-08              1.470000e-09   \n",
       "3           2.050000e-08              4.180000e-10   \n",
       "4           3.390000e-10              1.370000e-11   \n",
       "\n",
       "   Écotoxicité pour écosystèmes aquatiques d'eau douce  Utilisation du sol   \n",
       "0                                           0.017200              0.000222  \\\n",
       "1                                           0.002160              0.000090   \n",
       "2                                           0.019300              0.000312   \n",
       "3                                           0.003770              0.000052   \n",
       "4                                           0.000111              0.000003   \n",
       "\n",
       "   Épuisement des ressources eau  Épuisement des ressources énergétiques   \n",
       "0                       0.005420                                0.072300  \\\n",
       "1                       0.001300                                0.006980   \n",
       "2                       0.006730                                0.079300   \n",
       "3                       0.001740                                0.015800   \n",
       "4                       0.000125                                0.000408   \n",
       "\n",
       "   Épuisement des ressources minéraux  Pt/kg de produit   \n",
       "0                              17.500            90.100  \\\n",
       "1                               2.310             9.060   \n",
       "2                              19.900            99.200   \n",
       "3                               5.580            54.300   \n",
       "4                               0.231             0.998   \n",
       "\n",
       "   m3 depriv./kg de produit  MJ/kg de produit  kg Sb eq/kg de produit  \n",
       "0                     0.310             8.090            1.480000e-05  \n",
       "1                     0.144            15.300            2.320000e-06  \n",
       "2                     0.455            23.400            1.710000e-05  \n",
       "3                     1.950             1.720            1.890000e-06  \n",
       "4                     0.165             0.138            1.520000e-07  "
      ]
     },
     "execution_count": 11,
     "metadata": {},
     "output_type": "execute_result"
    }
   ],
   "source": [
    "data_ingredients_num=data_ingredients.copy()\n",
    "columns_to_delete = ['Ciqual AGB', 'Ciqual code', 'Groupe d\\'aliment', 'Sous-groupe d\\'aliment','Sous-groupe','Nom Français', 'LCI Name','Code et Nom','Ingredients','Groupe']\n",
    "for column in columns_to_delete:\n",
    "    del data_ingredients_num[column]\n",
    "data_ingredients_num.head()"
   ]
  },
  {
   "cell_type": "markdown",
   "metadata": {},
   "source": [
    "#### Nous devons ensuite normaliser les données"
   ]
  },
  {
   "cell_type": "code",
   "execution_count": 12,
   "metadata": {},
   "outputs": [
    {
     "data": {
      "text/plain": [
       "array([[0.01524262, 0.0143953 , 0.01383906, ..., 0.19157954, 0.01137834,\n",
       "        0.07664894],\n",
       "       [0.00538625, 0.00363527, 0.01797869, ..., 0.18803108, 0.02151899,\n",
       "        0.01201524],\n",
       "       [0.01972279, 0.01803967, 0.03172709, ..., 0.1946791 , 0.03291139,\n",
       "        0.0885606 ],\n",
       "       ...,\n",
       "       [0.00267477, 0.00192017, 0.00407305, ..., 0.18699445, 0.00210407,\n",
       "        0.00515217],\n",
       "       [0.00950514, 0.0067775 , 0.02361994, ..., 0.19106258, 0.04616268,\n",
       "        0.03302887],\n",
       "       [0.07717028, 0.05500524, 0.22218148, ..., 0.27108246, 0.13559003,\n",
       "        0.13131328]])"
      ]
     },
     "execution_count": 12,
     "metadata": {},
     "output_type": "execute_result"
    }
   ],
   "source": [
    "data_ingredients_num_normal=clust.normalisation(data_ingredients_num)\n",
    "data_ingredients_num_normal = np.array(data_ingredients_num_normal)\n",
    "data_ingredients_num_normal"
   ]
  },
  {
   "cell_type": "markdown",
   "metadata": {},
   "source": [
    "#### Codage des Étiquettes du Groupe d'Aliments en Numérique"
   ]
  },
  {
   "cell_type": "code",
   "execution_count": 13,
   "metadata": {},
   "outputs": [],
   "source": [
    "# Copie les étiquettes de la colonne 'Groupe d'aliment'\n",
    "food_group_labels = data_ingredients['Groupe d\\'aliment']\n",
    "# Initialise un tableau numpy de zéros de la même taille que 'food_group_labels'\n",
    "target_labels = np.zeros_like(food_group_labels)\n",
    "\n",
    "# Boucle qui attribue à chaque élément de 'target_labels' la valeur correspondante de 'target'\n",
    "for index, label in enumerate(target): \n",
    "    target_labels[np.where(food_group_labels == label)[0]] = index"
   ]
  },
  {
   "cell_type": "markdown",
   "metadata": {},
   "source": [
    "## KNN"
   ]
  },
  {
   "cell_type": "code",
   "execution_count": 14,
   "metadata": {},
   "outputs": [],
   "source": [
    "# Création d'une permutation aléatoire des indices de 'target_labels'\n",
    "random_permutation = np.random.permutation(np.arange(target_labels.size))\n",
    "\n",
    "# Application de cette permutation à 'data_ingredients_num_normal' et 'target_labels'\n",
    "permuted_features = data_ingredients_num_normal[random_permutation]\n",
    "permuted_labels = target_labels[random_permutation]"
   ]
  },
  {
   "cell_type": "code",
   "execution_count": 15,
   "metadata": {},
   "outputs": [],
   "source": [
    "# Définition du nombre de subdivisions pour la validation croisée\n",
    "num_folds = 10\n",
    "\n",
    "# Initialisation du classificateur k-NN avec k = 2, la dimension de l'espace des attributs = 17 et la taille du voisinage pour le calcul des poids = 11\n",
    "knn_classifier = cl.ClassifierKNN_MC(17, 2, 11)\n",
    "\n",
    "# Création de listes vides pour stocker les précisions des prédictions pour l'ensemble d'apprentissage et de test\n",
    "training_accuracy = []\n",
    "test_accuracy = []\n",
    "\n",
    "# Boucle sur chaque subdivision de la validation croisée\n",
    "for i in range(num_folds+1):\n",
    "\n",
    "    # Division des données en ensembles d'apprentissage et de test\n",
    "    X_train, y_train, X_test, y_test = ut.crossval_strat(permuted_features, permuted_labels, num_folds, i)\n",
    "    \n",
    "    # Copie du classificateur k-NN\n",
    "    trained_classifier = copy.deepcopy(knn_classifier)\n",
    "    \n",
    "    # Entraînement du classificateur sur l'ensemble d'apprentissage\n",
    "    trained_classifier.train(X_train, y_train)\n",
    "    \n",
    "    # Calcul de la précision de la prédiction sur l'ensemble d'apprentissage et ajout à la liste 'training_accuracy'\n",
    "    training_accuracy.append(trained_classifier.accuracy(X_train, y_train))\n",
    "    \n",
    "    # Calcul de la précision de la prédiction sur l'ensemble de test et ajout à la liste 'test_accuracy'\n",
    "    test_accuracy.append(trained_classifier.accuracy(X_test, y_test))"
   ]
  },
  {
   "cell_type": "code",
   "execution_count": 16,
   "metadata": {},
   "outputs": [
    {
     "name": "stdout",
     "output_type": "stream",
     "text": [
      "[0.9005847953216374, 0.9005702588097675, 0.9005557180462124, 0.9033201696650578, 0.8920421299005267, 0.899487929773226, 0.9000585308750366, 0.8981413727498903, 0.9006147540983607, 0.8997218562435954, 0.8998101358259092]\n",
      "moyenne:  0.8995370592099289\n",
      "variance:  7.0164765831327664e-06\n"
     ]
    }
   ],
   "source": [
    "print(training_accuracy)\n",
    "print (\"moyenne: \" ,np.mean(training_accuracy))\n",
    "print (\"variance: \", np.var(training_accuracy))"
   ]
  },
  {
   "cell_type": "code",
   "execution_count": 17,
   "metadata": {},
   "outputs": [
    {
     "name": "stdout",
     "output_type": "stream",
     "text": [
      "[0.625, 1.0, 0.7777777777777778, 0.8421052631578947, 0.8, 0.9047619047619048, 0.8181818181818182, 1.0, 0.9583333333333334, 0.88, 0.8888888888888888]\n",
      "moyenne:  0.8631862714637836\n",
      "variance:  0.010877312785793628\n"
     ]
    }
   ],
   "source": [
    "print(test_accuracy)\n",
    "print (\"moyenne: \" ,np.mean(test_accuracy))\n",
    "print (\"variance: \", np.var(test_accuracy))"
   ]
  },
  {
   "cell_type": "markdown",
   "metadata": {},
   "source": [
    "**Remarque:**<br>\n",
    "L'algorithme KNN peut devenir inefficace avec un grand nombre de dimensions en raison de la \"malédiction de la dimensionnalité\". En augmentant les dimensions, la distance entre les points tend à devenir uniforme, rendant difficile la distinction des voisins les plus proches. Ceci est aggravé par le fait que les volumes d'espace à explorer croissent exponentiellement avec le nombre de dimensions, ce qui peut diluer les données dans l'espace et rendre l'algorithme inefficace.\n",
    "\n",
    "Cependant, des techniques comme UMAP (Uniform Manifold Approximation and Projection) peuvent être utilisées pour réduire la dimensionnalité des données et ainsi améliorer l'efficacité de l'algorithme KNN. UMAP est une technique non linéaire de réduction de la dimensionnalité qui préserve à la fois les relations locales et globales dans les données.\n",
    "\n",
    "De plus, on constate une grande variance dans la précision du test, signifiant que les performances du modèle sont instables sur différents ensembles de test. Cela peut être dû à un surajustement ou à une sous-représentation des classes dans certains ensembles de test en raison du petit nombre d'échantillons pour chaque classe."
   ]
  },
  {
   "cell_type": "markdown",
   "metadata": {},
   "source": [
    "#### Visualisons nos resultats"
   ]
  },
  {
   "cell_type": "code",
   "execution_count": 18,
   "metadata": {},
   "outputs": [
    {
     "data": {
      "image/png": "[encoded data removed]",
      "text/plain": [
       "<Figure size 720x432 with 1 Axes>"
      ]
     },
     "metadata": {
      "needs_background": "light"
     },
     "output_type": "display_data"
    }
   ],
   "source": [
    "x_values = range(len(training_accuracy))\n",
    "\n",
    "plt.figure(figsize=(10, 6))\n",
    "\n",
    "# Plot training accuracy\n",
    "plt.plot(x_values, training_accuracy, label='Training Accuracy', marker='o')\n",
    "\n",
    "# Plot test accuracy\n",
    "plt.plot(x_values, test_accuracy, label='Test Accuracy', marker='o')\n",
    "\n",
    "plt.title('Performances KNN - Groupe d\\'aliments')\n",
    "plt.xlabel('Cross-Validation iteration')\n",
    "plt.ylabel('Accuracy')\n",
    "plt.legend()\n",
    "plt.show()"
   ]
  },
  {
   "cell_type": "markdown",
   "metadata": {},
   "source": [
    "**Remarque:**<br>\n",
    "On voit bien cette instabilité et variance dans ce graphe au niveau des précisions des tests."
   ]
  },
  {
   "cell_type": "markdown",
   "metadata": {},
   "source": [
    "#### Essayons de trouver le k optimale pour notre jeu de données"
   ]
  },
  {
   "cell_type": "code",
   "execution_count": 46,
   "metadata": {},
   "outputs": [],
   "source": [
    "def found_k(desc_set, label_set, dimension, num_classes, retour=True, graphe=True):\n",
    "    \"\"\"\n",
    "    Fonction qui permet de déterminer le nombre optimal de voisins K pour un classificateur KNN multiclasse.\n",
    "    :param desc_set: un numpy array représentant les données d'entrée\n",
    "    :param label_set: un numpy array représentant les étiquettes de classe correspondantes pour chaque donnée\n",
    "    :param dimension: la dimension de l'espace d'entrée\n",
    "    :param num_classes: le nombre de classes distinctes\n",
    "    \"\"\"\n",
    "    max_k = int(np.sqrt(len(desc_set)))\n",
    "    KNN_test_acc=[]\n",
    "    List_k=[]\n",
    "    for k in range(1, max_k, 2):\n",
    "        # appel à la fonction crossval_strat() pour obtenir les données de train et de test\n",
    "        desc_train, label_train, desc_test, label_test = ut.crossval_strat(desc_set, label_set, 10, 2)\n",
    "        \n",
    "        # initialisation d'un classificateur KNN multiclasse\n",
    "        classifeurKNN_MC = cl.ClassifierKNN_MC(dimension, k, num_classes)\n",
    "        List_k.append(k)\n",
    "        \n",
    "        # entrainement du modèle sur les données de train\n",
    "        classifeurKNN_MC.train(desc_train, label_train)\n",
    "        accKNN = classifeurKNN_MC.accuracy(desc_test, label_test)\n",
    "        KNN_test_acc.append(accKNN)\n",
    "    \n",
    "    # l'indice du maximum de la liste d'accuracy\n",
    "    index = np.argmax(KNN_test_acc)\n",
    "    \n",
    "    if graphe:\n",
    "        plt.plot(List_k, KNN_test_acc)\n",
    "        plt.title(\"Le variation de taux accuracy en fonction de k\")\n",
    "        plt.ylabel(\"Le taux de Accuracy\")\n",
    "        plt.xlabel(\"Le valeur de K\")\n",
    "        plt.show()\n",
    "\n",
    "    if retour:\n",
    "        return 2*index + 1"
   ]
  },
  {
   "cell_type": "code",
   "execution_count": 47,
   "metadata": {},
   "outputs": [
    {
     "data": {
      "image/png": "[encoded data removed]",
      "text/plain": [
       "<Figure size 432x288 with 1 Axes>"
      ]
     },
     "metadata": {
      "needs_background": "light"
     },
     "output_type": "display_data"
    },
    {
     "data": {
      "text/plain": [
       "1"
      ]
     },
     "execution_count": 47,
     "metadata": {},
     "output_type": "execute_result"
    }
   ],
   "source": [
    "k_optimal=found_k(permuted_features,permuted_labels,17,11)\n",
    "k_optimal"
   ]
  },
  {
   "cell_type": "markdown",
   "metadata": {},
   "source": [
    "## KNN Classifieur avec le k_optimal"
   ]
  },
  {
   "cell_type": "code",
   "execution_count": 49,
   "metadata": {},
   "outputs": [
    {
     "data": {
      "text/plain": [
       "0.6875"
      ]
     },
     "execution_count": 49,
     "metadata": {},
     "output_type": "execute_result"
    }
   ],
   "source": [
    "knn_classifier = cl.ClassifierKNN_MC(17, k_optimal, 11)\n",
    "X_train, y_train, X_test, y_test = ut.crossval_strat(permuted_features, permuted_labels, 11, 2)\n",
    "knn_classifier.train(X_train,y_train)\n",
    "knn_classifier.accuracy(X_test,y_test)"
   ]
  },
  {
   "cell_type": "markdown",
   "metadata": {},
   "source": [
    "## Arbre de décisions"
   ]
  },
  {
   "cell_type": "markdown",
   "metadata": {},
   "source": [
    "Utilisons maintenant l'algorithme d'apprentissage des **Arbres de décisions** afin de prédire pour chaque ingrédient du jeu de données **data_ingredients** le target **groupe d'aliment**."
   ]
  },
  {
   "cell_type": "code",
   "execution_count": 15,
   "metadata": {},
   "outputs": [],
   "source": [
    "# Initialisation du classificateur arbre numerique avec epsilon = 0.00, la dimension de l'espace des attributs = 17 et la taille du voisinage pour le calcul des poids = 11\n",
    "arbre_classifier = cl.ClassifierArbreNumerique(17, 0.00,data_ingredients_num.columns)\n",
    "X_train, y_train, X_test, y_test = ut.crossval_strat(permuted_features, permuted_labels, 10, 2)\n",
    "arbre_classifier.train(X_train,y_train)"
   ]
  },
  {
   "cell_type": "code",
   "execution_count": 58,
   "metadata": {},
   "outputs": [
    {
     "name": "stdout",
     "output_type": "stream",
     "text": [
      "Iteration  0\n",
      "Iteration  1\n",
      "Iteration  2\n",
      "Iteration  3\n",
      "Iteration  4\n",
      "Iteration  5\n"
     ]
    }
   ],
   "source": [
    "# Définition du nombre de subdivisions pour la validation croisée\n",
    "num_folds = 5\n",
    "\n",
    "# Initialisation du classificateur k-NN avec k = 2, la dimension de l'espace des attributs = 17 et la taille du voisinage pour le calcul des poids = 11\n",
    "arbre_classifier = cl.ClassifierArbreNumerique(17, 0.00,data_ingredients_num.columns)\n",
    "\n",
    "# Création de listes vides pour stocker les précisions des prédictions pour l'ensemble d'apprentissage et de test\n",
    "training_accuracy = []\n",
    "test_accuracy = []\n",
    "\n",
    "# Boucle sur chaque subdivision de la validation croisée\n",
    "for i in range(num_folds+1):\n",
    "\n",
    "    # Division des données en ensembles d'apprentissage et de test\n",
    "    X_train, y_train, X_test, y_test = ut.crossval_strat(permuted_features, permuted_labels, num_folds, i)\n",
    "    \n",
    "    # Copie du classificateur arbre numerique\n",
    "    trained_classifier = copy.deepcopy(arbre_classifier)\n",
    "    \n",
    "    # Entraînement du classificateur sur l'ensemble d'apprentissage\n",
    "    trained_classifier.train(X_train, y_train)\n",
    "    print(\"Iteration \",i)\n",
    "    # Calcul de la précision de la prédiction sur l'ensemble d'apprentissage et ajout à la liste 'training_accuracy'\n",
    "    training_accuracy.append(trained_classifier.accuracy(X_train, y_train))\n",
    "    \n",
    "    # Calcul de la précision de la prédiction sur l'ensemble de test et ajout à la liste 'test_accuracy'\n",
    "    test_accuracy.append(trained_classifier.accuracy(X_test, y_test))"
   ]
  },
  {
   "cell_type": "code",
   "execution_count": 59,
   "metadata": {},
   "outputs": [
    {
     "name": "stdout",
     "output_type": "stream",
     "text": [
      "[0.991059651179833, 0.9910583406625623, 0.9910570297610322, 0.990909090909091, 0.9909077577357384, 0.9906596614127262]\n",
      "moyenne:  0.9909419219434971\n",
      "variance:  2.0429896339618054e-08\n"
     ]
    }
   ],
   "source": [
    "print(training_accuracy)\n",
    "print (\"moyenne: \" ,np.mean(training_accuracy))\n",
    "print (\"variance: \", np.var(training_accuracy))"
   ]
  },
  {
   "cell_type": "code",
   "execution_count": 60,
   "metadata": {},
   "outputs": [
    {
     "name": "stdout",
     "output_type": "stream",
     "text": [
      "[0.7575757575757576, 0.7941176470588235, 0.8, 0.8333333333333334, 0.8108108108108109, 1.0]\n",
      "moyenne:  0.8326395914631209\n",
      "variance:  0.006111724262936186\n"
     ]
    }
   ],
   "source": [
    "print(test_accuracy)\n",
    "print (\"moyenne: \" ,np.mean(test_accuracy))\n",
    "print (\"variance: \", np.var(test_accuracy))"
   ]
  },
  {
   "cell_type": "code",
   "execution_count": 61,
   "metadata": {},
   "outputs": [
    {
     "data": {
      "image/png": "[encoded data removed]",
      "text/plain": [
       "<Figure size 720x432 with 1 Axes>"
      ]
     },
     "metadata": {
      "needs_background": "light"
     },
     "output_type": "display_data"
    }
   ],
   "source": [
    "x_values = range(len(training_accuracy))\n",
    "\n",
    "plt.figure(figsize=(10, 6))\n",
    "\n",
    "# Plot training accuracy\n",
    "plt.plot(x_values, training_accuracy, label='Training Accuracy', marker='o')\n",
    "\n",
    "# Plot test accuracy\n",
    "plt.plot(x_values, test_accuracy, label='Test Accuracy', marker='o')\n",
    "\n",
    "plt.title('Performances Arbre de décisions - Groupe d\\'aliments')\n",
    "plt.xlabel('Cross-Validation iteration')\n",
    "plt.ylabel('Accuracy')\n",
    "plt.legend()\n",
    "plt.show()"
   ]
  },
  {
   "cell_type": "code",
   "execution_count": 17,
   "metadata": {},
   "outputs": [],
   "source": [
    "import graphviz as gv\n",
    "graphe_arbre = gv.Digraph(format='png')\n",
    "arbre_classifier.affiche(graphe_arbre)"
   ]
  },
  {
   "cell_type": "code",
   "execution_count": null,
   "metadata": {},
   "outputs": [],
   "source": [
    "graphe_arbre"
   ]
  },
  {
   "cell_type": "markdown",
   "metadata": {},
   "source": [
    "**Remarque:** <br>\n",
    "En général, les arbres de décision gèrent plus efficacement les données de haute dimension que l'algorithme KNN. KNN souffre de la \"malédiction de la dimensionnalité\" en haute dimension: les données deviennent dispersées et les mesures de distance perdent leur efficacité.\n",
    "\n",
    "Les arbres de décision, en revanche, structurent hiérarchiquement les données et sont moins sensibles à ces problèmes. De plus, ils réalisent intrinsèquement une sélection de caractéristiques, rendant leur performance plus robuste face à des données où plusieurs caractéristiques pourraient être redondantes ou non pertinentes. \n",
    "\n",
    "Ainsi, malgré les défis que pose l'analyse de données de haute dimension, les arbres de décision semblent être un choix efficace et robuste, particulièrement lorsqu'ils sont confrontés à des jeux de données où certaines caractéristiques pourraient être redondantes ou non pertinentes. Avec une précision décente de ces modèles, il est possible de prédire le groupe auquel un ingrédient appartient, simplement en connaissant ses différents indicateurs d'impacts environnementaux."
   ]
  },
  {
   "cell_type": "markdown",
   "metadata": {},
   "source": [
    "# Aprentissage Non Supervisé"
   ]
  },
  {
   "cell_type": "markdown",
   "metadata": {},
   "source": [
    "## Clustering des Ingrédients avec K-Moyennes"
   ]
  },
  {
   "cell_type": "markdown",
   "metadata": {},
   "source": [
    "Dans cette section, nous allons nous concentrer sur l'exploitation de la base de données fournies par Data Etape.En nous basant sur nos connaissances actuelles, nous avons décidé d'opter pour la méthode du k-moyennes (k-means) pour l'apprentissage supervisé."
   ]
  },
  {
   "cell_type": "markdown",
   "metadata": {},
   "source": [
    "#### Interressons nous que aux attributs numeriques de notre jeu de données."
   ]
  },
  {
   "cell_type": "code",
   "execution_count": 33,
   "metadata": {},
   "outputs": [
    {
     "data": {
      "text/html": [
       "<div>\n",
       "<style scoped>\n",
       "    .dataframe tbody tr th:only-of-type {\n",
       "        vertical-align: middle;\n",
       "    }\n",
       "\n",
       "    .dataframe tbody tr th {\n",
       "        vertical-align: top;\n",
       "    }\n",
       "\n",
       "    .dataframe thead th {\n",
       "        text-align: right;\n",
       "    }\n",
       "</style>\n",
       "<table border=\"1\" class=\"dataframe\">\n",
       "  <thead>\n",
       "    <tr style=\"text-align: right;\">\n",
       "      <th></th>\n",
       "      <th>Agriculture</th>\n",
       "      <th>Transformation</th>\n",
       "      <th>Emballage</th>\n",
       "      <th>Transport</th>\n",
       "      <th>Supermarché et distribution</th>\n",
       "      <th>Consommation</th>\n",
       "      <th>Total</th>\n",
       "      <th>Agriculture.1</th>\n",
       "      <th>Transformation.1</th>\n",
       "      <th>Emballage.1</th>\n",
       "      <th>...</th>\n",
       "      <th>Emballage.16</th>\n",
       "      <th>Transport.16</th>\n",
       "      <th>Supermarché et distribution.16</th>\n",
       "      <th>Consommation.16</th>\n",
       "      <th>Total.16</th>\n",
       "      <th>DQR Overall</th>\n",
       "      <th>P</th>\n",
       "      <th>TiR</th>\n",
       "      <th>GR</th>\n",
       "      <th>TeR</th>\n",
       "    </tr>\n",
       "  </thead>\n",
       "  <tbody>\n",
       "    <tr>\n",
       "      <th>0</th>\n",
       "      <td>0.654812</td>\n",
       "      <td>0.500987</td>\n",
       "      <td>0.024443</td>\n",
       "      <td>0.046250</td>\n",
       "      <td>0.004981</td>\n",
       "      <td>0.000407</td>\n",
       "      <td>1.231879</td>\n",
       "      <td>4.569259</td>\n",
       "      <td>1.492415</td>\n",
       "      <td>0.290252</td>\n",
       "      <td>...</td>\n",
       "      <td>0.001043</td>\n",
       "      <td>0.000899</td>\n",
       "      <td>0.000460</td>\n",
       "      <td>0.000002</td>\n",
       "      <td>0.087558</td>\n",
       "      <td>2.99</td>\n",
       "      <td>3.51</td>\n",
       "      <td>1.32</td>\n",
       "      <td>4.33</td>\n",
       "      <td>2.79</td>\n",
       "    </tr>\n",
       "    <tr>\n",
       "      <th>1</th>\n",
       "      <td>0.032661</td>\n",
       "      <td>0.000000</td>\n",
       "      <td>0.050709</td>\n",
       "      <td>0.015277</td>\n",
       "      <td>0.004503</td>\n",
       "      <td>0.000000</td>\n",
       "      <td>0.103150</td>\n",
       "      <td>0.066043</td>\n",
       "      <td>0.000000</td>\n",
       "      <td>0.478390</td>\n",
       "      <td>...</td>\n",
       "      <td>0.003464</td>\n",
       "      <td>0.000671</td>\n",
       "      <td>0.000440</td>\n",
       "      <td>0.000000</td>\n",
       "      <td>0.006605</td>\n",
       "      <td>4.11</td>\n",
       "      <td>4.27</td>\n",
       "      <td>4.39</td>\n",
       "      <td>2.79</td>\n",
       "      <td>5.00</td>\n",
       "    </tr>\n",
       "    <tr>\n",
       "      <th>2</th>\n",
       "      <td>0.040826</td>\n",
       "      <td>0.000000</td>\n",
       "      <td>0.000000</td>\n",
       "      <td>0.014071</td>\n",
       "      <td>0.005629</td>\n",
       "      <td>0.003288</td>\n",
       "      <td>0.063814</td>\n",
       "      <td>0.082554</td>\n",
       "      <td>0.000000</td>\n",
       "      <td>0.000000</td>\n",
       "      <td>...</td>\n",
       "      <td>0.000000</td>\n",
       "      <td>0.000614</td>\n",
       "      <td>0.000550</td>\n",
       "      <td>0.000016</td>\n",
       "      <td>0.003717</td>\n",
       "      <td>3.54</td>\n",
       "      <td>2.74</td>\n",
       "      <td>4.28</td>\n",
       "      <td>2.80</td>\n",
       "      <td>4.34</td>\n",
       "    </tr>\n",
       "    <tr>\n",
       "      <th>3</th>\n",
       "      <td>0.082933</td>\n",
       "      <td>0.000000</td>\n",
       "      <td>0.027221</td>\n",
       "      <td>0.013011</td>\n",
       "      <td>0.005629</td>\n",
       "      <td>0.003288</td>\n",
       "      <td>0.132081</td>\n",
       "      <td>0.222514</td>\n",
       "      <td>0.000000</td>\n",
       "      <td>0.329456</td>\n",
       "      <td>...</td>\n",
       "      <td>0.001150</td>\n",
       "      <td>0.000583</td>\n",
       "      <td>0.000550</td>\n",
       "      <td>0.000016</td>\n",
       "      <td>0.004779</td>\n",
       "      <td>3.75</td>\n",
       "      <td>2.74</td>\n",
       "      <td>3.62</td>\n",
       "      <td>4.33</td>\n",
       "      <td>4.33</td>\n",
       "    </tr>\n",
       "    <tr>\n",
       "      <th>4</th>\n",
       "      <td>0.654812</td>\n",
       "      <td>0.500987</td>\n",
       "      <td>0.024443</td>\n",
       "      <td>0.046250</td>\n",
       "      <td>0.004981</td>\n",
       "      <td>0.000407</td>\n",
       "      <td>1.231879</td>\n",
       "      <td>4.569259</td>\n",
       "      <td>1.492415</td>\n",
       "      <td>0.290252</td>\n",
       "      <td>...</td>\n",
       "      <td>0.001043</td>\n",
       "      <td>0.000899</td>\n",
       "      <td>0.000460</td>\n",
       "      <td>0.000002</td>\n",
       "      <td>0.087558</td>\n",
       "      <td>2.99</td>\n",
       "      <td>3.51</td>\n",
       "      <td>1.32</td>\n",
       "      <td>4.33</td>\n",
       "      <td>2.79</td>\n",
       "    </tr>\n",
       "    <tr>\n",
       "      <th>...</th>\n",
       "      <td>...</td>\n",
       "      <td>...</td>\n",
       "      <td>...</td>\n",
       "      <td>...</td>\n",
       "      <td>...</td>\n",
       "      <td>...</td>\n",
       "      <td>...</td>\n",
       "      <td>...</td>\n",
       "      <td>...</td>\n",
       "      <td>...</td>\n",
       "      <td>...</td>\n",
       "      <td>...</td>\n",
       "      <td>...</td>\n",
       "      <td>...</td>\n",
       "      <td>...</td>\n",
       "      <td>...</td>\n",
       "      <td>...</td>\n",
       "      <td>...</td>\n",
       "      <td>...</td>\n",
       "      <td>...</td>\n",
       "      <td>...</td>\n",
       "    </tr>\n",
       "    <tr>\n",
       "      <th>2512</th>\n",
       "      <td>2.085451</td>\n",
       "      <td>0.045533</td>\n",
       "      <td>0.017899</td>\n",
       "      <td>0.016104</td>\n",
       "      <td>0.009053</td>\n",
       "      <td>0.002455</td>\n",
       "      <td>2.176494</td>\n",
       "      <td>21.683172</td>\n",
       "      <td>0.241985</td>\n",
       "      <td>0.275642</td>\n",
       "      <td>...</td>\n",
       "      <td>0.000034</td>\n",
       "      <td>0.000926</td>\n",
       "      <td>0.000914</td>\n",
       "      <td>0.000263</td>\n",
       "      <td>0.038303</td>\n",
       "      <td>2.47</td>\n",
       "      <td>3.77</td>\n",
       "      <td>2.02</td>\n",
       "      <td>2.01</td>\n",
       "      <td>2.08</td>\n",
       "    </tr>\n",
       "    <tr>\n",
       "      <th>2513</th>\n",
       "      <td>2.147376</td>\n",
       "      <td>0.010702</td>\n",
       "      <td>0.028263</td>\n",
       "      <td>0.024679</td>\n",
       "      <td>0.014295</td>\n",
       "      <td>0.033860</td>\n",
       "      <td>2.259175</td>\n",
       "      <td>22.327031</td>\n",
       "      <td>0.074157</td>\n",
       "      <td>0.435259</td>\n",
       "      <td>...</td>\n",
       "      <td>0.000053</td>\n",
       "      <td>0.001432</td>\n",
       "      <td>0.001443</td>\n",
       "      <td>0.002279</td>\n",
       "      <td>0.041251</td>\n",
       "      <td>2.45</td>\n",
       "      <td>3.66</td>\n",
       "      <td>1.28</td>\n",
       "      <td>2.04</td>\n",
       "      <td>2.82</td>\n",
       "    </tr>\n",
       "    <tr>\n",
       "      <th>2514</th>\n",
       "      <td>0.719615</td>\n",
       "      <td>0.000000</td>\n",
       "      <td>0.017899</td>\n",
       "      <td>0.067222</td>\n",
       "      <td>0.009053</td>\n",
       "      <td>0.002455</td>\n",
       "      <td>0.816244</td>\n",
       "      <td>3.143568</td>\n",
       "      <td>0.000000</td>\n",
       "      <td>0.275642</td>\n",
       "      <td>...</td>\n",
       "      <td>0.000034</td>\n",
       "      <td>0.003652</td>\n",
       "      <td>0.000914</td>\n",
       "      <td>0.000263</td>\n",
       "      <td>0.163057</td>\n",
       "      <td>3.68</td>\n",
       "      <td>4.60</td>\n",
       "      <td>2.54</td>\n",
       "      <td>2.59</td>\n",
       "      <td>5.00</td>\n",
       "    </tr>\n",
       "    <tr>\n",
       "      <th>2515</th>\n",
       "      <td>0.878692</td>\n",
       "      <td>0.000000</td>\n",
       "      <td>0.018973</td>\n",
       "      <td>0.082082</td>\n",
       "      <td>0.011054</td>\n",
       "      <td>0.034592</td>\n",
       "      <td>1.025393</td>\n",
       "      <td>3.838479</td>\n",
       "      <td>0.000000</td>\n",
       "      <td>0.225346</td>\n",
       "      <td>...</td>\n",
       "      <td>0.000939</td>\n",
       "      <td>0.004459</td>\n",
       "      <td>0.001116</td>\n",
       "      <td>0.003711</td>\n",
       "      <td>0.203390</td>\n",
       "      <td>3.56</td>\n",
       "      <td>4.30</td>\n",
       "      <td>2.62</td>\n",
       "      <td>2.34</td>\n",
       "      <td>5.00</td>\n",
       "    </tr>\n",
       "    <tr>\n",
       "      <th>2516</th>\n",
       "      <td>0.633044</td>\n",
       "      <td>0.129015</td>\n",
       "      <td>0.039739</td>\n",
       "      <td>0.016279</td>\n",
       "      <td>0.009087</td>\n",
       "      <td>0.034049</td>\n",
       "      <td>0.861212</td>\n",
       "      <td>4.633708</td>\n",
       "      <td>0.589396</td>\n",
       "      <td>0.476451</td>\n",
       "      <td>...</td>\n",
       "      <td>0.001633</td>\n",
       "      <td>0.000944</td>\n",
       "      <td>0.000915</td>\n",
       "      <td>0.003653</td>\n",
       "      <td>0.025358</td>\n",
       "      <td>2.79</td>\n",
       "      <td>3.77</td>\n",
       "      <td>2.32</td>\n",
       "      <td>1.63</td>\n",
       "      <td>3.42</td>\n",
       "    </tr>\n",
       "  </tbody>\n",
       "</table>\n",
       "<p>2517 rows × 124 columns</p>\n",
       "</div>"
      ],
      "text/plain": [
       "      Agriculture  Transformation  Emballage  Transport  \\\n",
       "0        0.654812        0.500987   0.024443   0.046250   \n",
       "1        0.032661        0.000000   0.050709   0.015277   \n",
       "2        0.040826        0.000000   0.000000   0.014071   \n",
       "3        0.082933        0.000000   0.027221   0.013011   \n",
       "4        0.654812        0.500987   0.024443   0.046250   \n",
       "...           ...             ...        ...        ...   \n",
       "2512     2.085451        0.045533   0.017899   0.016104   \n",
       "2513     2.147376        0.010702   0.028263   0.024679   \n",
       "2514     0.719615        0.000000   0.017899   0.067222   \n",
       "2515     0.878692        0.000000   0.018973   0.082082   \n",
       "2516     0.633044        0.129015   0.039739   0.016279   \n",
       "\n",
       "      Supermarché et distribution  Consommation     Total  Agriculture.1  \\\n",
       "0                        0.004981      0.000407  1.231879       4.569259   \n",
       "1                        0.004503      0.000000  0.103150       0.066043   \n",
       "2                        0.005629      0.003288  0.063814       0.082554   \n",
       "3                        0.005629      0.003288  0.132081       0.222514   \n",
       "4                        0.004981      0.000407  1.231879       4.569259   \n",
       "...                           ...           ...       ...            ...   \n",
       "2512                     0.009053      0.002455  2.176494      21.683172   \n",
       "2513                     0.014295      0.033860  2.259175      22.327031   \n",
       "2514                     0.009053      0.002455  0.816244       3.143568   \n",
       "2515                     0.011054      0.034592  1.025393       3.838479   \n",
       "2516                     0.009087      0.034049  0.861212       4.633708   \n",
       "\n",
       "      Transformation.1  Emballage.1  ...  Emballage.16  Transport.16  \\\n",
       "0             1.492415     0.290252  ...      0.001043      0.000899   \n",
       "1             0.000000     0.478390  ...      0.003464      0.000671   \n",
       "2             0.000000     0.000000  ...      0.000000      0.000614   \n",
       "3             0.000000     0.329456  ...      0.001150      0.000583   \n",
       "4             1.492415     0.290252  ...      0.001043      0.000899   \n",
       "...                ...          ...  ...           ...           ...   \n",
       "2512          0.241985     0.275642  ...      0.000034      0.000926   \n",
       "2513          0.074157     0.435259  ...      0.000053      0.001432   \n",
       "2514          0.000000     0.275642  ...      0.000034      0.003652   \n",
       "2515          0.000000     0.225346  ...      0.000939      0.004459   \n",
       "2516          0.589396     0.476451  ...      0.001633      0.000944   \n",
       "\n",
       "      Supermarché et distribution.16  Consommation.16  Total.16  DQR Overall  \\\n",
       "0                           0.000460         0.000002  0.087558         2.99   \n",
       "1                           0.000440         0.000000  0.006605         4.11   \n",
       "2                           0.000550         0.000016  0.003717         3.54   \n",
       "3                           0.000550         0.000016  0.004779         3.75   \n",
       "4                           0.000460         0.000002  0.087558         2.99   \n",
       "...                              ...              ...       ...          ...   \n",
       "2512                        0.000914         0.000263  0.038303         2.47   \n",
       "2513                        0.001443         0.002279  0.041251         2.45   \n",
       "2514                        0.000914         0.000263  0.163057         3.68   \n",
       "2515                        0.001116         0.003711  0.203390         3.56   \n",
       "2516                        0.000915         0.003653  0.025358         2.79   \n",
       "\n",
       "         P   TiR    GR   TeR  \n",
       "0     3.51  1.32  4.33  2.79  \n",
       "1     4.27  4.39  2.79  5.00  \n",
       "2     2.74  4.28  2.80  4.34  \n",
       "3     2.74  3.62  4.33  4.33  \n",
       "4     3.51  1.32  4.33  2.79  \n",
       "...    ...   ...   ...   ...  \n",
       "2512  3.77  2.02  2.01  2.08  \n",
       "2513  3.66  1.28  2.04  2.82  \n",
       "2514  4.60  2.54  2.59  5.00  \n",
       "2515  4.30  2.62  2.34  5.00  \n",
       "2516  3.77  2.32  1.63  3.42  \n",
       "\n",
       "[2517 rows x 124 columns]"
      ]
     },
     "execution_count": 33,
     "metadata": {},
     "output_type": "execute_result"
    }
   ],
   "source": [
    "data_etape_num=data_etapes.copy()\n",
    "columns_to_delete = ['Code AGB', 'Code CIQUAL', 'Groupe d aliment', 'Sous-groupe d aliment','Nom du Produit en Français', 'LCI Name', 'Nom et code','DQR']\n",
    "for column in columns_to_delete:\n",
    "    del data_etape_num[column]\n",
    "data_etape_num"
   ]
  },
  {
   "cell_type": "markdown",
   "metadata": {},
   "source": [
    "#### Nous devons ensuite normaliser les données"
   ]
  },
  {
   "cell_type": "code",
   "execution_count": 34,
   "metadata": {},
   "outputs": [],
   "source": [
    "data_etape_num_normal=clust.normalisation(data_etape_num)"
   ]
  },
  {
   "cell_type": "markdown",
   "metadata": {},
   "source": [
    "## La courbe de k"
   ]
  },
  {
   "cell_type": "markdown",
   "metadata": {},
   "source": [
    "**Calcule de la liste des centres**"
   ]
  },
  {
   "cell_type": "code",
   "execution_count": 11,
   "metadata": {},
   "outputs": [],
   "source": [
    "list_k=[i+2 for i in range(11)]\n",
    "list_Centres_et_U=[]\n",
    "for k in list_k:\n",
    "    #print(k)\n",
    "    Centres,U=clust.kmoyennes(k,data_etape_num_normal,0.05,100,False)\n",
    "    list_Centres_et_U.append((Centres,U))\n",
    "\n",
    "#list_Centres_et_U"
   ]
  },
  {
   "cell_type": "markdown",
   "metadata": {},
   "source": [
    "**Calcule de la liste d'index Dunn pour trouver le k optimal**"
   ]
  },
  {
   "cell_type": "code",
   "execution_count": 12,
   "metadata": {},
   "outputs": [],
   "source": [
    "list_Index_Dunn=[]\n",
    "for k in list_k:\n",
    "    #print(k)\n",
    "    index_Dunn_k=clust.index_Dunn(data_etape_num_normal,list_Centres_et_U[k-2][0],list_Centres_et_U[k-2][1])\n",
    "    list_Index_Dunn.append(index_Dunn_k)"
   ]
  },
  {
   "cell_type": "code",
   "execution_count": 13,
   "metadata": {},
   "outputs": [
    {
     "data": {
      "image/png": "[encoded data removed]",
      "text/plain": [
       "<Figure size 576x432 with 1 Axes>"
      ]
     },
     "metadata": {
      "needs_background": "light"
     },
     "output_type": "display_data"
    }
   ],
   "source": [
    "plt.figure(figsize=(8, 6))\n",
    "plt.title('Index de Dunn - K-Moyennes')\n",
    "plt.plot(list_k,list_Index_Dunn)\n",
    "plt.xlabel('K')\n",
    "plt.ylabel('Index')\n",
    "plt.show()"
   ]
  },
  {
   "cell_type": "markdown",
   "metadata": {},
   "source": [
    "**Remarque:** <br>\n",
    "A l'axe X, il y a le nombre de clusters et à l'axe Y, il y a l'index Dunn inversé.\n",
    "On a varié le k pour comparer les indexes de Dunn. On a constaté que k=12 est le k optimal.On a changé la place de dénominateur et nominateur de calcul de l'index Dunn.Donc on essaie de le maximiser. Par contre dans le sujet, on voit qu'il y a 11 types des données. Donc on utilisera k=11."
   ]
  },
  {
   "cell_type": "markdown",
   "metadata": {},
   "source": [
    "## Calcul de k-moyennes"
   ]
  },
  {
   "cell_type": "code",
   "execution_count": 35,
   "metadata": {},
   "outputs": [
    {
     "name": "stdout",
     "output_type": "stream",
     "text": [
      "Iteration :  1  Inertie :  1475.284034206004  Difference :  1474.234034206004\n",
      "Iteration :  2  Inertie :  1317.7701977474615  Difference :  157.51383645854253\n",
      "Iteration :  3  Inertie :  1222.023533968784  Difference :  95.74666377867743\n",
      "Iteration :  4  Inertie :  1086.84374449926  Difference :  135.17978946952394\n",
      "Iteration :  5  Inertie :  1047.845437763998  Difference :  38.99830673526208\n",
      "Iteration :  6  Inertie :  1037.1674351424392  Difference :  10.67800262155879\n",
      "Iteration :  7  Inertie :  1030.74161397101  Difference :  6.4258211714291065\n",
      "Iteration :  8  Inertie :  1027.246691158357  Difference :  3.494922812653158\n",
      "Iteration :  9  Inertie :  1025.7046663374142  Difference :  1.5420248209427427\n",
      "Iteration :  10  Inertie :  1025.2133046898716  Difference :  0.4913616475425897\n",
      "Iteration :  11  Inertie :  1024.8946957634096  Difference :  0.31860892646204775\n",
      "Iteration :  12  Inertie :  1024.7545417481751  Difference :  0.1401540152344296\n",
      "Iteration :  13  Inertie :  1024.6850590713645  Difference :  0.06948267681059406\n",
      "Iteration :  14  Inertie :  1024.5647872404757  Difference :  0.12027183088889615\n",
      "Iteration :  15  Inertie :  1024.41901534995  Difference :  0.14577189052556605\n",
      "Iteration :  16  Inertie :  1024.3980364894267  Difference :  0.02097886052342801\n"
     ]
    }
   ],
   "source": [
    "Centres,U=clust.kmoyennes(11,data_etape_num_normal,0.05,100,True)"
   ]
  },
  {
   "cell_type": "markdown",
   "metadata": {},
   "source": [
    "Le calcul de l'inertie gloale est autour de 1000-1100 avec 20 différentes calculs."
   ]
  },
  {
   "cell_type": "markdown",
   "metadata": {},
   "source": [
    "## Visualiation des centres"
   ]
  },
  {
   "cell_type": "code",
   "execution_count": 15,
   "metadata": {},
   "outputs": [
    {
     "name": "stdout",
     "output_type": "stream",
     "text": [
      "11\n"
     ]
    }
   ],
   "source": [
    "print(len(Centres))"
   ]
  },
  {
   "cell_type": "code",
   "execution_count": 16,
   "metadata": {},
   "outputs": [
    {
     "data": {
      "image/png": "[encoded data removed]",
      "text/plain": [
       "<Figure size 576x576 with 1 Axes>"
      ]
     },
     "metadata": {
      "needs_background": "light"
     },
     "output_type": "display_data"
    }
   ],
   "source": [
    "plt.figure(figsize=(8, 8))\n",
    "plt.title('Visualisation des données en 2D')\n",
    "plt.scatter(Centres[:, 0], Centres[:, 1], cmap='Paired')\n",
    "plt.gca().set_aspect('equal', 'datalim')"
   ]
  },
  {
   "cell_type": "markdown",
   "metadata": {},
   "source": [
    "## Visualition des données"
   ]
  },
  {
   "cell_type": "code",
   "execution_count": 37,
   "metadata": {},
   "outputs": [
    {
     "data": {
      "image/png": "[encoded data removed]",
      "text/plain": [
       "<Figure size 432x288 with 1 Axes>"
      ]
     },
     "metadata": {
      "needs_background": "light"
     },
     "output_type": "display_data"
    }
   ],
   "source": [
    "clust.affiche_resultat(data_etape_num_normal,Centres,U)"
   ]
  },
  {
   "cell_type": "markdown",
   "metadata": {},
   "source": [
    "## Le partage"
   ]
  },
  {
   "cell_type": "code",
   "execution_count": 17,
   "metadata": {},
   "outputs": [
    {
     "name": "stdout",
     "output_type": "stream",
     "text": [
      "Le groupe  0  contient  74 elements\n",
      "Le groupe  1  contient  549 elements\n",
      "Le groupe  2  contient  229 elements\n",
      "Le groupe  3  contient  93 elements\n",
      "Le groupe  4  contient  371 elements\n",
      "Le groupe  5  contient  152 elements\n",
      "Le groupe  6  contient  211 elements\n",
      "Le groupe  7  contient  423 elements\n",
      "Le groupe  8  contient  124 elements\n",
      "Le groupe  9  contient  190 elements\n",
      "Le groupe  10  contient  101 elements\n",
      "nb : 2517\n"
     ]
    }
   ],
   "source": [
    "nb=0\n",
    "for group in U:\n",
    "    nb=nb+len(U[group])\n",
    "    print(\"Le groupe \",group,\" contient \",len(U[group]),\"elements\")\n",
    "    \n",
    "print(\"nb :\",nb)"
   ]
  },
  {
   "cell_type": "markdown",
   "metadata": {},
   "source": [
    "On a discriminé nos données à 11 groupes. On constate que notre BD est divisible à 11 classes."
   ]
  },
  {
   "cell_type": "markdown",
   "metadata": {},
   "source": [
    "**Remarque:** <br>\n",
    "\n",
    "L'algorithme des **k-moyennes** est une méthode réputée de regroupement ou \"clustering\", utilisée dans le cadre de l'apprentissage non supervisé. Cette technique est particulièrement avantageuse pour subdiviser un ensemble de données en plusieurs groupes distincts, appelés \"clusters\", sur la base de leur similarité. Cette approche ne nécessite que peu de données, et seulement le nombre de centres ainsi que la base de données elle-même sont requis pour son fonctionnement. Un autre atout considérable de l'algorithme des k-moyennes est qu'il est compatible avec toutes les dimensions et peut travailler avec différents types de valeurs.\n",
    "\n",
    "Cependant, l'algorithme des **k-moyennes** présente certaines limitations. En effet, il devient moins performant et plus lent lorsque le volume de données à traiter est important. De plus, il n'est pas très efficace pour gérer des clusters de tailles différentes. Un autre inconvénient notable est que, dans certains cas, l'algorithme peut converger vers des solutions locales plutôt que globales."
   ]
  },
  {
   "cell_type": "markdown",
   "metadata": {},
   "source": [
    "# Conclusion"
   ]
  },
  {
   "cell_type": "markdown",
   "metadata": {},
   "source": [
    "Nous avons mis en oeuvre deux techniques d'apprentissage supervisé: le **KNN** et les **arbres de décision**, ainsi qu'une technique d'apprentissage non supervisé, l'algorithme des **k-moyennes**. Chacun de ces algorithmes présentait ses propres avantages et inconvénients.\n",
    "\n",
    "Dans le cadre de notre objectif qui consistait à **prédire les classes des ingrédients à partir des données de Data Ingrédient et Data Étape**, ces algorithmes ont permis d'effectuer une segmentation des données. Toutefois, en termes de taux de précision, leur performance n'a pas été optimale.\n",
    "\n",
    "Pour conclure, alors que chaque algorithme a démontré sa capacité à classifier les données d'ingrédients, l'exactitude globale de leur prédiction n'a pas atteint le niveau souhaité. Cela suggère qu'une optimisation supplémentaire de ces modèles ou l'exploration d'autres techniques d'apprentissage pourrait être nécessaire pour améliorer la précision de la prédiction des classes d'ingrédients."
   ]
  },
  {
   "cell_type": "code",
   "execution_count": null,
   "metadata": {},
   "outputs": [],
   "source": []
  }
 ],
 "metadata": {
  "kernelspec": {
   "display_name": "Python 3",
   "language": "python",
   "name": "python3"
  },
  "language_info": {
   "codemirror_mode": {
    "name": "ipython",
    "version": 3
   },
   "file_extension": ".py",
   "mimetype": "text/x-python",
   "name": "python",
   "nbconvert_exporter": "python",
   "pygments_lexer": "ipython3",
   "version": "3.8.3"
  }
 },
 "nbformat": 4,
 "nbformat_minor": 1
}
