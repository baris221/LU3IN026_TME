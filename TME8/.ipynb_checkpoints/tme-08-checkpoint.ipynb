{
 "cells": [
  {
   "cell_type": "markdown",
   "metadata": {},
   "source": [
    "IA & Data science (LU3IN0226) -- 2022-2023\n",
    "--------\n",
    "*&copy; Equipe pédagogique: Christophe Marsala, Olivier Schwander, Jean-Noël Vittaut.*"
   ]
  },
  {
   "cell_type": "markdown",
   "metadata": {},
   "source": [
    "# TD-TME08: algorithmes d'apprentissage non-supervisé"
   ]
  },
  {
   "cell_type": "markdown",
   "metadata": {},
   "source": [
    "L'objectif de ce TP est d'implémenter des algorithmes d'apprentissage non-supervisé, en particulier, l'algorithme de clutering hiérarchique ascendant."
   ]
  },
  {
   "cell_type": "markdown",
   "metadata": {},
   "source": [
    "<font color=\"RED\" size=\"+1\">**[Q]**</font> **Indiquer dans la boîte ci-dessous vos noms et prénoms :**"
   ]
  },
  {
   "cell_type": "markdown",
   "metadata": {},
   "source": [
    "Baris Kaftancioglu\n",
    "Chadi Tawbi"
   ]
  },
  {
   "cell_type": "markdown",
   "metadata": {},
   "source": [
    "<font color=\"RED\" size=\"+1\"><b>[Q]</b></font> **Renommer ce fichier ipython**\n",
    "\n",
    "Tout en haut de cette page, cliquer sur <tt>tme-08</tt> et rajouter à la suite de <tt>tme-08</tt> les noms des membres du binômes séparés par un tiret.\n",
    "\n",
    "<font color=\"RED\" size=\"+1\">IMPORTANT: soumission de votre fichier final</font>\n",
    "\n",
    "**Nom à donner au fichier à poster** : *tme-08-Nom1_Nom2.ipynb* \n",
    "- *Nom1* et *Nom2* : noms des membres du binôme\n",
    "- ne pas compresser ou faire une archive: il faut rendre le fichier ipython tel quel, éventuellement, si vous avez d'autres fichiers vous les rendez séparément.\n",
    "\n",
    "**Echancier pour la soumission de votre compte-rendu:**\n",
    "- le compte-rendu d'une séance doit être remis obligatoirement <font color=\"RED\">avant la séance suivante</font>.\n",
    "\n",
    "**Le compte-rendu est soumis sur la page Moodle.**"
   ]
  },
  {
   "cell_type": "markdown",
   "metadata": {},
   "source": [
    "\n",
    "## Préparation"
   ]
  },
  {
   "cell_type": "markdown",
   "metadata": {},
   "source": [
    "L'archive récupérée avec ce fichier contient aussi le répertoire <code>data</code> qui contient les bases pour expérimenter vos fonctions."
   ]
  },
  {
   "cell_type": "code",
   "execution_count": 2,
   "metadata": {},
   "outputs": [],
   "source": [
    "# Importation des librairies standards:\n",
    "import numpy as np\n",
    "import pandas as pd\n",
    "import matplotlib.pyplot as plt\n",
    "%matplotlib inline  \n",
    "\n",
    "# Importation de votre librairie iads:\n",
    "# La ligne suivante permet de préciser le chemin d'accès à la librairie iads\n",
    "import sys\n",
    "sys.path.append('../')   # iads doit être dans le répertoire frère du répertoire courant !\n",
    "\n",
    "# Importation de la librairie iads\n",
    "import iads as iads\n",
    "\n",
    "# importation de Classifiers\n",
    "from iads import Classifiers as cl\n",
    "\n",
    "# importation de utils\n",
    "from iads import utils as ut\n",
    "\n",
    "# importation de evaluation\n",
    "from iads import evaluation as ev\n",
    "\n",
    "# commande TRES utile pour recharger automatiquement le code que vous modifiez dans les modules\n",
    "%load_ext autoreload\n",
    "%autoreload 2"
   ]
  },
  {
   "cell_type": "markdown",
   "metadata": {},
   "source": [
    "## Travail à réaliser"
   ]
  },
  {
   "cell_type": "markdown",
   "metadata": {},
   "source": [
    "Le travail à faire se décompose en 2 phases :\n",
    "- dans un premier temps, le travail porte sur la base d'apprentissage <code>base-2D.csv</code> qui contient des exemples décrits dans $R^2$. Ainsi, il est plus aisé de visualiser les résultats des fonctions à écrire ;\n",
    "- dans un second temps, les fonctions écrites dans la phase précédente sont à utiliser avec la base d'apprentissage `base-Paris.csv`.\n",
    "\n",
    "**Attention**: vos fonctions doivent **dès leur création** pouvoir s'appliquer **quelle que soit la dimension** des exemples traités."
   ]
  },
  {
   "cell_type": "markdown",
   "metadata": {},
   "source": [
    "## Phase 1: implémentation des fonctions de base"
   ]
  },
  {
   "cell_type": "markdown",
   "metadata": {},
   "source": [
    "### Chargement du fichier \"base_2D.csv\"\n",
    "\n",
    "Charger le fichier `base_2D.csv` et, par exemple avec la fonction `read_csv` de pandas. Le résultat est stocké sous la forme d'un dataframe."
   ]
  },
  {
   "cell_type": "code",
   "execution_count": 3,
   "metadata": {},
   "outputs": [
    {
     "name": "stdout",
     "output_type": "stream",
     "text": [
      "Il y a 14 exemples dans la base.\n"
     ]
    }
   ],
   "source": [
    "data_2D = pd.read_csv(\"data/base-2D.csv\")  # A COMPLETER\n",
    "\n",
    "print(\"Il y a\", len(data_2D), \"exemples dans la base.\")"
   ]
  },
  {
   "cell_type": "code",
   "execution_count": 4,
   "metadata": {},
   "outputs": [
    {
     "data": {
      "text/html": [
       "<div>\n",
       "<style scoped>\n",
       "    .dataframe tbody tr th:only-of-type {\n",
       "        vertical-align: middle;\n",
       "    }\n",
       "\n",
       "    .dataframe tbody tr th {\n",
       "        vertical-align: top;\n",
       "    }\n",
       "\n",
       "    .dataframe thead th {\n",
       "        text-align: right;\n",
       "    }\n",
       "</style>\n",
       "<table border=\"1\" class=\"dataframe\">\n",
       "  <thead>\n",
       "    <tr style=\"text-align: right;\">\n",
       "      <th></th>\n",
       "      <th>X1</th>\n",
       "      <th>X2</th>\n",
       "    </tr>\n",
       "  </thead>\n",
       "  <tbody>\n",
       "    <tr>\n",
       "      <th>0</th>\n",
       "      <td>0.0</td>\n",
       "      <td>4.0</td>\n",
       "    </tr>\n",
       "    <tr>\n",
       "      <th>1</th>\n",
       "      <td>1.0</td>\n",
       "      <td>3.5</td>\n",
       "    </tr>\n",
       "    <tr>\n",
       "      <th>2</th>\n",
       "      <td>1.0</td>\n",
       "      <td>1.0</td>\n",
       "    </tr>\n",
       "    <tr>\n",
       "      <th>3</th>\n",
       "      <td>2.0</td>\n",
       "      <td>1.0</td>\n",
       "    </tr>\n",
       "    <tr>\n",
       "      <th>4</th>\n",
       "      <td>2.0</td>\n",
       "      <td>2.0</td>\n",
       "    </tr>\n",
       "    <tr>\n",
       "      <th>5</th>\n",
       "      <td>4.0</td>\n",
       "      <td>4.0</td>\n",
       "    </tr>\n",
       "    <tr>\n",
       "      <th>6</th>\n",
       "      <td>4.0</td>\n",
       "      <td>5.0</td>\n",
       "    </tr>\n",
       "    <tr>\n",
       "      <th>7</th>\n",
       "      <td>4.0</td>\n",
       "      <td>6.0</td>\n",
       "    </tr>\n",
       "    <tr>\n",
       "      <th>8</th>\n",
       "      <td>4.5</td>\n",
       "      <td>1.0</td>\n",
       "    </tr>\n",
       "    <tr>\n",
       "      <th>9</th>\n",
       "      <td>4.5</td>\n",
       "      <td>6.0</td>\n",
       "    </tr>\n",
       "    <tr>\n",
       "      <th>10</th>\n",
       "      <td>5.0</td>\n",
       "      <td>1.0</td>\n",
       "    </tr>\n",
       "    <tr>\n",
       "      <th>11</th>\n",
       "      <td>5.0</td>\n",
       "      <td>5.0</td>\n",
       "    </tr>\n",
       "    <tr>\n",
       "      <th>12</th>\n",
       "      <td>6.0</td>\n",
       "      <td>2.0</td>\n",
       "    </tr>\n",
       "    <tr>\n",
       "      <th>13</th>\n",
       "      <td>7.0</td>\n",
       "      <td>4.0</td>\n",
       "    </tr>\n",
       "  </tbody>\n",
       "</table>\n",
       "</div>"
      ],
      "text/plain": [
       "     X1   X2\n",
       "0   0.0  4.0\n",
       "1   1.0  3.5\n",
       "2   1.0  1.0\n",
       "3   2.0  1.0\n",
       "4   2.0  2.0\n",
       "5   4.0  4.0\n",
       "6   4.0  5.0\n",
       "7   4.0  6.0\n",
       "8   4.5  1.0\n",
       "9   4.5  6.0\n",
       "10  5.0  1.0\n",
       "11  5.0  5.0\n",
       "12  6.0  2.0\n",
       "13  7.0  4.0"
      ]
     },
     "execution_count": 4,
     "metadata": {},
     "output_type": "execute_result"
    }
   ],
   "source": [
    "# Le dataframe:\n",
    "data_2D"
   ]
  },
  {
   "cell_type": "markdown",
   "metadata": {},
   "source": [
    "<font size=\"+1\" color=\"RED\">**[Q]**</font> Afficher la base sous forme graphique.\n"
   ]
  },
  {
   "cell_type": "code",
   "execution_count": 5,
   "metadata": {},
   "outputs": [
    {
     "data": {
      "text/plain": [
       "<matplotlib.collections.PathCollection at 0x13955e7f3d0>"
      ]
     },
     "execution_count": 5,
     "metadata": {},
     "output_type": "execute_result"
    },
    {
     "data": {
      "image/png": "[encoded data removed]",
      "text/plain": [
       "<Figure size 432x288 with 1 Axes>"
      ]
     },
     "metadata": {
      "needs_background": "light"
     },
     "output_type": "display_data"
    }
   ],
   "source": [
    "plt.scatter(data_2D[\"X1\"], data_2D[\"X2\"])"
   ]
  },
  {
   "cell_type": "markdown",
   "metadata": {},
   "source": [
    "## Fonctions préliminaires"
   ]
  },
  {
   "cell_type": "markdown",
   "metadata": {},
   "source": [
    "### Normalisation des données"
   ]
  },
  {
   "cell_type": "markdown",
   "metadata": {},
   "source": [
    "<font size=\"+1\" color=\"RED\"><b>[Q]</b></font> Donner les instructions permettant d'afficher les valeurs minimales et maximales de chaque colonne du dataframe `base_2D`.\n",
    "\n",
    "Remarque : soyez général ! Il faut que ces instructions restent valables quel que soit le dataframe donné (noms et nombre de colonnes non connus au départ par exemple).\n"
   ]
  },
  {
   "cell_type": "code",
   "execution_count": 6,
   "metadata": {},
   "outputs": [
    {
     "name": "stdout",
     "output_type": "stream",
     "text": [
      "Minimum et maximum de chaque colonne:\n",
      "Colonne X1 : 0.0 7.0\n",
      "Colonne X2 : 1.0 6.0\n"
     ]
    }
   ],
   "source": [
    "print(\"Minimum et maximum de chaque colonne:\")\n",
    "for col in data_2D.columns:\n",
    "    print(\"Colonne \"+col+\" : \"+str(min(data_2D[col]))+\" \" +str(max(data_2D[col])))"
   ]
  },
  {
   "cell_type": "markdown",
   "metadata": {},
   "source": [
    "<font size=\"+1\" color=\"RED\"><b>[Q]</b></font> Ecrire la fonction <code>normalisation</code> qui prend en argument un <code>DataFrame</code> et rend le dataframe obtenu en normalisant chaque colonne de ce <code>DataFrame</code> (ie. les valeurs de la matrice résultat doivent être dans l'intervalle $[0,1])$.\n"
   ]
  },
  {
   "cell_type": "code",
   "execution_count": 7,
   "metadata": {},
   "outputs": [],
   "source": [
    "def normalisation(df):\n",
    "    result = df.copy()\n",
    "    for col in df.columns:\n",
    "        max_value = max(df[col])\n",
    "        min_value = min(df[col])\n",
    "        result[col] = (df[col] - min_value) / (max_value - min_value)\n",
    "    return result"
   ]
  },
  {
   "cell_type": "markdown",
   "metadata": {},
   "source": [
    "<font size=\"+1\" color=\"RED\"><b>[Q]</b></font> Normaliser les données de la base-2D et afficher leur représentation graphique: vérifier que le tracé est le même que celui obtenu avant la normalisation (aux valeurs des axes près)."
   ]
  },
  {
   "cell_type": "code",
   "execution_count": 8,
   "metadata": {},
   "outputs": [
    {
     "data": {
      "text/plain": [
       "<matplotlib.collections.PathCollection at 0x13955f35910>"
      ]
     },
     "execution_count": 8,
     "metadata": {},
     "output_type": "execute_result"
    },
    {
     "data": {
      "image/png": "[encoded data removed]",
      "text/plain": [
       "<Figure size 432x288 with 1 Axes>"
      ]
     },
     "metadata": {
      "needs_background": "light"
     },
     "output_type": "display_data"
    }
   ],
   "source": [
    "data_2D_norm =normalisation(data_2D)\n",
    "plt.scatter(data_2D_norm[\"X1\"], data_2D_norm[\"X2\"])"
   ]
  },
  {
   "cell_type": "markdown",
   "metadata": {},
   "source": [
    "### Distances entre exemples"
   ]
  },
  {
   "cell_type": "markdown",
   "metadata": {},
   "source": [
    "<font size=\"+1\" color=\"RED\"><b>[Q]</b></font> Ecrire la fonction <code>dist_euclidienne</code> qui prend en argument deux exemples sous la forme de vecteurs (Dataframe ou np.array) et rend leur distance euclidienne. "
   ]
  },
  {
   "cell_type": "code",
   "execution_count": 9,
   "metadata": {},
   "outputs": [],
   "source": [
    "import math\n",
    "def dist_euclidienne(x,y):\n",
    "    return np.linalg.norm(x-y)\n"
   ]
  },
  {
   "cell_type": "code",
   "execution_count": 10,
   "metadata": {},
   "outputs": [
    {
     "name": "stdout",
     "output_type": "stream",
     "text": [
      "v1 :  X1    0.0\n",
      "X2    0.6\n",
      "Name: 0, dtype: float64 \n",
      "v2 :  X1    0.142857\n",
      "X2    0.500000\n",
      "Name: 1, dtype: float64\n",
      "distance euclidienne entre v1 et v2 :  0.17437936593905287\n"
     ]
    }
   ],
   "source": [
    "v1= data_2D_norm.iloc[0]\n",
    "v2= data_2D_norm.iloc[1]\n",
    "print(\"v1 : \",v1, \"\\nv2 : \",v2)\n",
    "print(\"distance euclidienne entre v1 et v2 : \", dist_euclidienne(v1,v2))"
   ]
  },
  {
   "cell_type": "code",
   "execution_count": 11,
   "metadata": {},
   "outputs": [
    {
     "name": "stdout",
     "output_type": "stream",
     "text": [
      "v1 :  [0.  0.6] \n",
      "v2 :  [0.14285714 0.5       ]\n",
      "distance euclidienne entre v1 et v2 :  0.17437936593905287\n"
     ]
    }
   ],
   "source": [
    "# Remarque : si elle est bien écrite, la fonction doit fonctionner aussi pour un np.array:\n",
    "\n",
    "v1= np.array(data_2D_norm.iloc[0])\n",
    "v2= np.array(data_2D_norm.iloc[1])\n",
    "print(\"v1 : \",v1, \"\\nv2 : \",v2)\n",
    "print(\"distance euclidienne entre v1 et v2 : \", dist_euclidienne(v1,v2))"
   ]
  },
  {
   "cell_type": "code",
   "execution_count": 12,
   "metadata": {},
   "outputs": [
    {
     "name": "stdout",
     "output_type": "stream",
     "text": [
      "v3 :  [0 0 0] \n",
      "v4 :  [1 1 1]\n",
      "distance euclidienne entre v3 et v4 :  1.7320508075688772\n",
      "v5 :  [0 0 0] \n",
      "v6 :  [-1  0  1]\n",
      "distance euclidienne entre v5 et v6 :  1.4142135623730951\n"
     ]
    }
   ],
   "source": [
    "# autre exemples:\n",
    "v3= np.array([0,0,0])\n",
    "v4= np.array([1,1,1])\n",
    "print(\"v3 : \",v3, \"\\nv4 : \",v4)\n",
    "print(\"distance euclidienne entre v3 et v4 : \", dist_euclidienne(v3,v4))\n",
    "v5= np.array([0,0,0])\n",
    "v6= np.array([-1,0,1])\n",
    "print(\"v5 : \",v5, \"\\nv6 : \",v6)\n",
    "print(\"distance euclidienne entre v5 et v6 : \", dist_euclidienne(v5,v6))"
   ]
  },
  {
   "cell_type": "markdown",
   "metadata": {},
   "source": [
    "### Calcul de centroides"
   ]
  },
  {
   "cell_type": "markdown",
   "metadata": {},
   "source": [
    "<font size=\"+1\" color=\"RED\"><b>[Q]</b></font> Ecrire la fonction <code>centroide</code> qui, étant donné un dataframe (ou un np.array) contenant plusieurs exemples rend leur centre de gravité (centroide).\n",
    "On fait l'hypothèse qu'il y a toujours au moins un exemple.\n"
   ]
  },
  {
   "cell_type": "code",
   "execution_count": 13,
   "metadata": {},
   "outputs": [],
   "source": [
    "def centroide(X):\n",
    "    return np.mean(X,axis=0)"
   ]
  },
  {
   "cell_type": "code",
   "execution_count": 14,
   "metadata": {},
   "outputs": [
    {
     "data": {
      "text/plain": [
       "X1    0.510204\n",
       "X2    0.450000\n",
       "dtype: float64"
      ]
     },
     "execution_count": 14,
     "metadata": {},
     "output_type": "execute_result"
    }
   ],
   "source": [
    "centroide(data_2D_norm)"
   ]
  },
  {
   "cell_type": "code",
   "execution_count": 15,
   "metadata": {},
   "outputs": [
    {
     "data": {
      "text/plain": [
       "array([0.51020408, 0.45      ])"
      ]
     },
     "execution_count": 15,
     "metadata": {},
     "output_type": "execute_result"
    }
   ],
   "source": [
    "# Remarque : si elle est bien écrite, la fonction doit fonctionner aussi pour un np.array:\n",
    "centroide( np.array(data_2D_norm) )"
   ]
  },
  {
   "cell_type": "markdown",
   "metadata": {},
   "source": [
    "### Distances entre groupes d'exemples\n"
   ]
  },
  {
   "cell_type": "markdown",
   "metadata": {},
   "source": [
    "La distance entre deux groupes d'exemples correspond à la distance entre leurs centroïdes (approche \"centroid linkage\"). Pour cette approche, on prendra seulement la distance euclidienne.\n",
    "\n",
    "<font size=\"+1\" color=\"RED\"><b>[Q]</b></font> Ecrire la fonction <code>dist_centroides</code> qui prend en argument deux groupes de vecteurs (dataframe ou np.array) et qui rend leur distance euclidienne.\n"
   ]
  },
  {
   "cell_type": "code",
   "execution_count": 16,
   "metadata": {},
   "outputs": [],
   "source": [
    "def dist_centroides(X,Y):\n",
    "    return dist_euclidienne(centroide(X),centroide(Y))"
   ]
  },
  {
   "cell_type": "code",
   "execution_count": 17,
   "metadata": {},
   "outputs": [
    {
     "data": {
      "text/plain": [
       "0.5863454787138408"
      ]
     },
     "execution_count": 17,
     "metadata": {},
     "output_type": "execute_result"
    }
   ],
   "source": [
    "# Par exemple:\n",
    "dist_centroides(data_2D_norm.iloc[0:4],data_2D_norm.iloc[5:13])"
   ]
  },
  {
   "cell_type": "markdown",
   "metadata": {},
   "source": [
    "## L'algorithme de classification hiérarchique"
   ]
  },
  {
   "cell_type": "markdown",
   "metadata": {},
   "source": [
    "Dans la suite de cet exercice, une partition (qui est un groupe de clusters) est représentée par une structure de données de type dictionnaire (<code>dict()</code> en python) :\n",
    "- la clé est un numéro de cluster (sous la forme d'un entier naturel) ;\n",
    "- la valeur associée est un liste contenant les indices des exemples qui sont dans le cluster correspondant.\n",
    "\n",
    "Les indices sont ceux du dataframe qui contient la base initiale.\n",
    "\n",
    "<b>Dans ce qui suit, on appelle \"partition\" un tel dictionnaire.</b>\n",
    "\n",
    "\n",
    "Rappel: `iloc` accepte une liste d'indices pour extraire des lignes d'un dataframe..."
   ]
  },
  {
   "cell_type": "code",
   "execution_count": 18,
   "metadata": {},
   "outputs": [
    {
     "data": {
      "text/html": [
       "<div>\n",
       "<style scoped>\n",
       "    .dataframe tbody tr th:only-of-type {\n",
       "        vertical-align: middle;\n",
       "    }\n",
       "\n",
       "    .dataframe tbody tr th {\n",
       "        vertical-align: top;\n",
       "    }\n",
       "\n",
       "    .dataframe thead th {\n",
       "        text-align: right;\n",
       "    }\n",
       "</style>\n",
       "<table border=\"1\" class=\"dataframe\">\n",
       "  <thead>\n",
       "    <tr style=\"text-align: right;\">\n",
       "      <th></th>\n",
       "      <th>X1</th>\n",
       "      <th>X2</th>\n",
       "    </tr>\n",
       "  </thead>\n",
       "  <tbody>\n",
       "    <tr>\n",
       "      <th>0</th>\n",
       "      <td>0.000000</td>\n",
       "      <td>0.6</td>\n",
       "    </tr>\n",
       "    <tr>\n",
       "      <th>3</th>\n",
       "      <td>0.285714</td>\n",
       "      <td>0.0</td>\n",
       "    </tr>\n",
       "    <tr>\n",
       "      <th>1</th>\n",
       "      <td>0.142857</td>\n",
       "      <td>0.5</td>\n",
       "    </tr>\n",
       "  </tbody>\n",
       "</table>\n",
       "</div>"
      ],
      "text/plain": [
       "         X1   X2\n",
       "0  0.000000  0.6\n",
       "3  0.285714  0.0\n",
       "1  0.142857  0.5"
      ]
     },
     "execution_count": 18,
     "metadata": {},
     "output_type": "execute_result"
    }
   ],
   "source": [
    "data_2D_norm.iloc[[0,3,1]]"
   ]
  },
  {
   "cell_type": "markdown",
   "metadata": {},
   "source": [
    "<font size=\"+1\" color=\"RED\"><b>[Q]</b></font> Ecrire la fonction <code>initialise_CHA</code> qui, étant donné un dataframe DF, rend une partition contenant autant d'entrées que d'exemples dans DF. La clé de chaque entrée sera le numéro de l'exemple. Cette fonction sera spécifique au clustering hiérarchique ascendant (CHA)."
   ]
  },
  {
   "cell_type": "code",
   "execution_count": 19,
   "metadata": {},
   "outputs": [],
   "source": [
    "def initialise_CHA(df):\n",
    "    return {i:[i] for i in range(len(df))}"
   ]
  },
  {
   "cell_type": "code",
   "execution_count": 20,
   "metadata": {},
   "outputs": [
    {
     "data": {
      "text/plain": [
       "{0: [0],\n",
       " 1: [1],\n",
       " 2: [2],\n",
       " 3: [3],\n",
       " 4: [4],\n",
       " 5: [5],\n",
       " 6: [6],\n",
       " 7: [7],\n",
       " 8: [8],\n",
       " 9: [9],\n",
       " 10: [10],\n",
       " 11: [11],\n",
       " 12: [12],\n",
       " 13: [13]}"
      ]
     },
     "execution_count": 20,
     "metadata": {},
     "output_type": "execute_result"
    }
   ],
   "source": [
    "# Par exemple:\n",
    "depart = initialise_CHA(data_2D_norm)\n",
    "depart"
   ]
  },
  {
   "cell_type": "markdown",
   "metadata": {},
   "source": [
    "### Variante 1: chaînage par centroides"
   ]
  },
  {
   "cell_type": "markdown",
   "metadata": {},
   "source": [
    "On souhaite implémenter ici l'algorithme de classification hiérarchique basé sur l'utilisation d'un chaînage par centroides (approche \"centroid linkage\").\n",
    "\n",
    "On commence par implémenter une fonction qui, étant donné une partition, permet de regrouper les 2 clusters les plus proches. Ces 2 clusters sont alors fusionnés pour n'en former qu'un seul qui est ajouté à la partition, alors que les 2 clusters initiaux sont retirés de la partition.\n",
    "\n",
    "On fait l'hypothèse que la partition initiale contient au moins 2 groupes.\n",
    "\n",
    "<font size=\"+1\" color=\"RED\"><b>[Q]</b></font> Ecrire la fonction <code>fusionne</code> qui prend en argument un dataframe contenant des exemples et une partition P0 et qui rend le tuple composé des 4 valeurs suivantes:\n",
    "- la partition P1 obtenue après fusion des 2 clusters de P0 les plus proches ;\n",
    "- les clés des 2 clusters de P0 qui ont été fusionnés et qui ne sont donc plus dans P1 ;\n",
    "- la distance qui séparait ces 2 clusters, calculée selon le nom de distance donné.\n",
    "\n",
    "Vous rajouterez un troisième argument (avec valeur par défaut) à la fonction : `verbose=False` qui indique si un message doit être affiché à la fin de la fonction donnant le nom des 2 éléments fusionnés et leur distance."
   ]
  },
  {
   "cell_type": "code",
   "execution_count": 52,
   "metadata": {},
   "outputs": [],
   "source": [
    "def fusionne(df, partition, verbose=False):\n",
    "    dist_min = +np.inf\n",
    "    k1_dist_min, k2_dist_min = -1,-1\n",
    "    p_new = dict(partition)\n",
    "    for k1,v1 in partition.items():\n",
    "        for k2,v2 in partition.items():\n",
    "            if k1!=k2:\n",
    "                dist= dist_centroides(df.iloc[v1], df.iloc[v2])\n",
    "                if dist < dist_min:\n",
    "                    dist_min = dist\n",
    "                    k1_dist_min, k2_dist_min = k1, k2\n",
    "    if k1_dist_min != -1:\n",
    "        p_new.pop(k1_dist_min)\n",
    "        p_new.pop(k2_dist_min)\n",
    "        p_new[max(partition)+1] = [*partition[k1_dist_min], *partition[k2_dist_min]]\n",
    "    if verbose and k1_dist_min !=-1:\n",
    "        print(\"Distance mininimale trouvée entre [\"+str(k1_dist_min) +\",\" +str(k2_dist_min) +\"]  = \"+str(dist_min))\n",
    "    return p_new, k1_dist_min, k2_dist_min, dist_min"
   ]
  },
  {
   "cell_type": "code",
   "execution_count": 53,
   "metadata": {},
   "outputs": [
    {
     "data": {
      "text/plain": [
       "({0: [0],\n",
       "  1: [1],\n",
       "  2: [2],\n",
       "  3: [3],\n",
       "  4: [4],\n",
       "  5: [5],\n",
       "  6: [6],\n",
       "  7: [7],\n",
       "  9: [9],\n",
       "  11: [11],\n",
       "  12: [12],\n",
       "  13: [13],\n",
       "  14: [8, 10]},\n",
       " 8,\n",
       " 10,\n",
       " 0.0714285714285714)"
      ]
     },
     "execution_count": 53,
     "metadata": {},
     "output_type": "execute_result"
    }
   ],
   "source": [
    "# Exemple:\n",
    "fusionne(data_2D_norm, depart)"
   ]
  },
  {
   "cell_type": "code",
   "execution_count": 54,
   "metadata": {},
   "outputs": [
    {
     "name": "stdout",
     "output_type": "stream",
     "text": [
      "Distance mininimale trouvée entre [8,10]  = 0.0714285714285714\n"
     ]
    },
    {
     "data": {
      "text/plain": [
       "({0: [0],\n",
       "  1: [1],\n",
       "  2: [2],\n",
       "  3: [3],\n",
       "  4: [4],\n",
       "  5: [5],\n",
       "  6: [6],\n",
       "  7: [7],\n",
       "  9: [9],\n",
       "  11: [11],\n",
       "  12: [12],\n",
       "  13: [13],\n",
       "  14: [8, 10]},\n",
       " 8,\n",
       " 10,\n",
       " 0.0714285714285714)"
      ]
     },
     "execution_count": 54,
     "metadata": {},
     "output_type": "execute_result"
    }
   ],
   "source": [
    "# Exemple avec verbose:\n",
    "fusionne(data_2D_norm, depart,verbose=True)"
   ]
  },
  {
   "cell_type": "markdown",
   "metadata": {},
   "source": [
    "<font size=\"+1\" color=\"RED\"><b>[Q]</b></font> Ecrire la fonction <code>CHA_centroid</code> qui prend en argument un dataframe et rend une liste composée de listes contenant chacune:\n",
    "- les 2 indices d'éléments fusionnés\n",
    "- la distance les séparant\n",
    "- la somme du nombre d'éléments des 2 éléments fusionnés\n",
    "\n",
    "Remarque: chaque sous-liste contient donc les 3 dernières valeurs du résultats de `fusionne()`.\n"
   ]
  },
  {
   "cell_type": "code",
   "execution_count": 111,
   "metadata": {},
   "outputs": [],
   "source": [
    "def CHA_centroid(df,verbose=False,dendrogramme=False):\n",
    "    result = []\n",
    "    partition = initialise_CHA(data_2D_norm)\n",
    "    for o in range(len(df)):\n",
    "        partition,k1, k2, distance = fusionne(df, partition,verbose)\n",
    "        if k1!=-1 and k2 !=-1:\n",
    "            result.append([k1, k2, distance, len(partition[max(partition.keys())])])\n",
    "        \n",
    "    if dendrogramme:\n",
    "        # Paramètre de la fenêtre d'affichage: \n",
    "        plt.figure(figsize=(30, 15)) # taille : largeur x hauteur\n",
    "        plt.title('Dendrogramme', fontsize=25)    \n",
    "        plt.xlabel(\"Indice d'exemple\", fontsize=25)\n",
    "        plt.ylabel('Distance', fontsize=25)\n",
    "        # Construction du dendrogramme pour notre clustering :\n",
    "        scipy.cluster.hierarchy.dendrogram(result, leaf_font_size=24.,)\n",
    "\n",
    "        # Affichage du résultat obtenu:\n",
    "        plt.show()\n",
    "    return result"
   ]
  },
  {
   "cell_type": "code",
   "execution_count": 112,
   "metadata": {},
   "outputs": [
    {
     "data": {
      "text/plain": [
       "[[8, 10, 0.0714285714285714, 2],\n",
       " [7, 9, 0.07142857142857151, 2],\n",
       " [2, 3, 0.14285714285714285, 2],\n",
       " [6, 11, 0.1428571428571429, 2],\n",
       " [0, 1, 0.17437936593905287, 2],\n",
       " [15, 17, 0.20316375219039837, 4],\n",
       " [4, 16, 0.21237241067597867, 3],\n",
       " [12, 14, 0.26811891970176366, 3],\n",
       " [5, 19, 0.3047456282855976, 5],\n",
       " [13, 22, 0.4542857142857144, 6],\n",
       " [20, 21, 0.5000000000000001, 6],\n",
       " [18, 24, 0.638139657302555, 8],\n",
       " [23, 25, 0.6796842379114776, 14]]"
      ]
     },
     "execution_count": 112,
     "metadata": {},
     "output_type": "execute_result"
    }
   ],
   "source": [
    "# L'application sur nos données:\n",
    "CHA_centroid(data_2D_norm)"
   ]
  },
  {
   "cell_type": "markdown",
   "metadata": {},
   "source": [
    "### Construction de dendrogramme"
   ]
  },
  {
   "cell_type": "markdown",
   "metadata": {},
   "source": [
    "Le dendrogramme permet de visualiser les fusions de clusters réalisés tout au long du déroulement de l'algorithme de clustering hiérarchique.\n",
    "\n",
    "Pour cette représentation graphique, on utilise une fonction de la librairie `scipy`."
   ]
  },
  {
   "cell_type": "code",
   "execution_count": 113,
   "metadata": {},
   "outputs": [
    {
     "data": {
      "image/png": "[encoded data removed]",
      "text/plain": [
       "<Figure size 2160x1080 with 1 Axes>"
      ]
     },
     "metadata": {
      "needs_background": "light"
     },
     "output_type": "display_data"
    }
   ],
   "source": [
    "import scipy.cluster.hierarchy\n",
    "\n",
    "# Paramètre de la fenêtre d'affichage: \n",
    "plt.figure(figsize=(30, 15)) # taille : largeur x hauteur\n",
    "plt.title('Dendrogramme', fontsize=25)    \n",
    "plt.xlabel(\"Indice d'exemple\", fontsize=25)\n",
    "plt.ylabel('Distance', fontsize=25)\n",
    "\n",
    "# Construction du dendrogramme pour notre clustering :\n",
    "scipy.cluster.hierarchy.dendrogram(\n",
    "    CHA_centroid(data_2D_norm), \n",
    "    leaf_font_size=24.,  # taille des caractères de l'axe des X\n",
    ")\n",
    "\n",
    "# Affichage du résultat obtenu:\n",
    "plt.show()"
   ]
  },
  {
   "cell_type": "markdown",
   "metadata": {},
   "source": [
    "<font size=\"+1\" color=\"RED\"><b>[Q]</b></font>Modifier la fonction <code>CHA_centroid</code> en lui rajoutant deux arguments supplémentaires avec valeurs par défaut:\n",
    "- `verbose=False` qui indique si un message doit être affiché lors de la fusion des clusters en donnant le nom des 2 éléments fusionnés et leur distance.\n",
    "- `dendrogramme=False` pour indiquer si on souhaite ou pas l'affichage du dendrogramme résultat. Si c'est le cas, le dendrogramme sera donc afficher à l'issue de la fonction."
   ]
  },
  {
   "cell_type": "code",
   "execution_count": 114,
   "metadata": {},
   "outputs": [],
   "source": [
    "import scipy.cluster.hierarchy\n",
    "\n"
   ]
  },
  {
   "cell_type": "code",
   "execution_count": 115,
   "metadata": {},
   "outputs": [
    {
     "data": {
      "text/plain": [
       "[[8, 10, 0.0714285714285714, 2],\n",
       " [7, 9, 0.07142857142857151, 2],\n",
       " [2, 3, 0.14285714285714285, 2],\n",
       " [6, 11, 0.1428571428571429, 2],\n",
       " [0, 1, 0.17437936593905287, 2],\n",
       " [15, 17, 0.20316375219039837, 4],\n",
       " [4, 16, 0.21237241067597867, 3],\n",
       " [12, 14, 0.26811891970176366, 3],\n",
       " [5, 19, 0.3047456282855976, 5],\n",
       " [13, 22, 0.4542857142857144, 6],\n",
       " [20, 21, 0.5000000000000001, 6],\n",
       " [18, 24, 0.638139657302555, 8],\n",
       " [23, 25, 0.6796842379114776, 14]]"
      ]
     },
     "execution_count": 115,
     "metadata": {},
     "output_type": "execute_result"
    }
   ],
   "source": [
    "CHA_centroid(data_2D_norm)"
   ]
  },
  {
   "cell_type": "code",
   "execution_count": 116,
   "metadata": {},
   "outputs": [
    {
     "name": "stdout",
     "output_type": "stream",
     "text": [
      "Distance mininimale trouvée entre [8,10]  = 0.0714285714285714\n",
      "Distance mininimale trouvée entre [7,9]  = 0.07142857142857151\n",
      "Distance mininimale trouvée entre [2,3]  = 0.14285714285714285\n",
      "Distance mininimale trouvée entre [6,11]  = 0.1428571428571429\n",
      "Distance mininimale trouvée entre [0,1]  = 0.17437936593905287\n",
      "Distance mininimale trouvée entre [15,17]  = 0.20316375219039837\n",
      "Distance mininimale trouvée entre [4,16]  = 0.21237241067597867\n",
      "Distance mininimale trouvée entre [12,14]  = 0.26811891970176366\n",
      "Distance mininimale trouvée entre [5,19]  = 0.3047456282855976\n",
      "Distance mininimale trouvée entre [13,22]  = 0.4542857142857144\n",
      "Distance mininimale trouvée entre [20,21]  = 0.5000000000000001\n",
      "Distance mininimale trouvée entre [18,24]  = 0.638139657302555\n",
      "Distance mininimale trouvée entre [23,25]  = 0.6796842379114776\n"
     ]
    },
    {
     "data": {
      "image/png": "[encoded data removed]",
      "text/plain": [
       "<Figure size 2160x1080 with 1 Axes>"
      ]
     },
     "metadata": {
      "needs_background": "light"
     },
     "output_type": "display_data"
    },
    {
     "data": {
      "text/plain": [
       "[[8, 10, 0.0714285714285714, 2],\n",
       " [7, 9, 0.07142857142857151, 2],\n",
       " [2, 3, 0.14285714285714285, 2],\n",
       " [6, 11, 0.1428571428571429, 2],\n",
       " [0, 1, 0.17437936593905287, 2],\n",
       " [15, 17, 0.20316375219039837, 4],\n",
       " [4, 16, 0.21237241067597867, 3],\n",
       " [12, 14, 0.26811891970176366, 3],\n",
       " [5, 19, 0.3047456282855976, 5],\n",
       " [13, 22, 0.4542857142857144, 6],\n",
       " [20, 21, 0.5000000000000001, 6],\n",
       " [18, 24, 0.638139657302555, 8],\n",
       " [23, 25, 0.6796842379114776, 14]]"
      ]
     },
     "execution_count": 116,
     "metadata": {},
     "output_type": "execute_result"
    }
   ],
   "source": [
    "CHA_centroid(data_2D_norm,verbose=True,dendrogramme=True)"
   ]
  },
  {
   "cell_type": "markdown",
   "metadata": {},
   "source": [
    "## Variantes : complete linkage, simple linkage, average linkage"
   ]
  },
  {
   "cell_type": "markdown",
   "metadata": {},
   "source": [
    "<font size=\"+1\" color=\"RED\"><b>[Q]</b></font> Ecrire 3 nouvelles fonctions `clustering_hierarchique_complete`, `clustering_hierarchique_simple` et `clustering_hierarchique_average` qui implémentent le clustering hiérarchique basé le linkage correspondant.\n",
    "\n",
    "\n",
    "Puis afficher et comparer les dendrogrammes obtenus par les 4 approches de clustering implémentées."
   ]
  },
  {
   "cell_type": "code",
   "execution_count": 117,
   "metadata": {},
   "outputs": [],
   "source": [
    "from scipy.spatial.distance import cdist"
   ]
  },
  {
   "cell_type": "code",
   "execution_count": 118,
   "metadata": {},
   "outputs": [],
   "source": [
    "def dist_linkage(linkage, arr1, arr2):\n",
    "    r = cdist(arr1,arr2, 'euclidean')\n",
    "    if linkage == 'complete':\n",
    "        return np.max(r)\n",
    "    if linkage == 'simple':\n",
    "        return np.min(r)\n",
    "    if linkage == 'average':\n",
    "        return np.mean(r)"
   ]
  },
  {
   "cell_type": "code",
   "execution_count": 119,
   "metadata": {},
   "outputs": [],
   "source": [
    "def fusionne_linkage(df, linkage,partition, verbose=False):\n",
    "    dist_min = +np.inf\n",
    "    k1_dist_min, k2_dist_min = -1,-1\n",
    "    p_new = dict(partition)\n",
    "    for k1,v1 in partition.items():\n",
    "        for k2,v2 in partition.items():\n",
    "            if k1!=k2:\n",
    "                dist= dist_linkage(linkage,df.iloc[v1], df.iloc[v2])\n",
    "                if dist < dist_min:\n",
    "                    dist_min = dist\n",
    "                    k1_dist_min, k2_dist_min = k1, k2\n",
    "    if k1_dist_min != -1:\n",
    "        p_new.pop(k1_dist_min)\n",
    "        p_new.pop(k2_dist_min)\n",
    "        p_new[max(partition)+1] = [*partition[k1_dist_min], *partition[k2_dist_min]]\n",
    "    if verbose and k1_dist_min !=-1:\n",
    "        print(\"Distance mininimale trouvée entre [\"+str(k1_dist_min) +\",\" +str(k2_dist_min) +\"]  = \"+str(dist_min))\n",
    "    return p_new, k1_dist_min, k2_dist_min, dist_min"
   ]
  },
  {
   "cell_type": "markdown",
   "metadata": {},
   "source": [
    "<font size=\"+1\" color=\"RED\"><b>[Q]</b></font> Regrouper les 4 fonctions de clustering hiérarchique ascendant en écrivant une fonction `CHA` qui prend les mêmes arguments que chacune des 4 fonctions précédentes, et un argument suplémentaire `linkage`, qui est une chaîne de caractères parmi `\"centroid\"` (valeur par défaut),  `\"complete\"`,`\"simple\"`, et `\"average\"` et qui donne le nom de l'approche linkage à utiliser pour construire le clustering."
   ]
  },
  {
   "cell_type": "code",
   "execution_count": 128,
   "metadata": {},
   "outputs": [],
   "source": [
    "def CHA(DF,linkage='centroid', verbose=False,dendrogramme=False):\n",
    "    \"\"\"  ##### donner une documentation à cette fonction\n",
    "    \"\"\"\n",
    "    ############################ A COMPLETER\n",
    "    \n",
    "    if linkage=='centroid':\n",
    "        return CHA_centroid(DF,verbose,dendrogramme)\n",
    "    \n",
    "    result = []\n",
    "    partition = initialise_CHA(data_2D_norm)\n",
    "    for o in range(len(DF)):\n",
    "        partition,k1, k2, distance = fusionne_linkage(DF,linkage,partition,verbose)\n",
    "        if k1 !=-1 and k2 != -1:\n",
    "            result.append([k1, k2, distance, len(partition[max(partition.keys())])])\n",
    "        \n",
    "    if dendrogramme:\n",
    "        # Paramètre de la fenêtre d'affichage: \n",
    "        plt.figure(figsize=(30, 15)) # taille : largeur x hauteur\n",
    "        plt.title('Dendrogramme', fontsize=25)    \n",
    "        plt.xlabel(\"Indice d'exemple\", fontsize=25)\n",
    "        plt.ylabel('Distance', fontsize=25)\n",
    "        # Construction du dendrogramme pour notre clustering :\n",
    "        scipy.cluster.hierarchy.dendrogram(result, leaf_font_size=24.,)\n",
    "\n",
    "        # Affichage du résultat obtenu:\n",
    "        plt.show()\n",
    "    return result\n",
    "\n",
    "\n",
    "    "
   ]
  },
  {
   "cell_type": "code",
   "execution_count": 129,
   "metadata": {},
   "outputs": [],
   "source": [
    "def CHA_complet(DF,verbose=False,dendrogramme=False):\n",
    "    return CHA(DF,'complete',verbose,dendrogramme)\n",
    "\n",
    "def CHA_simple(DF,verbose=False,dendrogramme=False):\n",
    "    return CHA(DF,'simple',verbose,dendrogramme)\n",
    "\n",
    "def CHA_average(DF,verbose=False,dendrogramme=False):\n",
    "    return CHA(DF,'average',verbose,dendrogramme)"
   ]
  },
  {
   "cell_type": "code",
   "execution_count": 131,
   "metadata": {},
   "outputs": [
    {
     "name": "stdout",
     "output_type": "stream",
     "text": [
      "Distance mininimale trouvée entre [8,10]  = 0.0714285714285714\n",
      "Distance mininimale trouvée entre [7,9]  = 0.07142857142857151\n",
      "Distance mininimale trouvée entre [2,3]  = 0.14285714285714285\n",
      "Distance mininimale trouvée entre [6,11]  = 0.1428571428571429\n",
      "Distance mininimale trouvée entre [0,1]  = 0.17437936593905287\n",
      "Distance mininimale trouvée entre [15,17]  = 0.2457807219155036\n",
      "Distance mininimale trouvée entre [4,16]  = 0.24578072191550362\n",
      "Distance mininimale trouvée entre [12,14]  = 0.2931183504097598\n",
      "Distance mininimale trouvée entre [5,19]  = 0.40632750438079696\n",
      "Distance mininimale trouvée entre [13,22]  = 0.5862367008195198\n",
      "Distance mininimale trouvée entre [18,20]  = 0.6645544771207432\n",
      "Distance mininimale trouvée entre [21,24]  = 0.945882591842677\n",
      "Distance mininimale trouvée entre [23,25]  = 1.118033988749895\n"
     ]
    },
    {
     "data": {
      "image/png": "[encoded data removed]",
      "text/plain": [
       "<Figure size 2160x1080 with 1 Axes>"
      ]
     },
     "metadata": {
      "needs_background": "light"
     },
     "output_type": "display_data"
    },
    {
     "data": {
      "text/plain": [
       "[[8, 10, 0.0714285714285714, 2],\n",
       " [7, 9, 0.07142857142857151, 2],\n",
       " [2, 3, 0.14285714285714285, 2],\n",
       " [6, 11, 0.1428571428571429, 2],\n",
       " [0, 1, 0.17437936593905287, 2],\n",
       " [15, 17, 0.2457807219155036, 4],\n",
       " [4, 16, 0.24578072191550362, 3],\n",
       " [12, 14, 0.2931183504097598, 3],\n",
       " [5, 19, 0.40632750438079696, 5],\n",
       " [13, 22, 0.5862367008195198, 6],\n",
       " [18, 20, 0.6645544771207432, 5],\n",
       " [21, 24, 0.945882591842677, 8],\n",
       " [23, 25, 1.118033988749895, 14]]"
      ]
     },
     "execution_count": 131,
     "metadata": {},
     "output_type": "execute_result"
    }
   ],
   "source": [
    "CHA_complet(data_2D_norm,True,True)"
   ]
  },
  {
   "cell_type": "code",
   "execution_count": 132,
   "metadata": {},
   "outputs": [
    {
     "name": "stdout",
     "output_type": "stream",
     "text": [
      "Distance mininimale trouvée entre [8,10]  = 0.0714285714285714\n",
      "Distance mininimale trouvée entre [7,9]  = 0.07142857142857151\n",
      "Distance mininimale trouvée entre [2,3]  = 0.14285714285714285\n",
      "Distance mininimale trouvée entre [6,11]  = 0.1428571428571429\n",
      "Distance mininimale trouvée entre [0,1]  = 0.17437936593905287\n",
      "Distance mininimale trouvée entre [15,17]  = 0.19999999999999996\n",
      "Distance mininimale trouvée entre [4,16]  = 0.2\n",
      "Distance mininimale trouvée entre [5,19]  = 0.20000000000000007\n",
      "Distance mininimale trouvée entre [12,14]  = 0.2457807219155036\n",
      "Distance mininimale trouvée entre [18,20]  = 0.3322772385603716\n",
      "Distance mininimale trouvée entre [13,21]  = 0.3487587318781058\n",
      "Distance mininimale trouvée entre [22,23]  = 0.3571428571428572\n",
      "Distance mininimale trouvée entre [24,25]  = 0.4247448213519573\n"
     ]
    },
    {
     "data": {
      "image/png": "[encoded data removed]",
      "text/plain": [
       "<Figure size 2160x1080 with 1 Axes>"
      ]
     },
     "metadata": {
      "needs_background": "light"
     },
     "output_type": "display_data"
    },
    {
     "data": {
      "text/plain": [
       "[[8, 10, 0.0714285714285714, 2],\n",
       " [7, 9, 0.07142857142857151, 2],\n",
       " [2, 3, 0.14285714285714285, 2],\n",
       " [6, 11, 0.1428571428571429, 2],\n",
       " [0, 1, 0.17437936593905287, 2],\n",
       " [15, 17, 0.19999999999999996, 4],\n",
       " [4, 16, 0.2, 3],\n",
       " [5, 19, 0.20000000000000007, 5],\n",
       " [12, 14, 0.2457807219155036, 3],\n",
       " [18, 20, 0.3322772385603716, 5],\n",
       " [13, 21, 0.3487587318781058, 6],\n",
       " [22, 23, 0.3571428571428572, 8],\n",
       " [24, 25, 0.4247448213519573, 14]]"
      ]
     },
     "execution_count": 132,
     "metadata": {},
     "output_type": "execute_result"
    }
   ],
   "source": [
    "CHA_simple(data_2D_norm,True,True)"
   ]
  },
  {
   "cell_type": "code",
   "execution_count": 133,
   "metadata": {},
   "outputs": [
    {
     "name": "stdout",
     "output_type": "stream",
     "text": [
      "Distance mininimale trouvée entre [8,10]  = 0.0714285714285714\n",
      "Distance mininimale trouvée entre [7,9]  = 0.07142857142857151\n",
      "Distance mininimale trouvée entre [2,3]  = 0.14285714285714285\n",
      "Distance mininimale trouvée entre [6,11]  = 0.1428571428571429\n",
      "Distance mininimale trouvée entre [0,1]  = 0.17437936593905287\n",
      "Distance mininimale trouvée entre [15,17]  = 0.2176313858168652\n",
      "Distance mininimale trouvée entre [4,16]  = 0.22289036095775183\n",
      "Distance mininimale trouvée entre [12,14]  = 0.2694495361626317\n",
      "Distance mininimale trouvée entre [5,19]  = 0.31302705657407515\n",
      "Distance mininimale trouvée entre [13,22]  = 0.4745491993187841\n",
      "Distance mininimale trouvée entre [20,21]  = 0.5175575371779451\n",
      "Distance mininimale trouvée entre [18,24]  = 0.6770324690297006\n",
      "Distance mininimale trouvée entre [23,25]  = 0.784963189028133\n"
     ]
    },
    {
     "data": {
      "image/png": "[encoded data removed]",
      "text/plain": [
       "<Figure size 2160x1080 with 1 Axes>"
      ]
     },
     "metadata": {
      "needs_background": "light"
     },
     "output_type": "display_data"
    },
    {
     "data": {
      "text/plain": [
       "[[8, 10, 0.0714285714285714, 2],\n",
       " [7, 9, 0.07142857142857151, 2],\n",
       " [2, 3, 0.14285714285714285, 2],\n",
       " [6, 11, 0.1428571428571429, 2],\n",
       " [0, 1, 0.17437936593905287, 2],\n",
       " [15, 17, 0.2176313858168652, 4],\n",
       " [4, 16, 0.22289036095775183, 3],\n",
       " [12, 14, 0.2694495361626317, 3],\n",
       " [5, 19, 0.31302705657407515, 5],\n",
       " [13, 22, 0.4745491993187841, 6],\n",
       " [20, 21, 0.5175575371779451, 6],\n",
       " [18, 24, 0.6770324690297006, 8],\n",
       " [23, 25, 0.784963189028133, 14]]"
      ]
     },
     "execution_count": 133,
     "metadata": {},
     "output_type": "execute_result"
    }
   ],
   "source": [
    "CHA_average(data_2D_norm,True,True)"
   ]
  },
  {
   "cell_type": "markdown",
   "metadata": {},
   "source": [
    "## Ajout des fonctions dans la librairie `iads`\n",
    "\n",
    "<font size=\"+1\" color=\"RED\"><b>[Q]</b></font> Ajouter les fonctions de clustering dans votre librairie `iads`. Pour cela, créer un nouveau fichier de nom `Clustering.py` dans votre répertoire `iads`. \n",
    "Utiliser les premières lignes du fichier `Classifiers.py` pour débuter votre fichier `Clustering.py`, puis rajouter dans ce fichier les fonctions de clustering hiérarchique (tous linkages) de ce notebook, ainsi que les fonctions qu'elles utilisent."
   ]
  },
  {
   "cell_type": "markdown",
   "metadata": {},
   "source": [
    "## Phase 2 : application à des données réelles"
   ]
  },
  {
   "cell_type": "markdown",
   "metadata": {},
   "source": [
    "### Données: traitement des déchets de la ville de Paris"
   ]
  },
  {
   "cell_type": "markdown",
   "metadata": {},
   "source": [
    "Pour tester votre implémentation, vous allez utiliser les données publiques de traitement des déchets de la ville de Paris qui sont fournies dans le fichier `base-Paris.csv`.\n",
    "\n",
    "**Attention**: il faut préparer cette base afin de pouvoir appliquer l'algorithme de clustering: en particulier, certaines colonnes (Granularité, Total...) ne sont pas à utilisables dans le calcul des distances, il faut donc les éliminer. Il faut aussi prévoir de conserver le nom de l'arrondissement afin de pouvoir à la fin analyser le résultat du clustering.\n",
    "\n",
    "\n",
    "<font size=\"+1\" color=\"RED\"><b>[Q]</b></font> Etudier cette base et les clusters qui peuvent être mis en évidence.\n"
   ]
  },
  {
   "cell_type": "code",
   "execution_count": 61,
   "metadata": {},
   "outputs": [],
   "source": [
    "data_Paris = pd.read_csv(\"data/base-Paris.csv\")"
   ]
  },
  {
   "cell_type": "code",
   "execution_count": 98,
   "metadata": {},
   "outputs": [
    {
     "data": {
      "text/html": [
       "<div>\n",
       "<style scoped>\n",
       "    .dataframe tbody tr th:only-of-type {\n",
       "        vertical-align: middle;\n",
       "    }\n",
       "\n",
       "    .dataframe tbody tr th {\n",
       "        vertical-align: top;\n",
       "    }\n",
       "\n",
       "    .dataframe thead th {\n",
       "        text-align: right;\n",
       "    }\n",
       "</style>\n",
       "<table border=\"1\" class=\"dataframe\">\n",
       "  <thead>\n",
       "    <tr style=\"text-align: right;\">\n",
       "      <th></th>\n",
       "      <th>Granularité</th>\n",
       "      <th>janv-11</th>\n",
       "      <th>févr-11</th>\n",
       "      <th>mars-11</th>\n",
       "      <th>avr-11</th>\n",
       "      <th>mai-11</th>\n",
       "      <th>juin-11</th>\n",
       "      <th>juil-11</th>\n",
       "      <th>août-11</th>\n",
       "      <th>sept-11</th>\n",
       "      <th>oct-11</th>\n",
       "      <th>nov-11</th>\n",
       "      <th>déc-11</th>\n",
       "      <th>Total-2011</th>\n",
       "    </tr>\n",
       "  </thead>\n",
       "  <tbody>\n",
       "    <tr>\n",
       "      <th>0</th>\n",
       "      <td>75001</td>\n",
       "      <td>75.3</td>\n",
       "      <td>60.4</td>\n",
       "      <td>71.2</td>\n",
       "      <td>59.5</td>\n",
       "      <td>73.9</td>\n",
       "      <td>72.0</td>\n",
       "      <td>57.9</td>\n",
       "      <td>56.4</td>\n",
       "      <td>75.5</td>\n",
       "      <td>75.7</td>\n",
       "      <td>65.8</td>\n",
       "      <td>79.1</td>\n",
       "      <td>822.7</td>\n",
       "    </tr>\n",
       "    <tr>\n",
       "      <th>1</th>\n",
       "      <td>75002</td>\n",
       "      <td>153.0</td>\n",
       "      <td>125.8</td>\n",
       "      <td>136.6</td>\n",
       "      <td>126.6</td>\n",
       "      <td>133.2</td>\n",
       "      <td>127.6</td>\n",
       "      <td>126.7</td>\n",
       "      <td>114.3</td>\n",
       "      <td>144.3</td>\n",
       "      <td>145.1</td>\n",
       "      <td>129.5</td>\n",
       "      <td>129.8</td>\n",
       "      <td>1592.5</td>\n",
       "    </tr>\n",
       "    <tr>\n",
       "      <th>2</th>\n",
       "      <td>75003</td>\n",
       "      <td>183.9</td>\n",
       "      <td>173.1</td>\n",
       "      <td>204.2</td>\n",
       "      <td>183.0</td>\n",
       "      <td>203.2</td>\n",
       "      <td>181.9</td>\n",
       "      <td>191.2</td>\n",
       "      <td>153.6</td>\n",
       "      <td>208.6</td>\n",
       "      <td>186.5</td>\n",
       "      <td>192.9</td>\n",
       "      <td>189.9</td>\n",
       "      <td>2252.0</td>\n",
       "    </tr>\n",
       "    <tr>\n",
       "      <th>3</th>\n",
       "      <td>75004</td>\n",
       "      <td>116.3</td>\n",
       "      <td>115.7</td>\n",
       "      <td>133.4</td>\n",
       "      <td>115.0</td>\n",
       "      <td>123.2</td>\n",
       "      <td>120.5</td>\n",
       "      <td>114.5</td>\n",
       "      <td>97.6</td>\n",
       "      <td>130.5</td>\n",
       "      <td>123.0</td>\n",
       "      <td>124.3</td>\n",
       "      <td>133.7</td>\n",
       "      <td>1447.7</td>\n",
       "    </tr>\n",
       "    <tr>\n",
       "      <th>4</th>\n",
       "      <td>75005</td>\n",
       "      <td>247.0</td>\n",
       "      <td>211.0</td>\n",
       "      <td>251.0</td>\n",
       "      <td>218.0</td>\n",
       "      <td>185.0</td>\n",
       "      <td>224.0</td>\n",
       "      <td>213.3</td>\n",
       "      <td>162.9</td>\n",
       "      <td>203.4</td>\n",
       "      <td>232.1</td>\n",
       "      <td>227.6</td>\n",
       "      <td>251.6</td>\n",
       "      <td>2626.9</td>\n",
       "    </tr>\n",
       "    <tr>\n",
       "      <th>5</th>\n",
       "      <td>75006</td>\n",
       "      <td>222.0</td>\n",
       "      <td>189.0</td>\n",
       "      <td>218.0</td>\n",
       "      <td>192.0</td>\n",
       "      <td>180.0</td>\n",
       "      <td>199.0</td>\n",
       "      <td>171.8</td>\n",
       "      <td>134.8</td>\n",
       "      <td>183.1</td>\n",
       "      <td>195.5</td>\n",
       "      <td>213.8</td>\n",
       "      <td>204.1</td>\n",
       "      <td>2303.1</td>\n",
       "    </tr>\n",
       "    <tr>\n",
       "      <th>6</th>\n",
       "      <td>75007</td>\n",
       "      <td>288.1</td>\n",
       "      <td>249.1</td>\n",
       "      <td>303.7</td>\n",
       "      <td>255.8</td>\n",
       "      <td>287.8</td>\n",
       "      <td>288.4</td>\n",
       "      <td>249.6</td>\n",
       "      <td>185.6</td>\n",
       "      <td>281.3</td>\n",
       "      <td>284.3</td>\n",
       "      <td>296.4</td>\n",
       "      <td>301.1</td>\n",
       "      <td>3271.2</td>\n",
       "    </tr>\n",
       "    <tr>\n",
       "      <th>7</th>\n",
       "      <td>75008</td>\n",
       "      <td>252.6</td>\n",
       "      <td>246.7</td>\n",
       "      <td>252.9</td>\n",
       "      <td>232.5</td>\n",
       "      <td>199.4</td>\n",
       "      <td>236.4</td>\n",
       "      <td>175.4</td>\n",
       "      <td>189.4</td>\n",
       "      <td>266.6</td>\n",
       "      <td>230.3</td>\n",
       "      <td>257.7</td>\n",
       "      <td>224.4</td>\n",
       "      <td>2764.3</td>\n",
       "    </tr>\n",
       "    <tr>\n",
       "      <th>8</th>\n",
       "      <td>75009</td>\n",
       "      <td>208.3</td>\n",
       "      <td>197.1</td>\n",
       "      <td>220.4</td>\n",
       "      <td>197.9</td>\n",
       "      <td>151.7</td>\n",
       "      <td>206.9</td>\n",
       "      <td>199.9</td>\n",
       "      <td>163.3</td>\n",
       "      <td>223.8</td>\n",
       "      <td>203.6</td>\n",
       "      <td>213.8</td>\n",
       "      <td>235.7</td>\n",
       "      <td>2422.4</td>\n",
       "    </tr>\n",
       "    <tr>\n",
       "      <th>9</th>\n",
       "      <td>75010</td>\n",
       "      <td>273.0</td>\n",
       "      <td>248.6</td>\n",
       "      <td>292.2</td>\n",
       "      <td>255.2</td>\n",
       "      <td>284.3</td>\n",
       "      <td>267.3</td>\n",
       "      <td>246.6</td>\n",
       "      <td>210.3</td>\n",
       "      <td>280.6</td>\n",
       "      <td>275.6</td>\n",
       "      <td>284.6</td>\n",
       "      <td>283.2</td>\n",
       "      <td>3201.5</td>\n",
       "    </tr>\n",
       "    <tr>\n",
       "      <th>10</th>\n",
       "      <td>75011</td>\n",
       "      <td>487.2</td>\n",
       "      <td>422.2</td>\n",
       "      <td>491.0</td>\n",
       "      <td>437.0</td>\n",
       "      <td>466.0</td>\n",
       "      <td>443.0</td>\n",
       "      <td>373.5</td>\n",
       "      <td>367.5</td>\n",
       "      <td>511.9</td>\n",
       "      <td>490.6</td>\n",
       "      <td>469.2</td>\n",
       "      <td>487.9</td>\n",
       "      <td>5447.0</td>\n",
       "    </tr>\n",
       "    <tr>\n",
       "      <th>11</th>\n",
       "      <td>75012</td>\n",
       "      <td>484.2</td>\n",
       "      <td>445.9</td>\n",
       "      <td>517.0</td>\n",
       "      <td>452.0</td>\n",
       "      <td>402.0</td>\n",
       "      <td>488.0</td>\n",
       "      <td>456.0</td>\n",
       "      <td>409.0</td>\n",
       "      <td>506.0</td>\n",
       "      <td>495.0</td>\n",
       "      <td>493.0</td>\n",
       "      <td>502.0</td>\n",
       "      <td>5650.1</td>\n",
       "    </tr>\n",
       "    <tr>\n",
       "      <th>12</th>\n",
       "      <td>75013</td>\n",
       "      <td>596.5</td>\n",
       "      <td>540.2</td>\n",
       "      <td>618.5</td>\n",
       "      <td>558.6</td>\n",
       "      <td>595.9</td>\n",
       "      <td>581.7</td>\n",
       "      <td>539.2</td>\n",
       "      <td>490.5</td>\n",
       "      <td>597.8</td>\n",
       "      <td>575.7</td>\n",
       "      <td>580.5</td>\n",
       "      <td>601.4</td>\n",
       "      <td>6876.5</td>\n",
       "    </tr>\n",
       "    <tr>\n",
       "      <th>13</th>\n",
       "      <td>75014</td>\n",
       "      <td>464.0</td>\n",
       "      <td>404.9</td>\n",
       "      <td>465.3</td>\n",
       "      <td>420.2</td>\n",
       "      <td>405.3</td>\n",
       "      <td>446.0</td>\n",
       "      <td>412.9</td>\n",
       "      <td>348.7</td>\n",
       "      <td>449.3</td>\n",
       "      <td>446.3</td>\n",
       "      <td>453.1</td>\n",
       "      <td>484.3</td>\n",
       "      <td>5200.3</td>\n",
       "    </tr>\n",
       "    <tr>\n",
       "      <th>14</th>\n",
       "      <td>75015</td>\n",
       "      <td>903.1</td>\n",
       "      <td>801.4</td>\n",
       "      <td>937.5</td>\n",
       "      <td>835.5</td>\n",
       "      <td>876.8</td>\n",
       "      <td>888.6</td>\n",
       "      <td>628.8</td>\n",
       "      <td>674.8</td>\n",
       "      <td>913.3</td>\n",
       "      <td>878.7</td>\n",
       "      <td>895.7</td>\n",
       "      <td>935.8</td>\n",
       "      <td>10170.0</td>\n",
       "    </tr>\n",
       "    <tr>\n",
       "      <th>15</th>\n",
       "      <td>75016</td>\n",
       "      <td>584.1</td>\n",
       "      <td>571.2</td>\n",
       "      <td>684.7</td>\n",
       "      <td>590.3</td>\n",
       "      <td>563.4</td>\n",
       "      <td>666.3</td>\n",
       "      <td>570.4</td>\n",
       "      <td>433.2</td>\n",
       "      <td>679.7</td>\n",
       "      <td>656.1</td>\n",
       "      <td>662.6</td>\n",
       "      <td>699.9</td>\n",
       "      <td>7361.9</td>\n",
       "    </tr>\n",
       "    <tr>\n",
       "      <th>16</th>\n",
       "      <td>75017</td>\n",
       "      <td>451.1</td>\n",
       "      <td>412.4</td>\n",
       "      <td>491.6</td>\n",
       "      <td>422.7</td>\n",
       "      <td>363.6</td>\n",
       "      <td>446.4</td>\n",
       "      <td>409.5</td>\n",
       "      <td>332.3</td>\n",
       "      <td>416.4</td>\n",
       "      <td>451.5</td>\n",
       "      <td>475.1</td>\n",
       "      <td>513.5</td>\n",
       "      <td>5186.1</td>\n",
       "    </tr>\n",
       "    <tr>\n",
       "      <th>17</th>\n",
       "      <td>75018</td>\n",
       "      <td>427.0</td>\n",
       "      <td>394.3</td>\n",
       "      <td>455.2</td>\n",
       "      <td>419.9</td>\n",
       "      <td>458.3</td>\n",
       "      <td>456.6</td>\n",
       "      <td>418.0</td>\n",
       "      <td>361.8</td>\n",
       "      <td>464.6</td>\n",
       "      <td>453.4</td>\n",
       "      <td>478.5</td>\n",
       "      <td>470.9</td>\n",
       "      <td>5258.5</td>\n",
       "    </tr>\n",
       "    <tr>\n",
       "      <th>18</th>\n",
       "      <td>75019</td>\n",
       "      <td>323.4</td>\n",
       "      <td>287.3</td>\n",
       "      <td>350.3</td>\n",
       "      <td>317.8</td>\n",
       "      <td>336.9</td>\n",
       "      <td>340.7</td>\n",
       "      <td>311.6</td>\n",
       "      <td>281.0</td>\n",
       "      <td>345.6</td>\n",
       "      <td>335.6</td>\n",
       "      <td>367.0</td>\n",
       "      <td>354.5</td>\n",
       "      <td>3951.7</td>\n",
       "    </tr>\n",
       "    <tr>\n",
       "      <th>19</th>\n",
       "      <td>75020</td>\n",
       "      <td>394.1</td>\n",
       "      <td>366.3</td>\n",
       "      <td>422.7</td>\n",
       "      <td>367.1</td>\n",
       "      <td>273.5</td>\n",
       "      <td>381.7</td>\n",
       "      <td>353.4</td>\n",
       "      <td>297.0</td>\n",
       "      <td>414.0</td>\n",
       "      <td>350.0</td>\n",
       "      <td>410.6</td>\n",
       "      <td>410.0</td>\n",
       "      <td>4440.4</td>\n",
       "    </tr>\n",
       "    <tr>\n",
       "      <th>20</th>\n",
       "      <td>Tous</td>\n",
       "      <td>7134.2</td>\n",
       "      <td>6462.6</td>\n",
       "      <td>7517.4</td>\n",
       "      <td>6656.6</td>\n",
       "      <td>6563.4</td>\n",
       "      <td>7063.0</td>\n",
       "      <td>6220.2</td>\n",
       "      <td>5464.0</td>\n",
       "      <td>7296.3</td>\n",
       "      <td>7084.6</td>\n",
       "      <td>7291.7</td>\n",
       "      <td>7492.8</td>\n",
       "      <td>82246.8</td>\n",
       "    </tr>\n",
       "  </tbody>\n",
       "</table>\n",
       "</div>"
      ],
      "text/plain": [
       "   Granularité  janv-11  févr-11  mars-11  avr-11  mai-11  juin-11  juil-11  \\\n",
       "0        75001     75.3     60.4     71.2    59.5    73.9     72.0     57.9   \n",
       "1        75002    153.0    125.8    136.6   126.6   133.2    127.6    126.7   \n",
       "2        75003    183.9    173.1    204.2   183.0   203.2    181.9    191.2   \n",
       "3        75004    116.3    115.7    133.4   115.0   123.2    120.5    114.5   \n",
       "4        75005    247.0    211.0    251.0   218.0   185.0    224.0    213.3   \n",
       "5        75006    222.0    189.0    218.0   192.0   180.0    199.0    171.8   \n",
       "6        75007    288.1    249.1    303.7   255.8   287.8    288.4    249.6   \n",
       "7        75008    252.6    246.7    252.9   232.5   199.4    236.4    175.4   \n",
       "8        75009    208.3    197.1    220.4   197.9   151.7    206.9    199.9   \n",
       "9        75010    273.0    248.6    292.2   255.2   284.3    267.3    246.6   \n",
       "10       75011    487.2    422.2    491.0   437.0   466.0    443.0    373.5   \n",
       "11       75012    484.2    445.9    517.0   452.0   402.0    488.0    456.0   \n",
       "12       75013    596.5    540.2    618.5   558.6   595.9    581.7    539.2   \n",
       "13       75014    464.0    404.9    465.3   420.2   405.3    446.0    412.9   \n",
       "14       75015    903.1    801.4    937.5   835.5   876.8    888.6    628.8   \n",
       "15       75016    584.1    571.2    684.7   590.3   563.4    666.3    570.4   \n",
       "16       75017    451.1    412.4    491.6   422.7   363.6    446.4    409.5   \n",
       "17       75018    427.0    394.3    455.2   419.9   458.3    456.6    418.0   \n",
       "18       75019    323.4    287.3    350.3   317.8   336.9    340.7    311.6   \n",
       "19       75020    394.1    366.3    422.7   367.1   273.5    381.7    353.4   \n",
       "20        Tous   7134.2   6462.6   7517.4  6656.6  6563.4   7063.0   6220.2   \n",
       "\n",
       "    août-11  sept-11  oct-11  nov-11  déc-11  Total-2011  \n",
       "0      56.4     75.5    75.7    65.8    79.1       822.7  \n",
       "1     114.3    144.3   145.1   129.5   129.8      1592.5  \n",
       "2     153.6    208.6   186.5   192.9   189.9      2252.0  \n",
       "3      97.6    130.5   123.0   124.3   133.7      1447.7  \n",
       "4     162.9    203.4   232.1   227.6   251.6      2626.9  \n",
       "5     134.8    183.1   195.5   213.8   204.1      2303.1  \n",
       "6     185.6    281.3   284.3   296.4   301.1      3271.2  \n",
       "7     189.4    266.6   230.3   257.7   224.4      2764.3  \n",
       "8     163.3    223.8   203.6   213.8   235.7      2422.4  \n",
       "9     210.3    280.6   275.6   284.6   283.2      3201.5  \n",
       "10    367.5    511.9   490.6   469.2   487.9      5447.0  \n",
       "11    409.0    506.0   495.0   493.0   502.0      5650.1  \n",
       "12    490.5    597.8   575.7   580.5   601.4      6876.5  \n",
       "13    348.7    449.3   446.3   453.1   484.3      5200.3  \n",
       "14    674.8    913.3   878.7   895.7   935.8     10170.0  \n",
       "15    433.2    679.7   656.1   662.6   699.9      7361.9  \n",
       "16    332.3    416.4   451.5   475.1   513.5      5186.1  \n",
       "17    361.8    464.6   453.4   478.5   470.9      5258.5  \n",
       "18    281.0    345.6   335.6   367.0   354.5      3951.7  \n",
       "19    297.0    414.0   350.0   410.6   410.0      4440.4  \n",
       "20   5464.0   7296.3  7084.6  7291.7  7492.8     82246.8  "
      ]
     },
     "execution_count": 98,
     "metadata": {},
     "output_type": "execute_result"
    }
   ],
   "source": [
    "data_Paris"
   ]
  },
  {
   "cell_type": "code",
   "execution_count": 97,
   "metadata": {},
   "outputs": [
    {
     "data": {
      "text/html": [
       "<div>\n",
       "<style scoped>\n",
       "    .dataframe tbody tr th:only-of-type {\n",
       "        vertical-align: middle;\n",
       "    }\n",
       "\n",
       "    .dataframe tbody tr th {\n",
       "        vertical-align: top;\n",
       "    }\n",
       "\n",
       "    .dataframe thead th {\n",
       "        text-align: right;\n",
       "    }\n",
       "</style>\n",
       "<table border=\"1\" class=\"dataframe\">\n",
       "  <thead>\n",
       "    <tr style=\"text-align: right;\">\n",
       "      <th></th>\n",
       "      <th>janv-11</th>\n",
       "      <th>févr-11</th>\n",
       "      <th>mars-11</th>\n",
       "      <th>avr-11</th>\n",
       "      <th>mai-11</th>\n",
       "      <th>juin-11</th>\n",
       "      <th>juil-11</th>\n",
       "      <th>août-11</th>\n",
       "      <th>sept-11</th>\n",
       "      <th>oct-11</th>\n",
       "      <th>nov-11</th>\n",
       "      <th>déc-11</th>\n",
       "      <th>Total-2011</th>\n",
       "    </tr>\n",
       "  </thead>\n",
       "  <tbody>\n",
       "    <tr>\n",
       "      <th>0</th>\n",
       "      <td>75.3</td>\n",
       "      <td>60.4</td>\n",
       "      <td>71.2</td>\n",
       "      <td>59.5</td>\n",
       "      <td>73.9</td>\n",
       "      <td>72.0</td>\n",
       "      <td>57.9</td>\n",
       "      <td>56.4</td>\n",
       "      <td>75.5</td>\n",
       "      <td>75.7</td>\n",
       "      <td>65.8</td>\n",
       "      <td>79.1</td>\n",
       "      <td>822.7</td>\n",
       "    </tr>\n",
       "    <tr>\n",
       "      <th>1</th>\n",
       "      <td>153.0</td>\n",
       "      <td>125.8</td>\n",
       "      <td>136.6</td>\n",
       "      <td>126.6</td>\n",
       "      <td>133.2</td>\n",
       "      <td>127.6</td>\n",
       "      <td>126.7</td>\n",
       "      <td>114.3</td>\n",
       "      <td>144.3</td>\n",
       "      <td>145.1</td>\n",
       "      <td>129.5</td>\n",
       "      <td>129.8</td>\n",
       "      <td>1592.5</td>\n",
       "    </tr>\n",
       "    <tr>\n",
       "      <th>2</th>\n",
       "      <td>183.9</td>\n",
       "      <td>173.1</td>\n",
       "      <td>204.2</td>\n",
       "      <td>183.0</td>\n",
       "      <td>203.2</td>\n",
       "      <td>181.9</td>\n",
       "      <td>191.2</td>\n",
       "      <td>153.6</td>\n",
       "      <td>208.6</td>\n",
       "      <td>186.5</td>\n",
       "      <td>192.9</td>\n",
       "      <td>189.9</td>\n",
       "      <td>2252.0</td>\n",
       "    </tr>\n",
       "    <tr>\n",
       "      <th>3</th>\n",
       "      <td>116.3</td>\n",
       "      <td>115.7</td>\n",
       "      <td>133.4</td>\n",
       "      <td>115.0</td>\n",
       "      <td>123.2</td>\n",
       "      <td>120.5</td>\n",
       "      <td>114.5</td>\n",
       "      <td>97.6</td>\n",
       "      <td>130.5</td>\n",
       "      <td>123.0</td>\n",
       "      <td>124.3</td>\n",
       "      <td>133.7</td>\n",
       "      <td>1447.7</td>\n",
       "    </tr>\n",
       "    <tr>\n",
       "      <th>4</th>\n",
       "      <td>247.0</td>\n",
       "      <td>211.0</td>\n",
       "      <td>251.0</td>\n",
       "      <td>218.0</td>\n",
       "      <td>185.0</td>\n",
       "      <td>224.0</td>\n",
       "      <td>213.3</td>\n",
       "      <td>162.9</td>\n",
       "      <td>203.4</td>\n",
       "      <td>232.1</td>\n",
       "      <td>227.6</td>\n",
       "      <td>251.6</td>\n",
       "      <td>2626.9</td>\n",
       "    </tr>\n",
       "    <tr>\n",
       "      <th>5</th>\n",
       "      <td>222.0</td>\n",
       "      <td>189.0</td>\n",
       "      <td>218.0</td>\n",
       "      <td>192.0</td>\n",
       "      <td>180.0</td>\n",
       "      <td>199.0</td>\n",
       "      <td>171.8</td>\n",
       "      <td>134.8</td>\n",
       "      <td>183.1</td>\n",
       "      <td>195.5</td>\n",
       "      <td>213.8</td>\n",
       "      <td>204.1</td>\n",
       "      <td>2303.1</td>\n",
       "    </tr>\n",
       "    <tr>\n",
       "      <th>6</th>\n",
       "      <td>288.1</td>\n",
       "      <td>249.1</td>\n",
       "      <td>303.7</td>\n",
       "      <td>255.8</td>\n",
       "      <td>287.8</td>\n",
       "      <td>288.4</td>\n",
       "      <td>249.6</td>\n",
       "      <td>185.6</td>\n",
       "      <td>281.3</td>\n",
       "      <td>284.3</td>\n",
       "      <td>296.4</td>\n",
       "      <td>301.1</td>\n",
       "      <td>3271.2</td>\n",
       "    </tr>\n",
       "    <tr>\n",
       "      <th>7</th>\n",
       "      <td>252.6</td>\n",
       "      <td>246.7</td>\n",
       "      <td>252.9</td>\n",
       "      <td>232.5</td>\n",
       "      <td>199.4</td>\n",
       "      <td>236.4</td>\n",
       "      <td>175.4</td>\n",
       "      <td>189.4</td>\n",
       "      <td>266.6</td>\n",
       "      <td>230.3</td>\n",
       "      <td>257.7</td>\n",
       "      <td>224.4</td>\n",
       "      <td>2764.3</td>\n",
       "    </tr>\n",
       "    <tr>\n",
       "      <th>8</th>\n",
       "      <td>208.3</td>\n",
       "      <td>197.1</td>\n",
       "      <td>220.4</td>\n",
       "      <td>197.9</td>\n",
       "      <td>151.7</td>\n",
       "      <td>206.9</td>\n",
       "      <td>199.9</td>\n",
       "      <td>163.3</td>\n",
       "      <td>223.8</td>\n",
       "      <td>203.6</td>\n",
       "      <td>213.8</td>\n",
       "      <td>235.7</td>\n",
       "      <td>2422.4</td>\n",
       "    </tr>\n",
       "    <tr>\n",
       "      <th>9</th>\n",
       "      <td>273.0</td>\n",
       "      <td>248.6</td>\n",
       "      <td>292.2</td>\n",
       "      <td>255.2</td>\n",
       "      <td>284.3</td>\n",
       "      <td>267.3</td>\n",
       "      <td>246.6</td>\n",
       "      <td>210.3</td>\n",
       "      <td>280.6</td>\n",
       "      <td>275.6</td>\n",
       "      <td>284.6</td>\n",
       "      <td>283.2</td>\n",
       "      <td>3201.5</td>\n",
       "    </tr>\n",
       "    <tr>\n",
       "      <th>10</th>\n",
       "      <td>487.2</td>\n",
       "      <td>422.2</td>\n",
       "      <td>491.0</td>\n",
       "      <td>437.0</td>\n",
       "      <td>466.0</td>\n",
       "      <td>443.0</td>\n",
       "      <td>373.5</td>\n",
       "      <td>367.5</td>\n",
       "      <td>511.9</td>\n",
       "      <td>490.6</td>\n",
       "      <td>469.2</td>\n",
       "      <td>487.9</td>\n",
       "      <td>5447.0</td>\n",
       "    </tr>\n",
       "    <tr>\n",
       "      <th>11</th>\n",
       "      <td>484.2</td>\n",
       "      <td>445.9</td>\n",
       "      <td>517.0</td>\n",
       "      <td>452.0</td>\n",
       "      <td>402.0</td>\n",
       "      <td>488.0</td>\n",
       "      <td>456.0</td>\n",
       "      <td>409.0</td>\n",
       "      <td>506.0</td>\n",
       "      <td>495.0</td>\n",
       "      <td>493.0</td>\n",
       "      <td>502.0</td>\n",
       "      <td>5650.1</td>\n",
       "    </tr>\n",
       "    <tr>\n",
       "      <th>12</th>\n",
       "      <td>596.5</td>\n",
       "      <td>540.2</td>\n",
       "      <td>618.5</td>\n",
       "      <td>558.6</td>\n",
       "      <td>595.9</td>\n",
       "      <td>581.7</td>\n",
       "      <td>539.2</td>\n",
       "      <td>490.5</td>\n",
       "      <td>597.8</td>\n",
       "      <td>575.7</td>\n",
       "      <td>580.5</td>\n",
       "      <td>601.4</td>\n",
       "      <td>6876.5</td>\n",
       "    </tr>\n",
       "    <tr>\n",
       "      <th>13</th>\n",
       "      <td>464.0</td>\n",
       "      <td>404.9</td>\n",
       "      <td>465.3</td>\n",
       "      <td>420.2</td>\n",
       "      <td>405.3</td>\n",
       "      <td>446.0</td>\n",
       "      <td>412.9</td>\n",
       "      <td>348.7</td>\n",
       "      <td>449.3</td>\n",
       "      <td>446.3</td>\n",
       "      <td>453.1</td>\n",
       "      <td>484.3</td>\n",
       "      <td>5200.3</td>\n",
       "    </tr>\n",
       "    <tr>\n",
       "      <th>14</th>\n",
       "      <td>903.1</td>\n",
       "      <td>801.4</td>\n",
       "      <td>937.5</td>\n",
       "      <td>835.5</td>\n",
       "      <td>876.8</td>\n",
       "      <td>888.6</td>\n",
       "      <td>628.8</td>\n",
       "      <td>674.8</td>\n",
       "      <td>913.3</td>\n",
       "      <td>878.7</td>\n",
       "      <td>895.7</td>\n",
       "      <td>935.8</td>\n",
       "      <td>10170.0</td>\n",
       "    </tr>\n",
       "    <tr>\n",
       "      <th>15</th>\n",
       "      <td>584.1</td>\n",
       "      <td>571.2</td>\n",
       "      <td>684.7</td>\n",
       "      <td>590.3</td>\n",
       "      <td>563.4</td>\n",
       "      <td>666.3</td>\n",
       "      <td>570.4</td>\n",
       "      <td>433.2</td>\n",
       "      <td>679.7</td>\n",
       "      <td>656.1</td>\n",
       "      <td>662.6</td>\n",
       "      <td>699.9</td>\n",
       "      <td>7361.9</td>\n",
       "    </tr>\n",
       "    <tr>\n",
       "      <th>16</th>\n",
       "      <td>451.1</td>\n",
       "      <td>412.4</td>\n",
       "      <td>491.6</td>\n",
       "      <td>422.7</td>\n",
       "      <td>363.6</td>\n",
       "      <td>446.4</td>\n",
       "      <td>409.5</td>\n",
       "      <td>332.3</td>\n",
       "      <td>416.4</td>\n",
       "      <td>451.5</td>\n",
       "      <td>475.1</td>\n",
       "      <td>513.5</td>\n",
       "      <td>5186.1</td>\n",
       "    </tr>\n",
       "    <tr>\n",
       "      <th>17</th>\n",
       "      <td>427.0</td>\n",
       "      <td>394.3</td>\n",
       "      <td>455.2</td>\n",
       "      <td>419.9</td>\n",
       "      <td>458.3</td>\n",
       "      <td>456.6</td>\n",
       "      <td>418.0</td>\n",
       "      <td>361.8</td>\n",
       "      <td>464.6</td>\n",
       "      <td>453.4</td>\n",
       "      <td>478.5</td>\n",
       "      <td>470.9</td>\n",
       "      <td>5258.5</td>\n",
       "    </tr>\n",
       "    <tr>\n",
       "      <th>18</th>\n",
       "      <td>323.4</td>\n",
       "      <td>287.3</td>\n",
       "      <td>350.3</td>\n",
       "      <td>317.8</td>\n",
       "      <td>336.9</td>\n",
       "      <td>340.7</td>\n",
       "      <td>311.6</td>\n",
       "      <td>281.0</td>\n",
       "      <td>345.6</td>\n",
       "      <td>335.6</td>\n",
       "      <td>367.0</td>\n",
       "      <td>354.5</td>\n",
       "      <td>3951.7</td>\n",
       "    </tr>\n",
       "    <tr>\n",
       "      <th>19</th>\n",
       "      <td>394.1</td>\n",
       "      <td>366.3</td>\n",
       "      <td>422.7</td>\n",
       "      <td>367.1</td>\n",
       "      <td>273.5</td>\n",
       "      <td>381.7</td>\n",
       "      <td>353.4</td>\n",
       "      <td>297.0</td>\n",
       "      <td>414.0</td>\n",
       "      <td>350.0</td>\n",
       "      <td>410.6</td>\n",
       "      <td>410.0</td>\n",
       "      <td>4440.4</td>\n",
       "    </tr>\n",
       "    <tr>\n",
       "      <th>20</th>\n",
       "      <td>7134.2</td>\n",
       "      <td>6462.6</td>\n",
       "      <td>7517.4</td>\n",
       "      <td>6656.6</td>\n",
       "      <td>6563.4</td>\n",
       "      <td>7063.0</td>\n",
       "      <td>6220.2</td>\n",
       "      <td>5464.0</td>\n",
       "      <td>7296.3</td>\n",
       "      <td>7084.6</td>\n",
       "      <td>7291.7</td>\n",
       "      <td>7492.8</td>\n",
       "      <td>82246.8</td>\n",
       "    </tr>\n",
       "  </tbody>\n",
       "</table>\n",
       "</div>"
      ],
      "text/plain": [
       "    janv-11  févr-11  mars-11  avr-11  mai-11  juin-11  juil-11  août-11  \\\n",
       "0      75.3     60.4     71.2    59.5    73.9     72.0     57.9     56.4   \n",
       "1     153.0    125.8    136.6   126.6   133.2    127.6    126.7    114.3   \n",
       "2     183.9    173.1    204.2   183.0   203.2    181.9    191.2    153.6   \n",
       "3     116.3    115.7    133.4   115.0   123.2    120.5    114.5     97.6   \n",
       "4     247.0    211.0    251.0   218.0   185.0    224.0    213.3    162.9   \n",
       "5     222.0    189.0    218.0   192.0   180.0    199.0    171.8    134.8   \n",
       "6     288.1    249.1    303.7   255.8   287.8    288.4    249.6    185.6   \n",
       "7     252.6    246.7    252.9   232.5   199.4    236.4    175.4    189.4   \n",
       "8     208.3    197.1    220.4   197.9   151.7    206.9    199.9    163.3   \n",
       "9     273.0    248.6    292.2   255.2   284.3    267.3    246.6    210.3   \n",
       "10    487.2    422.2    491.0   437.0   466.0    443.0    373.5    367.5   \n",
       "11    484.2    445.9    517.0   452.0   402.0    488.0    456.0    409.0   \n",
       "12    596.5    540.2    618.5   558.6   595.9    581.7    539.2    490.5   \n",
       "13    464.0    404.9    465.3   420.2   405.3    446.0    412.9    348.7   \n",
       "14    903.1    801.4    937.5   835.5   876.8    888.6    628.8    674.8   \n",
       "15    584.1    571.2    684.7   590.3   563.4    666.3    570.4    433.2   \n",
       "16    451.1    412.4    491.6   422.7   363.6    446.4    409.5    332.3   \n",
       "17    427.0    394.3    455.2   419.9   458.3    456.6    418.0    361.8   \n",
       "18    323.4    287.3    350.3   317.8   336.9    340.7    311.6    281.0   \n",
       "19    394.1    366.3    422.7   367.1   273.5    381.7    353.4    297.0   \n",
       "20   7134.2   6462.6   7517.4  6656.6  6563.4   7063.0   6220.2   5464.0   \n",
       "\n",
       "    sept-11  oct-11  nov-11  déc-11  Total-2011  \n",
       "0      75.5    75.7    65.8    79.1       822.7  \n",
       "1     144.3   145.1   129.5   129.8      1592.5  \n",
       "2     208.6   186.5   192.9   189.9      2252.0  \n",
       "3     130.5   123.0   124.3   133.7      1447.7  \n",
       "4     203.4   232.1   227.6   251.6      2626.9  \n",
       "5     183.1   195.5   213.8   204.1      2303.1  \n",
       "6     281.3   284.3   296.4   301.1      3271.2  \n",
       "7     266.6   230.3   257.7   224.4      2764.3  \n",
       "8     223.8   203.6   213.8   235.7      2422.4  \n",
       "9     280.6   275.6   284.6   283.2      3201.5  \n",
       "10    511.9   490.6   469.2   487.9      5447.0  \n",
       "11    506.0   495.0   493.0   502.0      5650.1  \n",
       "12    597.8   575.7   580.5   601.4      6876.5  \n",
       "13    449.3   446.3   453.1   484.3      5200.3  \n",
       "14    913.3   878.7   895.7   935.8     10170.0  \n",
       "15    679.7   656.1   662.6   699.9      7361.9  \n",
       "16    416.4   451.5   475.1   513.5      5186.1  \n",
       "17    464.6   453.4   478.5   470.9      5258.5  \n",
       "18    345.6   335.6   367.0   354.5      3951.7  \n",
       "19    414.0   350.0   410.6   410.0      4440.4  \n",
       "20   7296.3  7084.6  7291.7  7492.8     82246.8  "
      ]
     },
     "execution_count": 97,
     "metadata": {},
     "output_type": "execute_result"
    }
   ],
   "source": [
    "data_Paris_analyse=data_Paris.drop(columns=[\"Granularité\"])\n",
    "data_Paris_analyse"
   ]
  },
  {
   "cell_type": "markdown",
   "metadata": {
    "collapsed": true
   },
   "source": [
    "<font size=\"+1\" color=\"RED\"><b>[Q]</b></font> Préparer un rapport d'analyse (c'est-à-dire, compléter votre notebook en rajoutant à la suite tout un ensemble d'expérimentations et de résultats obtenus sur la base) réalisé sur cette base qui mette en évidence les clusters existants à différents niveaux de distance, et en utilisant différentes distances.\n"
   ]
  },
  {
   "cell_type": "code",
   "execution_count": 99,
   "metadata": {},
   "outputs": [
    {
     "data": {
      "text/html": [
       "<div>\n",
       "<style scoped>\n",
       "    .dataframe tbody tr th:only-of-type {\n",
       "        vertical-align: middle;\n",
       "    }\n",
       "\n",
       "    .dataframe tbody tr th {\n",
       "        vertical-align: top;\n",
       "    }\n",
       "\n",
       "    .dataframe thead th {\n",
       "        text-align: right;\n",
       "    }\n",
       "</style>\n",
       "<table border=\"1\" class=\"dataframe\">\n",
       "  <thead>\n",
       "    <tr style=\"text-align: right;\">\n",
       "      <th></th>\n",
       "      <th>janv-11</th>\n",
       "      <th>févr-11</th>\n",
       "      <th>mars-11</th>\n",
       "      <th>avr-11</th>\n",
       "      <th>mai-11</th>\n",
       "      <th>juin-11</th>\n",
       "      <th>juil-11</th>\n",
       "      <th>août-11</th>\n",
       "      <th>sept-11</th>\n",
       "      <th>oct-11</th>\n",
       "      <th>nov-11</th>\n",
       "      <th>déc-11</th>\n",
       "      <th>Total-2011</th>\n",
       "    </tr>\n",
       "  </thead>\n",
       "  <tbody>\n",
       "    <tr>\n",
       "      <th>0</th>\n",
       "      <td>0.000000</td>\n",
       "      <td>0.000000</td>\n",
       "      <td>0.000000</td>\n",
       "      <td>0.000000</td>\n",
       "      <td>0.000000</td>\n",
       "      <td>0.000000</td>\n",
       "      <td>0.000000</td>\n",
       "      <td>0.000000</td>\n",
       "      <td>0.000000</td>\n",
       "      <td>0.000000</td>\n",
       "      <td>0.000000</td>\n",
       "      <td>0.000000</td>\n",
       "      <td>0.000000</td>\n",
       "    </tr>\n",
       "    <tr>\n",
       "      <th>1</th>\n",
       "      <td>0.011007</td>\n",
       "      <td>0.010215</td>\n",
       "      <td>0.008783</td>\n",
       "      <td>0.010171</td>\n",
       "      <td>0.009138</td>\n",
       "      <td>0.007953</td>\n",
       "      <td>0.011165</td>\n",
       "      <td>0.010707</td>\n",
       "      <td>0.009528</td>\n",
       "      <td>0.009902</td>\n",
       "      <td>0.008816</td>\n",
       "      <td>0.006839</td>\n",
       "      <td>0.009454</td>\n",
       "    </tr>\n",
       "    <tr>\n",
       "      <th>2</th>\n",
       "      <td>0.015385</td>\n",
       "      <td>0.017603</td>\n",
       "      <td>0.017861</td>\n",
       "      <td>0.018720</td>\n",
       "      <td>0.019924</td>\n",
       "      <td>0.015720</td>\n",
       "      <td>0.021632</td>\n",
       "      <td>0.017975</td>\n",
       "      <td>0.018433</td>\n",
       "      <td>0.015808</td>\n",
       "      <td>0.017590</td>\n",
       "      <td>0.014945</td>\n",
       "      <td>0.017554</td>\n",
       "    </tr>\n",
       "    <tr>\n",
       "      <th>3</th>\n",
       "      <td>0.005808</td>\n",
       "      <td>0.008638</td>\n",
       "      <td>0.008353</td>\n",
       "      <td>0.008413</td>\n",
       "      <td>0.007597</td>\n",
       "      <td>0.006937</td>\n",
       "      <td>0.009185</td>\n",
       "      <td>0.007619</td>\n",
       "      <td>0.007617</td>\n",
       "      <td>0.006749</td>\n",
       "      <td>0.008096</td>\n",
       "      <td>0.007365</td>\n",
       "      <td>0.007676</td>\n",
       "    </tr>\n",
       "    <tr>\n",
       "      <th>4</th>\n",
       "      <td>0.024324</td>\n",
       "      <td>0.023523</td>\n",
       "      <td>0.024147</td>\n",
       "      <td>0.024026</td>\n",
       "      <td>0.017120</td>\n",
       "      <td>0.021742</td>\n",
       "      <td>0.025218</td>\n",
       "      <td>0.019695</td>\n",
       "      <td>0.017713</td>\n",
       "      <td>0.022314</td>\n",
       "      <td>0.022392</td>\n",
       "      <td>0.023268</td>\n",
       "      <td>0.022158</td>\n",
       "    </tr>\n",
       "    <tr>\n",
       "      <th>5</th>\n",
       "      <td>0.020782</td>\n",
       "      <td>0.020087</td>\n",
       "      <td>0.019715</td>\n",
       "      <td>0.020085</td>\n",
       "      <td>0.016349</td>\n",
       "      <td>0.018166</td>\n",
       "      <td>0.018483</td>\n",
       "      <td>0.014498</td>\n",
       "      <td>0.014901</td>\n",
       "      <td>0.017093</td>\n",
       "      <td>0.020482</td>\n",
       "      <td>0.016861</td>\n",
       "      <td>0.018181</td>\n",
       "    </tr>\n",
       "    <tr>\n",
       "      <th>6</th>\n",
       "      <td>0.030146</td>\n",
       "      <td>0.029474</td>\n",
       "      <td>0.031224</td>\n",
       "      <td>0.029755</td>\n",
       "      <td>0.032961</td>\n",
       "      <td>0.030954</td>\n",
       "      <td>0.031109</td>\n",
       "      <td>0.023892</td>\n",
       "      <td>0.028501</td>\n",
       "      <td>0.029762</td>\n",
       "      <td>0.031913</td>\n",
       "      <td>0.029945</td>\n",
       "      <td>0.030071</td>\n",
       "    </tr>\n",
       "    <tr>\n",
       "      <th>7</th>\n",
       "      <td>0.025117</td>\n",
       "      <td>0.029099</td>\n",
       "      <td>0.024402</td>\n",
       "      <td>0.026224</td>\n",
       "      <td>0.019339</td>\n",
       "      <td>0.023516</td>\n",
       "      <td>0.019068</td>\n",
       "      <td>0.024595</td>\n",
       "      <td>0.026465</td>\n",
       "      <td>0.022058</td>\n",
       "      <td>0.026557</td>\n",
       "      <td>0.019599</td>\n",
       "      <td>0.023846</td>\n",
       "    </tr>\n",
       "    <tr>\n",
       "      <th>8</th>\n",
       "      <td>0.018841</td>\n",
       "      <td>0.021352</td>\n",
       "      <td>0.020037</td>\n",
       "      <td>0.020979</td>\n",
       "      <td>0.011989</td>\n",
       "      <td>0.019296</td>\n",
       "      <td>0.023043</td>\n",
       "      <td>0.019768</td>\n",
       "      <td>0.020538</td>\n",
       "      <td>0.018248</td>\n",
       "      <td>0.020482</td>\n",
       "      <td>0.021123</td>\n",
       "      <td>0.019647</td>\n",
       "    </tr>\n",
       "    <tr>\n",
       "      <th>9</th>\n",
       "      <td>0.028007</td>\n",
       "      <td>0.029396</td>\n",
       "      <td>0.029680</td>\n",
       "      <td>0.029665</td>\n",
       "      <td>0.032422</td>\n",
       "      <td>0.027936</td>\n",
       "      <td>0.030622</td>\n",
       "      <td>0.028460</td>\n",
       "      <td>0.028404</td>\n",
       "      <td>0.028521</td>\n",
       "      <td>0.030280</td>\n",
       "      <td>0.027530</td>\n",
       "      <td>0.029215</td>\n",
       "    </tr>\n",
       "    <tr>\n",
       "      <th>10</th>\n",
       "      <td>0.058352</td>\n",
       "      <td>0.056512</td>\n",
       "      <td>0.056378</td>\n",
       "      <td>0.057222</td>\n",
       "      <td>0.060421</td>\n",
       "      <td>0.053068</td>\n",
       "      <td>0.051215</td>\n",
       "      <td>0.057530</td>\n",
       "      <td>0.060437</td>\n",
       "      <td>0.059196</td>\n",
       "      <td>0.055827</td>\n",
       "      <td>0.055141</td>\n",
       "      <td>0.056793</td>\n",
       "    </tr>\n",
       "    <tr>\n",
       "      <th>11</th>\n",
       "      <td>0.057927</td>\n",
       "      <td>0.060214</td>\n",
       "      <td>0.059869</td>\n",
       "      <td>0.059496</td>\n",
       "      <td>0.050559</td>\n",
       "      <td>0.059505</td>\n",
       "      <td>0.064603</td>\n",
       "      <td>0.065205</td>\n",
       "      <td>0.059619</td>\n",
       "      <td>0.059824</td>\n",
       "      <td>0.059121</td>\n",
       "      <td>0.057043</td>\n",
       "      <td>0.059287</td>\n",
       "    </tr>\n",
       "    <tr>\n",
       "      <th>12</th>\n",
       "      <td>0.073836</td>\n",
       "      <td>0.074943</td>\n",
       "      <td>0.073501</td>\n",
       "      <td>0.075654</td>\n",
       "      <td>0.080438</td>\n",
       "      <td>0.072908</td>\n",
       "      <td>0.078104</td>\n",
       "      <td>0.080276</td>\n",
       "      <td>0.072333</td>\n",
       "      <td>0.071338</td>\n",
       "      <td>0.071230</td>\n",
       "      <td>0.070451</td>\n",
       "      <td>0.074349</td>\n",
       "    </tr>\n",
       "    <tr>\n",
       "      <th>13</th>\n",
       "      <td>0.055065</td>\n",
       "      <td>0.053810</td>\n",
       "      <td>0.052926</td>\n",
       "      <td>0.054676</td>\n",
       "      <td>0.051067</td>\n",
       "      <td>0.053497</td>\n",
       "      <td>0.057608</td>\n",
       "      <td>0.054054</td>\n",
       "      <td>0.051767</td>\n",
       "      <td>0.052876</td>\n",
       "      <td>0.053599</td>\n",
       "      <td>0.054656</td>\n",
       "      <td>0.053763</td>\n",
       "    </tr>\n",
       "    <tr>\n",
       "      <th>14</th>\n",
       "      <td>0.117270</td>\n",
       "      <td>0.115741</td>\n",
       "      <td>0.116341</td>\n",
       "      <td>0.117627</td>\n",
       "      <td>0.123723</td>\n",
       "      <td>0.116807</td>\n",
       "      <td>0.092644</td>\n",
       "      <td>0.114358</td>\n",
       "      <td>0.116026</td>\n",
       "      <td>0.114569</td>\n",
       "      <td>0.114851</td>\n",
       "      <td>0.115556</td>\n",
       "      <td>0.114798</td>\n",
       "    </tr>\n",
       "    <tr>\n",
       "      <th>15</th>\n",
       "      <td>0.072079</td>\n",
       "      <td>0.079785</td>\n",
       "      <td>0.082391</td>\n",
       "      <td>0.080460</td>\n",
       "      <td>0.075430</td>\n",
       "      <td>0.085009</td>\n",
       "      <td>0.083167</td>\n",
       "      <td>0.069680</td>\n",
       "      <td>0.083675</td>\n",
       "      <td>0.082809</td>\n",
       "      <td>0.082592</td>\n",
       "      <td>0.083737</td>\n",
       "      <td>0.080310</td>\n",
       "    </tr>\n",
       "    <tr>\n",
       "      <th>16</th>\n",
       "      <td>0.053238</td>\n",
       "      <td>0.054981</td>\n",
       "      <td>0.056458</td>\n",
       "      <td>0.055054</td>\n",
       "      <td>0.044641</td>\n",
       "      <td>0.053555</td>\n",
       "      <td>0.057057</td>\n",
       "      <td>0.051021</td>\n",
       "      <td>0.047211</td>\n",
       "      <td>0.053618</td>\n",
       "      <td>0.056643</td>\n",
       "      <td>0.058594</td>\n",
       "      <td>0.053589</td>\n",
       "    </tr>\n",
       "    <tr>\n",
       "      <th>17</th>\n",
       "      <td>0.049824</td>\n",
       "      <td>0.052154</td>\n",
       "      <td>0.051570</td>\n",
       "      <td>0.054630</td>\n",
       "      <td>0.059234</td>\n",
       "      <td>0.055014</td>\n",
       "      <td>0.058436</td>\n",
       "      <td>0.056476</td>\n",
       "      <td>0.053886</td>\n",
       "      <td>0.053889</td>\n",
       "      <td>0.057114</td>\n",
       "      <td>0.052848</td>\n",
       "      <td>0.054478</td>\n",
       "    </tr>\n",
       "    <tr>\n",
       "      <th>18</th>\n",
       "      <td>0.035147</td>\n",
       "      <td>0.035441</td>\n",
       "      <td>0.037482</td>\n",
       "      <td>0.039154</td>\n",
       "      <td>0.040527</td>\n",
       "      <td>0.038435</td>\n",
       "      <td>0.041170</td>\n",
       "      <td>0.041534</td>\n",
       "      <td>0.037406</td>\n",
       "      <td>0.037081</td>\n",
       "      <td>0.041683</td>\n",
       "      <td>0.037147</td>\n",
       "      <td>0.038428</td>\n",
       "    </tr>\n",
       "    <tr>\n",
       "      <th>19</th>\n",
       "      <td>0.045163</td>\n",
       "      <td>0.047780</td>\n",
       "      <td>0.047205</td>\n",
       "      <td>0.046627</td>\n",
       "      <td>0.030757</td>\n",
       "      <td>0.044300</td>\n",
       "      <td>0.047953</td>\n",
       "      <td>0.044493</td>\n",
       "      <td>0.046878</td>\n",
       "      <td>0.039136</td>\n",
       "      <td>0.047717</td>\n",
       "      <td>0.044634</td>\n",
       "      <td>0.044430</td>\n",
       "    </tr>\n",
       "    <tr>\n",
       "      <th>20</th>\n",
       "      <td>1.000000</td>\n",
       "      <td>1.000000</td>\n",
       "      <td>1.000000</td>\n",
       "      <td>1.000000</td>\n",
       "      <td>1.000000</td>\n",
       "      <td>1.000000</td>\n",
       "      <td>1.000000</td>\n",
       "      <td>1.000000</td>\n",
       "      <td>1.000000</td>\n",
       "      <td>1.000000</td>\n",
       "      <td>1.000000</td>\n",
       "      <td>1.000000</td>\n",
       "      <td>1.000000</td>\n",
       "    </tr>\n",
       "  </tbody>\n",
       "</table>\n",
       "</div>"
      ],
      "text/plain": [
       "     janv-11   févr-11   mars-11    avr-11    mai-11   juin-11   juil-11  \\\n",
       "0   0.000000  0.000000  0.000000  0.000000  0.000000  0.000000  0.000000   \n",
       "1   0.011007  0.010215  0.008783  0.010171  0.009138  0.007953  0.011165   \n",
       "2   0.015385  0.017603  0.017861  0.018720  0.019924  0.015720  0.021632   \n",
       "3   0.005808  0.008638  0.008353  0.008413  0.007597  0.006937  0.009185   \n",
       "4   0.024324  0.023523  0.024147  0.024026  0.017120  0.021742  0.025218   \n",
       "5   0.020782  0.020087  0.019715  0.020085  0.016349  0.018166  0.018483   \n",
       "6   0.030146  0.029474  0.031224  0.029755  0.032961  0.030954  0.031109   \n",
       "7   0.025117  0.029099  0.024402  0.026224  0.019339  0.023516  0.019068   \n",
       "8   0.018841  0.021352  0.020037  0.020979  0.011989  0.019296  0.023043   \n",
       "9   0.028007  0.029396  0.029680  0.029665  0.032422  0.027936  0.030622   \n",
       "10  0.058352  0.056512  0.056378  0.057222  0.060421  0.053068  0.051215   \n",
       "11  0.057927  0.060214  0.059869  0.059496  0.050559  0.059505  0.064603   \n",
       "12  0.073836  0.074943  0.073501  0.075654  0.080438  0.072908  0.078104   \n",
       "13  0.055065  0.053810  0.052926  0.054676  0.051067  0.053497  0.057608   \n",
       "14  0.117270  0.115741  0.116341  0.117627  0.123723  0.116807  0.092644   \n",
       "15  0.072079  0.079785  0.082391  0.080460  0.075430  0.085009  0.083167   \n",
       "16  0.053238  0.054981  0.056458  0.055054  0.044641  0.053555  0.057057   \n",
       "17  0.049824  0.052154  0.051570  0.054630  0.059234  0.055014  0.058436   \n",
       "18  0.035147  0.035441  0.037482  0.039154  0.040527  0.038435  0.041170   \n",
       "19  0.045163  0.047780  0.047205  0.046627  0.030757  0.044300  0.047953   \n",
       "20  1.000000  1.000000  1.000000  1.000000  1.000000  1.000000  1.000000   \n",
       "\n",
       "     août-11   sept-11    oct-11    nov-11    déc-11  Total-2011  \n",
       "0   0.000000  0.000000  0.000000  0.000000  0.000000    0.000000  \n",
       "1   0.010707  0.009528  0.009902  0.008816  0.006839    0.009454  \n",
       "2   0.017975  0.018433  0.015808  0.017590  0.014945    0.017554  \n",
       "3   0.007619  0.007617  0.006749  0.008096  0.007365    0.007676  \n",
       "4   0.019695  0.017713  0.022314  0.022392  0.023268    0.022158  \n",
       "5   0.014498  0.014901  0.017093  0.020482  0.016861    0.018181  \n",
       "6   0.023892  0.028501  0.029762  0.031913  0.029945    0.030071  \n",
       "7   0.024595  0.026465  0.022058  0.026557  0.019599    0.023846  \n",
       "8   0.019768  0.020538  0.018248  0.020482  0.021123    0.019647  \n",
       "9   0.028460  0.028404  0.028521  0.030280  0.027530    0.029215  \n",
       "10  0.057530  0.060437  0.059196  0.055827  0.055141    0.056793  \n",
       "11  0.065205  0.059619  0.059824  0.059121  0.057043    0.059287  \n",
       "12  0.080276  0.072333  0.071338  0.071230  0.070451    0.074349  \n",
       "13  0.054054  0.051767  0.052876  0.053599  0.054656    0.053763  \n",
       "14  0.114358  0.116026  0.114569  0.114851  0.115556    0.114798  \n",
       "15  0.069680  0.083675  0.082809  0.082592  0.083737    0.080310  \n",
       "16  0.051021  0.047211  0.053618  0.056643  0.058594    0.053589  \n",
       "17  0.056476  0.053886  0.053889  0.057114  0.052848    0.054478  \n",
       "18  0.041534  0.037406  0.037081  0.041683  0.037147    0.038428  \n",
       "19  0.044493  0.046878  0.039136  0.047717  0.044634    0.044430  \n",
       "20  1.000000  1.000000  1.000000  1.000000  1.000000    1.000000  "
      ]
     },
     "execution_count": 99,
     "metadata": {},
     "output_type": "execute_result"
    }
   ],
   "source": [
    "df_paris_norm=normalisation(data_Paris_analyse)\n",
    "df_paris_norm"
   ]
  },
  {
   "cell_type": "code",
   "execution_count": 135,
   "metadata": {},
   "outputs": [
    {
     "name": "stdout",
     "output_type": "stream",
     "text": [
      "Distance mininimale trouvée entre [6,9]  = 0.0069466063236251745\n",
      "Distance mininimale trouvée entre [1,3]  = 0.008198205808727857\n",
      "Distance mininimale trouvée entre [2,5]  = 0.010387771573183009\n",
      "Distance mininimale trouvée entre [8,16]  = 0.01124075964771933\n",
      "Distance mininimale trouvée entre [4,17]  = 0.014591521819523069\n",
      "Distance mininimale trouvée entre [10,13]  = 0.01751081215120277\n",
      "Distance mininimale trouvée entre [7,18]  = 0.01936160155417772\n",
      "Distance mininimale trouvée entre [11,19]  = 0.019791502613847076\n",
      "Distance mininimale trouvée entre [0,15]  = 0.031150003246809096\n",
      "Distance mininimale trouvée entre [14,20]  = 0.03450456115053446\n",
      "Distance mininimale trouvée entre [22,23]  = 0.06212262956491593\n",
      "Distance mininimale trouvée entre [12,21]  = 0.06558725612981481\n",
      "Distance mininimale trouvée entre [24,25]  = 0.156411209690421\n"
     ]
    },
    {
     "data": {
      "image/png": "[encoded data removed]",
      "text/plain": [
       "<Figure size 2160x1080 with 1 Axes>"
      ]
     },
     "metadata": {
      "needs_background": "light"
     },
     "output_type": "display_data"
    },
    {
     "data": {
      "text/plain": [
       "[[6, 9, 0.0069466063236251745, 2],\n",
       " [1, 3, 0.008198205808727857, 2],\n",
       " [2, 5, 0.010387771573183009, 2],\n",
       " [8, 16, 0.01124075964771933, 3],\n",
       " [4, 17, 0.014591521819523069, 4],\n",
       " [10, 13, 0.01751081215120277, 2],\n",
       " [7, 18, 0.01936160155417772, 5],\n",
       " [11, 19, 0.019791502613847076, 3],\n",
       " [0, 15, 0.031150003246809096, 3],\n",
       " [14, 20, 0.03450456115053446, 7],\n",
       " [22, 23, 0.06212262956491593, 10],\n",
       " [12, 21, 0.06558725612981481, 4],\n",
       " [24, 25, 0.156411209690421, 14]]"
      ]
     },
     "execution_count": 135,
     "metadata": {},
     "output_type": "execute_result"
    }
   ],
   "source": [
    "CHA_centroid(df_paris_norm,True,True)"
   ]
  },
  {
   "cell_type": "code",
   "execution_count": 136,
   "metadata": {},
   "outputs": [
    {
     "name": "stdout",
     "output_type": "stream",
     "text": [
      "Distance mininimale trouvée entre [6,9]  = 0.0069466063236251745\n",
      "Distance mininimale trouvée entre [1,3]  = 0.008198205808727857\n",
      "Distance mininimale trouvée entre [2,5]  = 0.010387771573183009\n",
      "Distance mininimale trouvée entre [4,8]  = 0.01170727986806727\n",
      "Distance mininimale trouvée entre [10,13]  = 0.01751081215120277\n",
      "Distance mininimale trouvée entre [7,17]  = 0.019063300274669896\n",
      "Distance mininimale trouvée entre [11,18]  = 0.022514470370239275\n",
      "Distance mininimale trouvée entre [16,19]  = 0.0261286237439684\n",
      "Distance mininimale trouvée entre [0,15]  = 0.03456647120594062\n",
      "Distance mininimale trouvée entre [14,21]  = 0.04548511183134368\n",
      "Distance mininimale trouvée entre [12,20]  = 0.07587735878237223\n",
      "Distance mininimale trouvée entre [22,23]  = 0.10834431158583688\n",
      "Distance mininimale trouvée entre [24,25]  = 0.2690914994281\n"
     ]
    },
    {
     "data": {
      "image/png": "[encoded data removed]",
      "text/plain": [
       "<Figure size 2160x1080 with 1 Axes>"
      ]
     },
     "metadata": {
      "needs_background": "light"
     },
     "output_type": "display_data"
    },
    {
     "data": {
      "text/plain": [
       "[[6, 9, 0.0069466063236251745, 2],\n",
       " [1, 3, 0.008198205808727857, 2],\n",
       " [2, 5, 0.010387771573183009, 2],\n",
       " [4, 8, 0.01170727986806727, 2],\n",
       " [10, 13, 0.01751081215120277, 2],\n",
       " [7, 17, 0.019063300274669896, 3],\n",
       " [11, 18, 0.022514470370239275, 3],\n",
       " [16, 19, 0.0261286237439684, 5],\n",
       " [0, 15, 0.03456647120594062, 3],\n",
       " [14, 21, 0.04548511183134368, 7],\n",
       " [12, 20, 0.07587735878237223, 4],\n",
       " [22, 23, 0.10834431158583688, 10],\n",
       " [24, 25, 0.2690914994281, 14]]"
      ]
     },
     "execution_count": 136,
     "metadata": {},
     "output_type": "execute_result"
    }
   ],
   "source": [
    "CHA_complet(df_paris_norm,True,True)"
   ]
  },
  {
   "cell_type": "code",
   "execution_count": 137,
   "metadata": {},
   "outputs": [
    {
     "name": "stdout",
     "output_type": "stream",
     "text": [
      "Distance mininimale trouvée entre [6,9]  = 0.0069466063236251745\n",
      "Distance mininimale trouvée entre [1,3]  = 0.008198205808727857\n",
      "Distance mininimale trouvée entre [2,5]  = 0.010387771573183009\n",
      "Distance mininimale trouvée entre [8,16]  = 0.011338249807308163\n",
      "Distance mininimale trouvée entre [4,17]  = 0.01170727986806727\n",
      "Distance mininimale trouvée entre [7,18]  = 0.01472626428153075\n",
      "Distance mininimale trouvée entre [10,13]  = 0.01751081215120277\n",
      "Distance mininimale trouvée entre [11,20]  = 0.020732101834421028\n",
      "Distance mininimale trouvée entre [14,19]  = 0.023203233269241928\n",
      "Distance mininimale trouvée entre [0,15]  = 0.02791791113537047\n",
      "Distance mininimale trouvée entre [22,23]  = 0.02984619422052757\n",
      "Distance mininimale trouvée entre [12,21]  = 0.056975816362210836\n",
      "Distance mininimale trouvée entre [24,25]  = 0.08643439863565283\n"
     ]
    },
    {
     "data": {
      "image/png": "[encoded data removed]",
      "text/plain": [
       "<Figure size 2160x1080 with 1 Axes>"
      ]
     },
     "metadata": {
      "needs_background": "light"
     },
     "output_type": "display_data"
    },
    {
     "data": {
      "text/plain": [
       "[[6, 9, 0.0069466063236251745, 2],\n",
       " [1, 3, 0.008198205808727857, 2],\n",
       " [2, 5, 0.010387771573183009, 2],\n",
       " [8, 16, 0.011338249807308163, 3],\n",
       " [4, 17, 0.01170727986806727, 4],\n",
       " [7, 18, 0.01472626428153075, 5],\n",
       " [10, 13, 0.01751081215120277, 2],\n",
       " [11, 20, 0.020732101834421028, 3],\n",
       " [14, 19, 0.023203233269241928, 7],\n",
       " [0, 15, 0.02791791113537047, 3],\n",
       " [22, 23, 0.02984619422052757, 10],\n",
       " [12, 21, 0.056975816362210836, 4],\n",
       " [24, 25, 0.08643439863565283, 14]]"
      ]
     },
     "execution_count": 137,
     "metadata": {},
     "output_type": "execute_result"
    }
   ],
   "source": [
    "CHA_simple(df_paris_norm,True,True)"
   ]
  },
  {
   "cell_type": "code",
   "execution_count": 138,
   "metadata": {},
   "outputs": [
    {
     "name": "stdout",
     "output_type": "stream",
     "text": [
      "Distance mininimale trouvée entre [6,9]  = 0.0069466063236251745\n",
      "Distance mininimale trouvée entre [1,3]  = 0.008198205808727857\n",
      "Distance mininimale trouvée entre [2,5]  = 0.010387771573183009\n",
      "Distance mininimale trouvée entre [4,8]  = 0.01170727986806727\n",
      "Distance mininimale trouvée entre [16,17]  = 0.015044832360324896\n",
      "Distance mininimale trouvée entre [10,13]  = 0.01751081215120277\n",
      "Distance mininimale trouvée entre [7,18]  = 0.020758728113960206\n",
      "Distance mininimale trouvée entre [11,19]  = 0.02162328610233015\n",
      "Distance mininimale trouvée entre [0,15]  = 0.031242191170655544\n",
      "Distance mininimale trouvée entre [14,20]  = 0.035570952927134684\n",
      "Distance mininimale trouvée entre [22,23]  = 0.06262260108865142\n",
      "Distance mininimale trouvée entre [12,21]  = 0.06618288801591266\n",
      "Distance mininimale trouvée entre [24,25]  = 0.15681392614045803\n"
     ]
    },
    {
     "data": {
      "image/png": "[encoded data removed]",
      "text/plain": [
       "<Figure size 2160x1080 with 1 Axes>"
      ]
     },
     "metadata": {
      "needs_background": "light"
     },
     "output_type": "display_data"
    },
    {
     "data": {
      "text/plain": [
       "[[6, 9, 0.0069466063236251745, 2],\n",
       " [1, 3, 0.008198205808727857, 2],\n",
       " [2, 5, 0.010387771573183009, 2],\n",
       " [4, 8, 0.01170727986806727, 2],\n",
       " [16, 17, 0.015044832360324896, 4],\n",
       " [10, 13, 0.01751081215120277, 2],\n",
       " [7, 18, 0.020758728113960206, 5],\n",
       " [11, 19, 0.02162328610233015, 3],\n",
       " [0, 15, 0.031242191170655544, 3],\n",
       " [14, 20, 0.035570952927134684, 7],\n",
       " [22, 23, 0.06262260108865142, 10],\n",
       " [12, 21, 0.06618288801591266, 4],\n",
       " [24, 25, 0.15681392614045803, 14]]"
      ]
     },
     "execution_count": 138,
     "metadata": {},
     "output_type": "execute_result"
    }
   ],
   "source": [
    "CHA_average(df_paris_norm,True,True)"
   ]
  },
  {
   "cell_type": "code",
   "execution_count": null,
   "metadata": {},
   "outputs": [],
   "source": []
  }
 ],
 "metadata": {
  "kernelspec": {
   "display_name": "Python 3",
   "language": "python",
   "name": "python3"
  },
  "language_info": {
   "codemirror_mode": {
    "name": "ipython",
    "version": 3
   },
   "file_extension": ".py",
   "mimetype": "text/x-python",
   "name": "python",
   "nbconvert_exporter": "python",
   "pygments_lexer": "ipython3",
   "version": "3.8.3"
  }
 },
 "nbformat": 4,
 "nbformat_minor": 1
}
